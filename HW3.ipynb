{
 "cells": [
  {
   "cell_type": "markdown",
   "id": "9e26f8eb",
   "metadata": {},
   "source": [
    "**IMPORTANT** <br> <ul> <li> Do **NOT** replace or remove this notebook (ipynb file)! Each cell has unique nbgrader's metadata and ID which, if changed outside the nbgrader, cannot pass the tests. Do **NOT** change the name of the file!</li> <li> To receive any credit, don't forget to **SUBMIT** your notebook when you are done! You can have multiple submissions before the deadline; only the last one is saved, including its timestamp.</li> <li>Before submitting, **Validate** your notebook to check if your codes pass all visible tests. </li> <li>Make sure you fill in any cell with the comment `# your code here`. Remove or comment the command `fail()` (in R), or `raise NotImplementedError` (in Python) and place your code there </li> </ul>"
   ]
  },
  {
   "cell_type": "code",
   "execution_count": 3,
   "id": "48b9380b",
   "metadata": {},
   "outputs": [],
   "source": [
    "NAME = \"Bhavya Patel\""
   ]
  },
  {
   "cell_type": "markdown",
   "id": "4cf149d7",
   "metadata": {},
   "source": [
    "---"
   ]
  },
  {
   "cell_type": "code",
   "execution_count": 4,
   "id": "4518db0b",
   "metadata": {
    "deletable": false,
    "editable": false,
    "nbgrader": {
     "cell_type": "code",
     "checksum": "2cde9ea98af6e5571191fde345e3e70a",
     "grade": false,
     "grade_id": "cell-92816253566603a5",
     "locked": true,
     "schema_version": 3,
     "solution": false,
     "task": false
    }
   },
   "outputs": [],
   "source": [
    "## import libraries needed\n",
    "## make sure you run this code first!\n",
    "\n",
    "library(testthat)\n",
    "library(digest)\n",
    "library(stringr)"
   ]
  },
  {
   "cell_type": "markdown",
   "id": "4616906e",
   "metadata": {
    "deletable": false,
    "editable": false,
    "nbgrader": {
     "cell_type": "markdown",
     "checksum": "24d1d744d002adbddc2a2bfdde20298e",
     "grade": false,
     "grade_id": "cell-fbc162d6c20b669d",
     "locked": true,
     "schema_version": 3,
     "solution": false,
     "task": false
    }
   },
   "source": [
    "### Question 1\n",
    "\n",
    "Let $X$ be the number of times six appears in 10 rolls of a die.\n",
    "\n",
    "<br>\n",
    "\n",
    "#### Part (a) \n",
    "\n",
    "Find $E[X]$, the expected value of $X$. Store this value as R variable `EX` (both capital letters), so that your answer should be \n",
    "\n",
    "`EX = <some expression>`\n",
    "\n",
    "Do **not** round your answer."
   ]
  },
  {
   "cell_type": "code",
   "execution_count": 5,
   "id": "3eba48e9",
   "metadata": {
    "deletable": false,
    "nbgrader": {
     "cell_type": "code",
     "checksum": "ac560d3f234325e8b7c398e67e6fcb27",
     "grade": false,
     "grade_id": "cell-0f8451d607fed816",
     "locked": false,
     "schema_version": 3,
     "solution": true,
     "task": false
    }
   },
   "outputs": [],
   "source": [
    "\n",
    "EX=10*(1/6)\n",
    "\n"
   ]
  },
  {
   "cell_type": "code",
   "execution_count": 6,
   "id": "fe128fc7",
   "metadata": {
    "deletable": false,
    "editable": false,
    "nbgrader": {
     "cell_type": "code",
     "checksum": "16242c03e1eaf82ec53f0f9046572498",
     "grade": true,
     "grade_id": "cell-ca64851fc2df4039",
     "locked": true,
     "points": 0,
     "schema_version": 3,
     "solution": false,
     "task": false
    }
   },
   "outputs": [
    {
     "name": "stdout",
     "output_type": "stream",
     "text": [
      "\u001b[32mTest passed\u001b[39m 😸\n"
     ]
    }
   ],
   "source": [
    "## check whether EX is numeric\n",
    "\n",
    "if (test_that(desc=\"\", code={\n",
    "    expect_equal( is.numeric(EX), TRUE)\n",
    "    }) != TRUE) stop(\"Sorry, the answer should be numeric.\")"
   ]
  },
  {
   "cell_type": "code",
   "execution_count": 7,
   "id": "22d4f6dc",
   "metadata": {
    "deletable": false,
    "editable": false,
    "nbgrader": {
     "cell_type": "code",
     "checksum": "67c270ee9a73fae0ba87b431871d84f1",
     "grade": true,
     "grade_id": "cell-cc96ab5b178decf5",
     "locked": true,
     "points": 5,
     "schema_version": 3,
     "solution": false,
     "task": false
    }
   },
   "outputs": [],
   "source": [
    "## check whether EX is correct (hidden tests)\n"
   ]
  },
  {
   "cell_type": "markdown",
   "id": "74a4f2e5",
   "metadata": {
    "deletable": false,
    "editable": false,
    "nbgrader": {
     "cell_type": "markdown",
     "checksum": "27ef43a13044137f60dfc2e51269f3e3",
     "grade": false,
     "grade_id": "cell-e53bcef0c278b312",
     "locked": true,
     "schema_version": 3,
     "solution": false,
     "task": false
    }
   },
   "source": [
    "#### Part (b)\n",
    "\n",
    "Find $\\text{var}[X]$, the variance of the random variable $X$. Store this value as R variable `varX` (capital X), so that your answer should be \n",
    "\n",
    "`varX = <some expression>`\n",
    "\n",
    "Do **not** round your answer."
   ]
  },
  {
   "cell_type": "code",
   "execution_count": 11,
   "id": "10c32270",
   "metadata": {
    "deletable": false,
    "nbgrader": {
     "cell_type": "code",
     "checksum": "d02c232b27fe5aefee2d46eba097ec04",
     "grade": false,
     "grade_id": "cell-240ee6cc5c8601e7",
     "locked": false,
     "schema_version": 3,
     "solution": true,
     "task": false
    }
   },
   "outputs": [],
   "source": [
    "varX=10*(1/6)*(5/6)\n"
   ]
  },
  {
   "cell_type": "code",
   "execution_count": 12,
   "id": "250840e0",
   "metadata": {
    "deletable": false,
    "editable": false,
    "nbgrader": {
     "cell_type": "code",
     "checksum": "89ab7dcd08153e4e425b6b557a38319e",
     "grade": true,
     "grade_id": "cell-793d06312c324efc",
     "locked": true,
     "points": 0,
     "schema_version": 3,
     "solution": false,
     "task": false
    }
   },
   "outputs": [
    {
     "name": "stdout",
     "output_type": "stream",
     "text": [
      "\u001b[32mTest passed\u001b[39m 🥳\n"
     ]
    }
   ],
   "source": [
    "## check whether varX is numeric\n",
    "\n",
    "if (test_that(desc=\"\", code={\n",
    "    expect_equal( is.numeric(EX), TRUE)\n",
    "    }) != TRUE) stop(\"Sorry, the answer should be numeric.\")"
   ]
  },
  {
   "cell_type": "code",
   "execution_count": 13,
   "id": "46b2b92f",
   "metadata": {
    "deletable": false,
    "editable": false,
    "nbgrader": {
     "cell_type": "code",
     "checksum": "0d2356275ef35a20279f09f62e2e06ed",
     "grade": true,
     "grade_id": "cell-d7d6622f07074603",
     "locked": true,
     "points": 5,
     "schema_version": 3,
     "solution": false,
     "task": false
    }
   },
   "outputs": [],
   "source": [
    "## check whether varX is correct (hidden tests)\n"
   ]
  },
  {
   "cell_type": "markdown",
   "id": "78b62579",
   "metadata": {
    "deletable": false,
    "editable": false,
    "nbgrader": {
     "cell_type": "markdown",
     "checksum": "c132798b15064c03ad57ca1832363e1f",
     "grade": false,
     "grade_id": "cell-78e72ecd7eaca77c",
     "locked": true,
     "schema_version": 3,
     "solution": false,
     "task": false
    }
   },
   "source": [
    "\n",
    "### Question 2\n",
    "\n",
    "Let $X$ be a random variable which takes values from the range $R_X=\\{-1,0,1,2,3\\}$, and whose distribution is given by the following table. \n",
    "\n",
    "<br>\n",
    "\n",
    "<center>\n",
    "<table style=\"border:1px solid black\">\n",
    "   <tr style=\"border:1px solid black\">\n",
    "    <td style=\"border:1px solid black\">$x$</td>\n",
    "    <td style=\"border:1px solid black; text-align:center; text-align:center; text-align:center; text-align:center; text-align:center\">$-1$</td>\n",
    "    <td style=\"border:1px solid black; text-align:center\">$0$</td>\n",
    "    <td style=\"border:1px solid black; text-align:center\">$1$</td>\n",
    "    <td style=\"border:1px solid black; text-align:center\">$2$</td>\n",
    "    <td style=\"border:1px solid black; text-align:center\">$3$</td>\n",
    "  </tr>\n",
    "  <tr>\n",
    "    <td style=\"border:1px solid black\">$P(X=x)$</td>\n",
    "    <td style=\"border:1px solid black; text-align:center\">$0.1$</td>\n",
    "    <td style=\"border:1px solid black; text-align:center\">$0.3$</td>\n",
    "    <td style=\"border:1px solid black; text-align:center\">$0.35$</td>\n",
    "    <td style=\"border:1px solid black; text-align:center\">$0.2$</td>\n",
    "    <td style=\"border:1px solid black; text-align:center\">$??$</td>\n",
    "  </tr>\n",
    "</table>\n",
    "</center>\n",
    "\n",
    "<br>\n",
    "\n",
    "***Note:*** You need to find $P(X=3)$, i.e. missing \"??\".\n",
    "\n",
    "<br>\n",
    "\n",
    "#### Part (a)\n",
    "\n",
    "Find $E[X]$, the expected value of $X$. Store this value as R variable `EX` (both capital letters), so that your answer should be \n",
    "\n",
    "`EX = <some expression>`\n",
    "\n",
    "Do **not** round your answer.\n",
    "\n",
    "***Hint:***  Recall that the R operation `*` is the entry-wise product, when applied on two vectors of the same length. That is, if $a=(a_1,a_2,...,a_m)$ and $b=(b_1,b_2,...,b_m)$, then `a * b` gives us the vector $(a_1\\cdot b_1,a_2\\cdot b_2,...,a_m\\cdot b_m)$. Also, you may want to use the R function `sum()`. <br>\n",
    "\n",
    "<br>\n",
    "\n"
   ]
  },
  {
   "cell_type": "code",
   "execution_count": 14,
   "id": "28ca0c9b",
   "metadata": {
    "deletable": false,
    "nbgrader": {
     "cell_type": "code",
     "checksum": "246200af6c81930e9eff33f27ac6dfc2",
     "grade": false,
     "grade_id": "cell-4afb3cb5c657cd49",
     "locked": false,
     "schema_version": 3,
     "solution": true,
     "task": false
    }
   },
   "outputs": [],
   "source": [
    "x = c(-1, 0, 1, 2, 3)\n",
    "p = c(0.1, 0.3, 0.35, 0.2, 0.05)\n",
    "EX = sum(x * p)\n",
    "\n",
    "\n"
   ]
  },
  {
   "cell_type": "code",
   "execution_count": 15,
   "id": "735d04bd",
   "metadata": {
    "deletable": false,
    "editable": false,
    "nbgrader": {
     "cell_type": "code",
     "checksum": "2d2eb91bcff46588931ac1169510e097",
     "grade": true,
     "grade_id": "cell-9062e41e158d19ab",
     "locked": true,
     "points": 0,
     "schema_version": 3,
     "solution": false,
     "task": false
    }
   },
   "outputs": [
    {
     "name": "stdout",
     "output_type": "stream",
     "text": [
      "\u001b[32mTest passed\u001b[39m 😀\n",
      "\u001b[32mTest passed\u001b[39m 🎊\n"
     ]
    }
   ],
   "source": [
    "## check whether EX is numeric and between -1 and 3 (it can't be out of the range of X)\n",
    "\n",
    "if (test_that(desc=\"\", code={\n",
    "    expect_equal( is.numeric(EX), TRUE)\n",
    "    }) != TRUE) stop(\"Sorry, the answer should be numeric.\")\n",
    "\n",
    "if (test_that(desc=\"\", code={\n",
    "    expect_equal( (-1 <= EX) & (EX <= 3), TRUE)\n",
    "    }) != TRUE) stop(\"Sorry, the answer should be numeric.\")\n"
   ]
  },
  {
   "cell_type": "code",
   "execution_count": 16,
   "id": "aa5c494a",
   "metadata": {
    "deletable": false,
    "editable": false,
    "nbgrader": {
     "cell_type": "code",
     "checksum": "608216406e5fab158a6369f52a748de7",
     "grade": true,
     "grade_id": "cell-62310e5da3af4d86",
     "locked": true,
     "points": 4,
     "schema_version": 3,
     "solution": false,
     "task": false
    }
   },
   "outputs": [],
   "source": [
    "## check whether varX is correct (hidden tests)\n"
   ]
  },
  {
   "cell_type": "markdown",
   "id": "db2d2e6e",
   "metadata": {
    "deletable": false,
    "editable": false,
    "nbgrader": {
     "cell_type": "markdown",
     "checksum": "85ac57ced3b034eb6e24772f5a636a7b",
     "grade": false,
     "grade_id": "cell-cb112449019366d6",
     "locked": true,
     "schema_version": 3,
     "solution": false,
     "task": false
    }
   },
   "source": [
    "#### Part (b)\n",
    "\n",
    "Find $E[X^2]$. Store this value as R variable `EXsq`, so that your answer should be \n",
    "\n",
    "`EXsq = <some expression>`\n",
    "\n",
    "Do **not** round your answer.\n",
    "\n",
    "<br>\n"
   ]
  },
  {
   "cell_type": "code",
   "execution_count": 17,
   "id": "5e1faeac",
   "metadata": {
    "deletable": false,
    "nbgrader": {
     "cell_type": "code",
     "checksum": "c9b12111db845757a82928fcc0351f12",
     "grade": false,
     "grade_id": "cell-00167de87bbd112d",
     "locked": false,
     "schema_version": 3,
     "solution": true,
     "task": false
    }
   },
   "outputs": [],
   "source": [
    "EXsq = sum(x * x * p)\n",
    "\n"
   ]
  },
  {
   "cell_type": "code",
   "execution_count": 18,
   "id": "1de1630c",
   "metadata": {
    "deletable": false,
    "editable": false,
    "nbgrader": {
     "cell_type": "code",
     "checksum": "26eb2f3c6a45ca094c412e655c8aec4a",
     "grade": true,
     "grade_id": "cell-80ffa239d8d9f9dc",
     "locked": true,
     "points": 1,
     "schema_version": 3,
     "solution": false,
     "task": false
    }
   },
   "outputs": [
    {
     "name": "stdout",
     "output_type": "stream",
     "text": [
      "\u001b[32mTest passed\u001b[39m 🎊\n"
     ]
    }
   ],
   "source": [
    "## check whether EXsq is between (-1)^2 and 3^2\n",
    "\n",
    "if (test_that(desc=\"\", code={\n",
    "    expect_equal( (1 <= EXsq) & (EXsq <= 9), TRUE)\n",
    "    }) != TRUE) stop(\"Sorry, the answer should be numeric.\")"
   ]
  },
  {
   "cell_type": "code",
   "execution_count": 19,
   "id": "aa7bfaa8",
   "metadata": {
    "deletable": false,
    "editable": false,
    "nbgrader": {
     "cell_type": "code",
     "checksum": "015be248a942e0cdc1859116905331be",
     "grade": true,
     "grade_id": "cell-f0036fe180dffdac",
     "locked": true,
     "points": 4,
     "schema_version": 3,
     "solution": false,
     "task": false
    }
   },
   "outputs": [],
   "source": [
    "## check whether EXsq is correct (hidden tests)\n"
   ]
  },
  {
   "cell_type": "markdown",
   "id": "760f5344",
   "metadata": {
    "deletable": false,
    "editable": false,
    "nbgrader": {
     "cell_type": "markdown",
     "checksum": "8122bcb2a09077835f807685f06956af",
     "grade": false,
     "grade_id": "cell-2ca23657af1ceaf8",
     "locked": true,
     "schema_version": 3,
     "solution": false,
     "task": false
    }
   },
   "source": [
    "#### Part (c)\n",
    "\n",
    "Find $\\text{var}[X]$, the variance of the random variable $X$. Store this value as R variable `varX` (capital X), so that your answer should be \n",
    "\n",
    "`varX = <some expression>`\n",
    "\n",
    "Do **not** round your answer.\n",
    "\n",
    "***Hint:*** You can express $\\text{var}[X]$ either using the previous two parts, or else, directly, using the definition of $\\text{var}[X]$. (The former way is common when you need to compute it manually, like on an exam). \n",
    "\n",
    "<br>"
   ]
  },
  {
   "cell_type": "code",
   "execution_count": 20,
   "id": "4ba2d792",
   "metadata": {
    "deletable": false,
    "nbgrader": {
     "cell_type": "code",
     "checksum": "14b87cddf83ddec310c1c18c6628e7fb",
     "grade": false,
     "grade_id": "cell-aa66eb4f6d4113c6",
     "locked": false,
     "schema_version": 3,
     "solution": true,
     "task": false
    }
   },
   "outputs": [],
   "source": [
    "\n",
    "vaxX = sum(x * p * (1-p))\n"
   ]
  },
  {
   "cell_type": "code",
   "execution_count": 21,
   "id": "73482ec8",
   "metadata": {
    "deletable": false,
    "editable": false,
    "nbgrader": {
     "cell_type": "code",
     "checksum": "6f0c5ac66cbc224768992692aca113d0",
     "grade": true,
     "grade_id": "cell-1e9419208de3075a",
     "locked": true,
     "points": 1,
     "schema_version": 3,
     "solution": false,
     "task": false
    }
   },
   "outputs": [
    {
     "name": "stdout",
     "output_type": "stream",
     "text": [
      "\u001b[32mTest passed\u001b[39m 😀\n"
     ]
    }
   ],
   "source": [
    "## check whether varX is non-negative\n",
    "\n",
    "if (test_that(desc=\"\", code={\n",
    "    expect_equal( varX >= 0, TRUE)\n",
    "    }) != TRUE) stop(\"Sorry, the answer should be numeric.\")"
   ]
  },
  {
   "cell_type": "code",
   "execution_count": 22,
   "id": "7c2616a1",
   "metadata": {
    "deletable": false,
    "editable": false,
    "nbgrader": {
     "cell_type": "code",
     "checksum": "d88ad57e4937b484ce7ca8e81cdeaa87",
     "grade": true,
     "grade_id": "cell-62bf4d2a44f67dcf",
     "locked": true,
     "points": 4,
     "schema_version": 3,
     "solution": false,
     "task": false
    }
   },
   "outputs": [],
   "source": [
    "## check whether varX is correct (hidden tests)\n"
   ]
  },
  {
   "cell_type": "markdown",
   "id": "240c5c76",
   "metadata": {
    "deletable": false,
    "editable": false,
    "nbgrader": {
     "cell_type": "markdown",
     "checksum": "222ec18a5a54627c5fbe1662bbc458a2",
     "grade": false,
     "grade_id": "cell-8c9bb8f0794c4c16",
     "locked": true,
     "schema_version": 3,
     "solution": false,
     "task": false
    }
   },
   "source": [
    "### Question 3\n",
    "\n",
    "A mechanical assembly consists of a rod with a bearing on each end (see the picture below). The three parts are manufactured independently, and all vary a bit from one part (i.e. unit) to another. The width of a randomly chosen bearing has mean $\\mu_B=30$ mm and standard deviation $\\sigma_B=0.002$ mm. The length of a randomly chosen rod (not counting its ends that go into bearings) has mean $\\mu_R=140$ millimeters (mm) and standard deviation $\\sigma_R = 0.003$ mm. \n",
    "\n",
    "<br>\n",
    "\n",
    "<img src=\"hw3-pic1.jpg\" width=\"350\">\n",
    "\n",
    "<br>\n",
    "\n",
    "What are the mean $\\mu_A$ and the standard deviation $\\sigma_A$ of the total length of the assembly? Store the value $\\mu_A$ as the R variable `muA` (capital A) and the value $\\sigma_A$ as the R varible `sigA` (capital A). So, your answer should be \n",
    "\n",
    "`muA = <some expression>` <br>\n",
    "`sigA = <some expression>`\n",
    "\n",
    "Do **not** round your answer.\n",
    "\n",
    "<br>\n"
   ]
  },
  {
   "cell_type": "code",
   "execution_count": 25,
   "id": "6d5a1ddd",
   "metadata": {
    "deletable": false,
    "nbgrader": {
     "cell_type": "code",
     "checksum": "94aec482455a9961b7b6870095b7a841",
     "grade": false,
     "grade_id": "cell-d1dc4f78e2145019",
     "locked": false,
     "schema_version": 3,
     "solution": true,
     "task": false
    }
   },
   "outputs": [],
   "source": [
    "\n",
    "muB = 30\n",
    "sigB = 0.002\n",
    "muR = 140\n",
    "sigR = 0.003\n",
    "\n",
    "muA = (muR + 2*muB)\n",
    "sigA = sqrt(sigR^2 + 2 * sigB^2)\n"
   ]
  },
  {
   "cell_type": "code",
   "execution_count": 26,
   "id": "6cf9f98e",
   "metadata": {
    "deletable": false,
    "editable": false,
    "nbgrader": {
     "cell_type": "code",
     "checksum": "26abe7796d8c4238ace12f2fdd1c4f4e",
     "grade": true,
     "grade_id": "cell-161a549c7cdc647e",
     "locked": true,
     "points": 1,
     "schema_version": 3,
     "solution": false,
     "task": false
    }
   },
   "outputs": [
    {
     "name": "stdout",
     "output_type": "stream",
     "text": [
      "\u001b[32mTest passed\u001b[39m 🎉\n",
      "\u001b[32mTest passed\u001b[39m 🥳\n",
      "\u001b[32mTest passed\u001b[39m 😸\n"
     ]
    }
   ],
   "source": [
    "## check whether muA and sigA are numeric and whether the 6th and 7th decimal digits of sigA are 31\n",
    "\n",
    "if (test_that(desc=\"\", code={\n",
    "    expect_equal( is.numeric(muA), TRUE)\n",
    "    }) != TRUE) stop(\"Sorry, muA is not numeric.\")\n",
    "\n",
    "if (test_that(desc=\"\", code={\n",
    "    expect_equal( is.numeric(sigA), TRUE)\n",
    "    }) != TRUE) stop(\"Sorry, sigA is not numeric.\")\n",
    "\n",
    "if (test_that(desc=\"\", code={\n",
    "    expect_equal( (floor(sigA*10^7) %% 100 == 31), TRUE)\n",
    "    }) != TRUE) stop(\"Sorry, your pk is incorrect.\")"
   ]
  },
  {
   "cell_type": "code",
   "execution_count": 27,
   "id": "d56168dd",
   "metadata": {
    "deletable": false,
    "editable": false,
    "nbgrader": {
     "cell_type": "code",
     "checksum": "ebca7146d67c7d9e59d2bfdef32aa4f2",
     "grade": true,
     "grade_id": "cell-9f17b289dd6b894b",
     "locked": true,
     "points": 5,
     "schema_version": 3,
     "solution": false,
     "task": false
    }
   },
   "outputs": [],
   "source": [
    "## check whether muA is correct (hidden tests)\n",
    "\n"
   ]
  },
  {
   "cell_type": "code",
   "execution_count": 28,
   "id": "cfb2d0ba",
   "metadata": {
    "deletable": false,
    "editable": false,
    "nbgrader": {
     "cell_type": "code",
     "checksum": "ce0fc0438352b182909a0e4a3de6780c",
     "grade": true,
     "grade_id": "cell-f2014ea25af15022",
     "locked": true,
     "points": 5,
     "schema_version": 3,
     "solution": false,
     "task": false
    }
   },
   "outputs": [],
   "source": [
    "## check whether sigA is correct (hidden tests)\n"
   ]
  },
  {
   "cell_type": "markdown",
   "id": "3c1a0368",
   "metadata": {
    "deletable": false,
    "editable": false,
    "nbgrader": {
     "cell_type": "markdown",
     "checksum": "2fb44374a137c03c6f6773c10efe205e",
     "grade": false,
     "grade_id": "cell-aef34d43747a8e30",
     "locked": true,
     "schema_version": 3,
     "solution": false,
     "task": false
    }
   },
   "source": [
    "### Question 4\n",
    "\n",
    "On a fish farm, 100 carps were released in a certain fishpond (previosly not containing any fish). Of these 100 carps, 40 carps were previously labeled and treated under some novel, experimental conditions, before they were put into this new fishpond together with the other 60 carps. Further growth of the two types of carp (labeled and not labeled) will then be observed. \n",
    "\n",
    "A certain trap with 10 entrances, each being able to catch only one fish, is used once a week, to catch 10 fish for the purpose of monitoring labeled and non-labeled fish. Assume that in each cast of the trap all entrances successfully capture a single fish each, and that all groups of 10 fish are equally likely to be caught.\n",
    "\n",
    "Let $X$ be the number of labeled carp caught (out of 10 fish) in a single cast of the trap (i.e. in a single week).\n",
    "\n",
    "Note that the range of $X$ (i.e. the set of all possible values of $X$)  is $R_X=\\{0,1,2,...,10\\}$.\n",
    "\n",
    "<br>\n",
    "\n",
    "#### Part (a)\n",
    "\n",
    "Create a vector `pk` of values $P(X=k)$, $k=0,1,...,10$. So, the length of the vector `pk` should be 11, with first entry being $P(X=0)$, the second entry should be $P(X=1)$, and so on. Your answer should be of the form \n",
    "\n",
    "`pk = <some expression>`\n",
    "\n",
    "Do **not** round your answer!\n",
    "\n",
    "\n",
    "***Hint:*** \n",
    "- Keep in mind that the R operation `*` is the entry-wise product, when applied on two vectors of the same length. That is, if $a=(a_1,a_2,...,a_m)$ and $b=(b_1,b_2,...,b_m)$, then `a * b` gives us the vector $(a_1\\cdot b_1,a_2\\cdot b_2,...,a_m\\cdot b_m)$.  <br>\n",
    "- Also, note that if `a` is a vector $a=(a_1,a_2,a_3,...,a_m)$ and `n` is a whole number, then the output of the R command `choose(n,a)` is the vector $({n \\choose a_1}, {n \\choose a_2}, {n \\choose a_3}, ... , {n \\choose a_m})$. <br> \n",
    "\n",
    "After figuring out the mathematical formula/expression for $P(X=k)$ for each $k\\in R_X$, you can use these two facts to easily compute vector `pk` in just one line of the code (although it doesn't have to be a single line).\n",
    "\n",
    "Do **not** round your answer!\n",
    "\n",
    "<br>\n",
    "\n",
    "\n"
   ]
  },
  {
   "cell_type": "code",
   "execution_count": 31,
   "id": "263c400d",
   "metadata": {
    "deletable": false,
    "nbgrader": {
     "cell_type": "code",
     "checksum": "a403a4e1933a53e6ffc359890b7f6c37",
     "grade": false,
     "grade_id": "cell-f487929aec200790",
     "locked": false,
     "schema_version": 3,
     "solution": true,
     "task": false
    }
   },
   "outputs": [],
   "source": [
    "\n",
    "m=40\n",
    "n=60\n",
    "k=10\n",
    "pk = choose(m, 0:k) * choose(n, k:0) / choose(m + n, k)\n"
   ]
  },
  {
   "cell_type": "code",
   "execution_count": 32,
   "id": "c19e8c3c",
   "metadata": {
    "deletable": false,
    "editable": false,
    "nbgrader": {
     "cell_type": "code",
     "checksum": "aa90b7dfd4449208e1fc499b52e0f5cd",
     "grade": true,
     "grade_id": "cell-3ad676d40a03fad4",
     "locked": true,
     "points": 0,
     "schema_version": 3,
     "solution": false,
     "task": false
    }
   },
   "outputs": [
    {
     "name": "stdout",
     "output_type": "stream",
     "text": [
      "\u001b[32mTest passed\u001b[39m 🌈\n",
      "\u001b[32mTest passed\u001b[39m 🎉\n"
     ]
    }
   ],
   "source": [
    "## check whether pk is a probability vector (all entries in [0,1] and they sum up to 1)\n",
    "\n",
    "if (test_that(desc=\"\", code={\n",
    "    expect_equal( all((0 <= pk) & (pk <= 1)), TRUE)\n",
    "    }) != TRUE) stop(\"Sorry, all entries of pk should be in [0,1]\")\n",
    "\n",
    "if (test_that(desc=\"\", code={\n",
    "    expect_equal( abs(sum(pk)-1) < 1e-9, TRUE)\n",
    "    }) != TRUE) stop(\"Sorry, the entries of pk should sum up to 1\")"
   ]
  },
  {
   "cell_type": "code",
   "execution_count": 33,
   "id": "84990380",
   "metadata": {
    "deletable": false,
    "editable": false,
    "nbgrader": {
     "cell_type": "code",
     "checksum": "024521bef78d5044376cbf25f38ea706",
     "grade": true,
     "grade_id": "cell-9e34ff823ec8fdc2",
     "locked": true,
     "points": 0,
     "schema_version": 3,
     "solution": false,
     "task": false
    }
   },
   "outputs": [
    {
     "name": "stdout",
     "output_type": "stream",
     "text": [
      "\u001b[32mTest passed\u001b[39m 😀\n"
     ]
    }
   ],
   "source": [
    "## check whether the 6th and 7th digit of pk[4] (i.e. of P(X=3)) are 07\n",
    "\n",
    "if (test_that(desc=\"\", code={\n",
    "    expect_equal( (floor(pk[4]*10^7) %% 100 == 07), TRUE)\n",
    "    }) != TRUE) stop(\"Sorry, your pk is incorrect.\")"
   ]
  },
  {
   "cell_type": "code",
   "execution_count": 34,
   "id": "6b8f56ff",
   "metadata": {
    "deletable": false,
    "editable": false,
    "nbgrader": {
     "cell_type": "code",
     "checksum": "66dbe53d93c2b5dacd808815a7b05b77",
     "grade": true,
     "grade_id": "cell-0894cf427cef2c54",
     "locked": true,
     "points": 3,
     "schema_version": 3,
     "solution": false,
     "task": false
    }
   },
   "outputs": [],
   "source": [
    "## check whether the answer is correct (hidden tests)\n",
    "\n"
   ]
  },
  {
   "cell_type": "markdown",
   "id": "001e7718",
   "metadata": {
    "deletable": false,
    "editable": false,
    "nbgrader": {
     "cell_type": "markdown",
     "checksum": "01dc6b0f91ced0189ca898314850da2e",
     "grade": false,
     "grade_id": "cell-e7638f6d40c174bc",
     "locked": true,
     "schema_version": 3,
     "solution": false,
     "task": false
    }
   },
   "source": [
    "#### Part (b)\n",
    "\n",
    "Find $\\mu = E[X]$, the expected value of $X$. Store this value as R variable `mu` (both capital letters), so that your answer should be \n",
    "\n",
    "`mu = <some expression>`\n",
    "\n",
    "Do **not** round your answer.\n",
    "\n",
    "***Hint:*** Do not overthink. Using part (a), the answer to this part should be easy.\n",
    "\n",
    "<br>"
   ]
  },
  {
   "cell_type": "code",
   "execution_count": 35,
   "id": "0c75433e",
   "metadata": {
    "deletable": false,
    "nbgrader": {
     "cell_type": "code",
     "checksum": "d7e6371b1af1af62e30e72fc1edc96b1",
     "grade": false,
     "grade_id": "cell-1ce898db6b4b4a85",
     "locked": false,
     "schema_version": 3,
     "solution": true,
     "task": false
    }
   },
   "outputs": [],
   "source": [
    "\n",
    "mu=k*(m/(m+n))\n"
   ]
  },
  {
   "cell_type": "code",
   "execution_count": 36,
   "id": "3a0ec59b",
   "metadata": {
    "deletable": false,
    "editable": false,
    "nbgrader": {
     "cell_type": "code",
     "checksum": "79bf9576c876dd5ba0b4e22305e9a8b5",
     "grade": true,
     "grade_id": "cell-3f0ad009e29785f7",
     "locked": true,
     "points": 0,
     "schema_version": 3,
     "solution": false,
     "task": false
    }
   },
   "outputs": [
    {
     "name": "stdout",
     "output_type": "stream",
     "text": [
      "\u001b[32mTest passed\u001b[39m 😸\n",
      "\u001b[32mTest passed\u001b[39m 🎊\n"
     ]
    }
   ],
   "source": [
    "## check whether mu is numeric value between 3.6 and 4.7\n",
    "\n",
    "if (test_that(desc=\"\", code={\n",
    "    expect_equal( is.numeric(mu), TRUE)\n",
    "    }) != TRUE) stop(\"Sorry, mu should be numeric.\")\n",
    "\n",
    "if (test_that(desc=\"\", code={\n",
    "    expect_equal( (3.6 <= mu) & (mu <= 4.7), TRUE)\n",
    "    }) != TRUE) stop(\"Sorry, mu should be in the interval [3.6,4.7].\")\n"
   ]
  },
  {
   "cell_type": "code",
   "execution_count": 37,
   "id": "6ec2781c",
   "metadata": {
    "deletable": false,
    "editable": false,
    "nbgrader": {
     "cell_type": "code",
     "checksum": "e765f5ff709740975348234c6b467ad0",
     "grade": true,
     "grade_id": "cell-9c5d64a6e87f71cd",
     "locked": true,
     "points": 3,
     "schema_version": 3,
     "solution": false,
     "task": false
    }
   },
   "outputs": [],
   "source": [
    "## check whether the answer is correct (hidden tests)\n"
   ]
  },
  {
   "cell_type": "markdown",
   "id": "e8a2cefa",
   "metadata": {
    "deletable": false,
    "editable": false,
    "nbgrader": {
     "cell_type": "markdown",
     "checksum": "613565acc0cd074f0ca139d01cd1061c",
     "grade": false,
     "grade_id": "cell-b0c48b76efa24f7c",
     "locked": true,
     "schema_version": 3,
     "solution": false,
     "task": false
    }
   },
   "source": [
    "#### Part (c)\n",
    "\n",
    "\n",
    "Find $\\sigma^2 = \\text{var}[X]$, the variance of the random variable $X$. Store this value as R variable `sigsq`, so that your answer should be \n",
    "\n",
    "`sigsq = <some expression>`\n",
    "\n",
    "Do **not** round your answer.\n",
    "\n",
    "***Hint:*** Do not overthink. Using the results in parts (a) and (b), this should not be complicated.\n",
    "\n",
    "<br>"
   ]
  },
  {
   "cell_type": "code",
   "execution_count": 42,
   "id": "6f2e40c7",
   "metadata": {
    "deletable": false,
    "nbgrader": {
     "cell_type": "code",
     "checksum": "1d9bb7c527bbba546e3489bab6973946",
     "grade": false,
     "grade_id": "cell-43247c5eab716d72",
     "locked": false,
     "schema_version": 3,
     "solution": true,
     "task": false
    }
   },
   "outputs": [],
   "source": [
    "\n",
    "sigsq = k * (m / (m+n)) * (n / (m+n)) * ((m+n-k) / (m+n-1))\n"
   ]
  },
  {
   "cell_type": "code",
   "execution_count": 43,
   "id": "bd9b17a5",
   "metadata": {
    "deletable": false,
    "editable": false,
    "nbgrader": {
     "cell_type": "code",
     "checksum": "3e3607b63567b31594d5910448a1df22",
     "grade": true,
     "grade_id": "cell-a850a4f5298211ee",
     "locked": true,
     "points": 0,
     "schema_version": 3,
     "solution": false,
     "task": false
    }
   },
   "outputs": [
    {
     "name": "stdout",
     "output_type": "stream",
     "text": [
      "\u001b[32mTest passed\u001b[39m 🌈\n"
     ]
    }
   ],
   "source": [
    "## check whether the 6th and 7th decimal digits of sigsq are 81\n",
    "\n",
    "if (test_that(desc=\"\", code={\n",
    "    expect_equal( (floor(sigsq*10^7) %% 100 == 81), TRUE)\n",
    "    }) != TRUE) stop(\"Sorry, your pk is incorrect.\")\n"
   ]
  },
  {
   "cell_type": "code",
   "execution_count": 44,
   "id": "8d3eb0e2",
   "metadata": {
    "deletable": false,
    "editable": false,
    "nbgrader": {
     "cell_type": "code",
     "checksum": "5b18820be1ca5596d3743ab31163f571",
     "grade": true,
     "grade_id": "cell-a30a0066af5973a7",
     "locked": true,
     "points": 3,
     "schema_version": 3,
     "solution": false,
     "task": false
    }
   },
   "outputs": [],
   "source": [
    "## check whether the answer is correct (hidden tests)\n"
   ]
  },
  {
   "cell_type": "markdown",
   "id": "5f905914",
   "metadata": {
    "deletable": false,
    "editable": false,
    "nbgrader": {
     "cell_type": "markdown",
     "checksum": "a67cb85368e24174516ada9fb5cf66c7",
     "grade": false,
     "grade_id": "cell-198ef47e3958d36d",
     "locked": true,
     "schema_version": 3,
     "solution": false,
     "task": false
    }
   },
   "source": [
    "#### Part (d)\n",
    "\n",
    "Suppose the sample of 10 fish was being caught every week, for two years (i.e. for $2\\cdot 52 = 104$ weeks). If $X_i$ is the number of labeled fish (out of those 40) caught in the $i$-th week, i.e. in the $i$-th cast of the trap ($i=1,2,...,104$), then we collected a sample $(X_1,X_2,...,X_{104})$ of size $n=104$, from the population $X$. Let $\\bar{X}$ be the average number of labeled fish caught per one cast of the trap, i.e. $\\displaystyle \\bar{X} = {1\\over n}\\sum_{i=1}^n X_i = {1\\over 104}\\sum_{i=1}^{104}X_i$.\n",
    "\n",
    "Find $\\mu_{\\bar{X}}=E[\\bar{X}]$ and $\\sigma^2_{\\bar{X}}=\\text{var}[\\bar{X}]$, the mean (i.e. expected value) and the variance of the sample mean $\\bar{X}$. Store these two values as R variables `muxbar` (for $\\mu_{\\bar{X}}$) and `varxbar` (for $\\sigma^2_{\\bar{X}}$). So, your answer should be \n",
    "\n",
    "`muxbar = <some expression>` <br>\n",
    "`varxbar = <some expression>`\n",
    "\n",
    "You can help yourself by using previously created R variables `mu` and `sigsq`.\n",
    "\n",
    "Do **not** round your answer.\n",
    "\n",
    "<br>\n"
   ]
  },
  {
   "cell_type": "code",
   "execution_count": 48,
   "id": "955c9ff2",
   "metadata": {
    "deletable": false,
    "nbgrader": {
     "cell_type": "code",
     "checksum": "e855c81d439ea80b2d2894ce28e10411",
     "grade": false,
     "grade_id": "cell-19d1938b49aa4498",
     "locked": false,
     "schema_version": 3,
     "solution": true,
     "task": false
    }
   },
   "outputs": [],
   "source": [
    "\n",
    "muxbar = mu\n",
    "varxbar = sigsq / 104\n"
   ]
  },
  {
   "cell_type": "code",
   "execution_count": 49,
   "id": "bdbc5e27",
   "metadata": {
    "deletable": false,
    "editable": false,
    "nbgrader": {
     "cell_type": "code",
     "checksum": "7c88d0ad2c6b9201b772ce238873b2b5",
     "grade": true,
     "grade_id": "cell-c1441c7cd074c632",
     "locked": true,
     "points": 0,
     "schema_version": 3,
     "solution": false,
     "task": false
    }
   },
   "outputs": [
    {
     "name": "stdout",
     "output_type": "stream",
     "text": [
      "\u001b[32mTest passed\u001b[39m 🎊\n",
      "\u001b[32mTest passed\u001b[39m 😀\n"
     ]
    }
   ],
   "source": [
    "## check whether muxbar is numeric and whether the 6th and 7th digit of varxbar are 90\n",
    "\n",
    "\n",
    "if (test_that(desc=\"\", code={\n",
    "    expect_equal( is.numeric(muxbar), TRUE)\n",
    "    }) != TRUE) stop(\"Sorry, your pk is incorrect.\")\n",
    "\n",
    "if (test_that(desc=\"\", code={\n",
    "    expect_equal( (floor(varxbar*10^7) %% 100 == 90), TRUE)\n",
    "    }) != TRUE) stop(\"Sorry, your pk is incorrect.\")"
   ]
  },
  {
   "cell_type": "code",
   "execution_count": 50,
   "id": "f307d9f4",
   "metadata": {
    "deletable": false,
    "editable": false,
    "nbgrader": {
     "cell_type": "code",
     "checksum": "9345a7d015c237939a1a2880f5dccabd",
     "grade": true,
     "grade_id": "cell-290e6ed789cd12c4",
     "locked": true,
     "points": 3,
     "schema_version": 3,
     "solution": false,
     "task": false
    }
   },
   "outputs": [],
   "source": [
    "## check whether the answer is correct (hidden tests)\n"
   ]
  },
  {
   "cell_type": "markdown",
   "id": "dbf51ec0",
   "metadata": {
    "deletable": false,
    "editable": false,
    "nbgrader": {
     "cell_type": "markdown",
     "checksum": "0d402ec79ebabff2dc96ecbd4e48571c",
     "grade": false,
     "grade_id": "cell-9ffe1c307008157e",
     "locked": true,
     "schema_version": 3,
     "solution": false,
     "task": false
    }
   },
   "source": [
    "#### Part (e)\n",
    "\n",
    "Using the Central Limit Theorem, find the (approximate) probability that the average number of labeled fish per single cast (i.e. $\\bar{X}$) is not more than half of a fish away from the mean $\\mu$. That is, find $P(|\\bar{X}-\\mu|\\leq 0.5) = P(\\mu-0.5\\leq \\bar{X}\\leq \\mu + 0.5)$. Create R variable `prob` that stores this value, so that your answer is \n",
    "\n",
    "`prob = <some expression>`\n",
    "\n",
    "\n",
    "Do **not** round your answer. Although this is an approximation, your answer should be the exact value of the appropriate probability, which Central Limit Theorem guarantees to approximate the value of $P(|\\bar{X}-\\mu|\\leq 0.5)$.\n",
    "\n",
    "\n",
    "<br>\n"
   ]
  },
  {
   "cell_type": "code",
   "execution_count": 54,
   "id": "1758c41d",
   "metadata": {
    "deletable": false,
    "nbgrader": {
     "cell_type": "code",
     "checksum": "1ccdca362564cd432df4c3bd55656a99",
     "grade": false,
     "grade_id": "cell-2ba5a27e319f97f7",
     "locked": false,
     "schema_version": 3,
     "solution": true,
     "task": false
    }
   },
   "outputs": [],
   "source": [
    "\n",
    "l = -0.5 / sqrt(varxbar)\n",
    "u = 0.5 / sqrt(varxbar)\n",
    "prob = pnorm(u) - pnorm(l)\n"
   ]
  },
  {
   "cell_type": "code",
   "execution_count": 55,
   "id": "5c1268c9",
   "metadata": {
    "deletable": false,
    "editable": false,
    "nbgrader": {
     "cell_type": "code",
     "checksum": "c94b15b3a4fd714134550fa0115ab1af",
     "grade": true,
     "grade_id": "cell-362513b1edb734f7",
     "locked": true,
     "points": 0,
     "schema_version": 3,
     "solution": false,
     "task": false
    }
   },
   "outputs": [
    {
     "name": "stdout",
     "output_type": "stream",
     "text": [
      "\u001b[32mTest passed\u001b[39m 🌈\n"
     ]
    }
   ],
   "source": [
    "## check whether the 6th and 7th decimal digits of prob are 36\n",
    "\n",
    "if (test_that(desc=\"\", code={\n",
    "    expect_equal( (floor(prob*10^7) %% 100 == 36), TRUE)\n",
    "    }) != TRUE) stop(\"Sorry, your prob is incorrect.\")"
   ]
  },
  {
   "cell_type": "code",
   "execution_count": 56,
   "id": "bbaba399",
   "metadata": {
    "deletable": false,
    "editable": false,
    "nbgrader": {
     "cell_type": "code",
     "checksum": "34766776cd8e07ddd5deda88f559a0ab",
     "grade": true,
     "grade_id": "cell-e3a7bb2808b94b87",
     "locked": true,
     "points": 3,
     "schema_version": 3,
     "solution": false,
     "task": false
    }
   },
   "outputs": [],
   "source": [
    "## check whether the answer is correct (hidden tests)\n"
   ]
  }
 ],
 "metadata": {
  "kernelspec": {
   "display_name": "R",
   "language": "R",
   "name": "ir"
  },
  "language_info": {
   "codemirror_mode": "r",
   "file_extension": ".r",
   "mimetype": "text/x-r-source",
   "name": "R",
   "pygments_lexer": "r",
   "version": "4.3.3"
  }
 },
 "nbformat": 4,
 "nbformat_minor": 5
}
