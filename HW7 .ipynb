{
 "cells": [
  {
   "cell_type": "markdown",
   "id": "7f4a60aa",
   "metadata": {},
   "source": [
    "**IMPORTANT** <br> <ul> <li> Do **NOT** replace or remove this notebook (ipynb file)! Each cell has unique nbgrader's metadata and ID which, if changed outside the nbgrader, cannot pass the tests. Do **NOT** change the name of the file!</li> <li> To receive any credit, don't forget to **SUBMIT** your notebook when you are done! You can have multiple submissions before the deadline; only the last one is saved, including its timestamp.</li> <li>Before submitting, **Validate** your notebook to check if your codes pass all visible tests. </li> <li>Make sure you fill in any cell with the comment `# your code here`. Remove or comment the command `fail()` (in R), or `raise NotImplementedError` (in Python) and place your code there </li> </ul>"
   ]
  },
  {
   "cell_type": "code",
   "execution_count": 1,
   "id": "33b1f125",
   "metadata": {},
   "outputs": [],
   "source": [
    "NAME = \"Bhavya Patel\""
   ]
  },
  {
   "cell_type": "markdown",
   "id": "fab5a30e",
   "metadata": {},
   "source": [
    "---"
   ]
  },
  {
   "cell_type": "code",
   "execution_count": 2,
   "id": "452ba3bd",
   "metadata": {
    "deletable": false,
    "editable": false,
    "nbgrader": {
     "cell_type": "code",
     "checksum": "e678dcabb0152c99548f3af40d70c8f6",
     "grade": false,
     "grade_id": "cell-702e48d697295244",
     "locked": true,
     "schema_version": 3,
     "solution": false,
     "task": false
    }
   },
   "outputs": [],
   "source": [
    "## make sure you run this cell first (libraries used for testing)\n",
    "library(testthat)\n",
    "library(digest)\n",
    "library(stringr)"
   ]
  },
  {
   "cell_type": "markdown",
   "id": "7456ad64",
   "metadata": {
    "deletable": false,
    "editable": false,
    "nbgrader": {
     "cell_type": "markdown",
     "checksum": "5fd40a5eaf24cd0d5599ac5469621037",
     "grade": false,
     "grade_id": "cell-293e2ac05097cc2a",
     "locked": true,
     "schema_version": 3,
     "solution": false,
     "task": false
    }
   },
   "source": [
    "\n",
    "## Question 1\n",
    "\n",
    "The body fat percentage (BFP) of a human (or other species) is the ratio of total mass of fat and total body mass. It is used as a measure of fitness of an individual (for example, of athletes). \n",
    "\n",
    "In the library `faraway`, data frame `fat` contains data of 252 subjects. First two columns, `brozek` and `siri`, are estimates of BFP, based on Brozek and Siri formulas (as functions of body density).\n",
    "\n",
    "In this excercise we will use measurements of various body parts to estimate BFP. \n",
    "\n",
    "We wil use `brozek` as a BFP measurement (i.e. as the output $Y$) and will relate it to measurements of body parts (explanatory variable $X\\in\\mathbf{R}^{14}$).\n",
    "\n",
    "\n",
    "First, run the code in the following cell to import some libraries needed. Using `head(fat)`, you will also see the printout of first 6 observations in the data frame `fat`.\n",
    "\n"
   ]
  },
  {
   "cell_type": "code",
   "execution_count": 3,
   "id": "c3e15eac",
   "metadata": {
    "deletable": false,
    "editable": false,
    "nbgrader": {
     "cell_type": "code",
     "checksum": "1ab16ef9d3301a899cd22130acf78e59",
     "grade": false,
     "grade_id": "cell-d719558cc0b2e752",
     "locked": true,
     "schema_version": 3,
     "solution": false,
     "task": false
    }
   },
   "outputs": [
    {
     "data": {
      "text/html": [
       "<table class=\"dataframe\">\n",
       "<caption>A data.frame: 6 × 18</caption>\n",
       "<thead>\n",
       "\t<tr><th></th><th scope=col>brozek</th><th scope=col>siri</th><th scope=col>density</th><th scope=col>age</th><th scope=col>weight</th><th scope=col>height</th><th scope=col>adipos</th><th scope=col>free</th><th scope=col>neck</th><th scope=col>chest</th><th scope=col>abdom</th><th scope=col>hip</th><th scope=col>thigh</th><th scope=col>knee</th><th scope=col>ankle</th><th scope=col>biceps</th><th scope=col>forearm</th><th scope=col>wrist</th></tr>\n",
       "\t<tr><th></th><th scope=col>&lt;dbl&gt;</th><th scope=col>&lt;dbl&gt;</th><th scope=col>&lt;dbl&gt;</th><th scope=col>&lt;int&gt;</th><th scope=col>&lt;dbl&gt;</th><th scope=col>&lt;dbl&gt;</th><th scope=col>&lt;dbl&gt;</th><th scope=col>&lt;dbl&gt;</th><th scope=col>&lt;dbl&gt;</th><th scope=col>&lt;dbl&gt;</th><th scope=col>&lt;dbl&gt;</th><th scope=col>&lt;dbl&gt;</th><th scope=col>&lt;dbl&gt;</th><th scope=col>&lt;dbl&gt;</th><th scope=col>&lt;dbl&gt;</th><th scope=col>&lt;dbl&gt;</th><th scope=col>&lt;dbl&gt;</th><th scope=col>&lt;dbl&gt;</th></tr>\n",
       "</thead>\n",
       "<tbody>\n",
       "\t<tr><th scope=row>1</th><td>12.6</td><td>12.3</td><td>1.0708</td><td>23</td><td>154.25</td><td>67.75</td><td>23.7</td><td>134.9</td><td>36.2</td><td> 93.1</td><td> 85.2</td><td> 94.5</td><td>59.0</td><td>37.3</td><td>21.9</td><td>32.0</td><td>27.4</td><td>17.1</td></tr>\n",
       "\t<tr><th scope=row>2</th><td> 6.9</td><td> 6.1</td><td>1.0853</td><td>22</td><td>173.25</td><td>72.25</td><td>23.4</td><td>161.3</td><td>38.5</td><td> 93.6</td><td> 83.0</td><td> 98.7</td><td>58.7</td><td>37.3</td><td>23.4</td><td>30.5</td><td>28.9</td><td>18.2</td></tr>\n",
       "\t<tr><th scope=row>3</th><td>24.6</td><td>25.3</td><td>1.0414</td><td>22</td><td>154.00</td><td>66.25</td><td>24.7</td><td>116.0</td><td>34.0</td><td> 95.8</td><td> 87.9</td><td> 99.2</td><td>59.6</td><td>38.9</td><td>24.0</td><td>28.8</td><td>25.2</td><td>16.6</td></tr>\n",
       "\t<tr><th scope=row>4</th><td>10.9</td><td>10.4</td><td>1.0751</td><td>26</td><td>184.75</td><td>72.25</td><td>24.9</td><td>164.7</td><td>37.4</td><td>101.8</td><td> 86.4</td><td>101.2</td><td>60.1</td><td>37.3</td><td>22.8</td><td>32.4</td><td>29.4</td><td>18.2</td></tr>\n",
       "\t<tr><th scope=row>5</th><td>27.8</td><td>28.7</td><td>1.0340</td><td>24</td><td>184.25</td><td>71.25</td><td>25.6</td><td>133.1</td><td>34.4</td><td> 97.3</td><td>100.0</td><td>101.9</td><td>63.2</td><td>42.2</td><td>24.0</td><td>32.2</td><td>27.7</td><td>17.7</td></tr>\n",
       "\t<tr><th scope=row>6</th><td>20.6</td><td>20.9</td><td>1.0502</td><td>24</td><td>210.25</td><td>74.75</td><td>26.5</td><td>167.0</td><td>39.0</td><td>104.5</td><td> 94.4</td><td>107.8</td><td>66.0</td><td>42.0</td><td>25.6</td><td>35.7</td><td>30.6</td><td>18.8</td></tr>\n",
       "</tbody>\n",
       "</table>\n"
      ],
      "text/latex": [
       "A data.frame: 6 × 18\n",
       "\\begin{tabular}{r|llllllllllllllllll}\n",
       "  & brozek & siri & density & age & weight & height & adipos & free & neck & chest & abdom & hip & thigh & knee & ankle & biceps & forearm & wrist\\\\\n",
       "  & <dbl> & <dbl> & <dbl> & <int> & <dbl> & <dbl> & <dbl> & <dbl> & <dbl> & <dbl> & <dbl> & <dbl> & <dbl> & <dbl> & <dbl> & <dbl> & <dbl> & <dbl>\\\\\n",
       "\\hline\n",
       "\t1 & 12.6 & 12.3 & 1.0708 & 23 & 154.25 & 67.75 & 23.7 & 134.9 & 36.2 &  93.1 &  85.2 &  94.5 & 59.0 & 37.3 & 21.9 & 32.0 & 27.4 & 17.1\\\\\n",
       "\t2 &  6.9 &  6.1 & 1.0853 & 22 & 173.25 & 72.25 & 23.4 & 161.3 & 38.5 &  93.6 &  83.0 &  98.7 & 58.7 & 37.3 & 23.4 & 30.5 & 28.9 & 18.2\\\\\n",
       "\t3 & 24.6 & 25.3 & 1.0414 & 22 & 154.00 & 66.25 & 24.7 & 116.0 & 34.0 &  95.8 &  87.9 &  99.2 & 59.6 & 38.9 & 24.0 & 28.8 & 25.2 & 16.6\\\\\n",
       "\t4 & 10.9 & 10.4 & 1.0751 & 26 & 184.75 & 72.25 & 24.9 & 164.7 & 37.4 & 101.8 &  86.4 & 101.2 & 60.1 & 37.3 & 22.8 & 32.4 & 29.4 & 18.2\\\\\n",
       "\t5 & 27.8 & 28.7 & 1.0340 & 24 & 184.25 & 71.25 & 25.6 & 133.1 & 34.4 &  97.3 & 100.0 & 101.9 & 63.2 & 42.2 & 24.0 & 32.2 & 27.7 & 17.7\\\\\n",
       "\t6 & 20.6 & 20.9 & 1.0502 & 24 & 210.25 & 74.75 & 26.5 & 167.0 & 39.0 & 104.5 &  94.4 & 107.8 & 66.0 & 42.0 & 25.6 & 35.7 & 30.6 & 18.8\\\\\n",
       "\\end{tabular}\n"
      ],
      "text/markdown": [
       "\n",
       "A data.frame: 6 × 18\n",
       "\n",
       "| <!--/--> | brozek &lt;dbl&gt; | siri &lt;dbl&gt; | density &lt;dbl&gt; | age &lt;int&gt; | weight &lt;dbl&gt; | height &lt;dbl&gt; | adipos &lt;dbl&gt; | free &lt;dbl&gt; | neck &lt;dbl&gt; | chest &lt;dbl&gt; | abdom &lt;dbl&gt; | hip &lt;dbl&gt; | thigh &lt;dbl&gt; | knee &lt;dbl&gt; | ankle &lt;dbl&gt; | biceps &lt;dbl&gt; | forearm &lt;dbl&gt; | wrist &lt;dbl&gt; |\n",
       "|---|---|---|---|---|---|---|---|---|---|---|---|---|---|---|---|---|---|---|\n",
       "| 1 | 12.6 | 12.3 | 1.0708 | 23 | 154.25 | 67.75 | 23.7 | 134.9 | 36.2 |  93.1 |  85.2 |  94.5 | 59.0 | 37.3 | 21.9 | 32.0 | 27.4 | 17.1 |\n",
       "| 2 |  6.9 |  6.1 | 1.0853 | 22 | 173.25 | 72.25 | 23.4 | 161.3 | 38.5 |  93.6 |  83.0 |  98.7 | 58.7 | 37.3 | 23.4 | 30.5 | 28.9 | 18.2 |\n",
       "| 3 | 24.6 | 25.3 | 1.0414 | 22 | 154.00 | 66.25 | 24.7 | 116.0 | 34.0 |  95.8 |  87.9 |  99.2 | 59.6 | 38.9 | 24.0 | 28.8 | 25.2 | 16.6 |\n",
       "| 4 | 10.9 | 10.4 | 1.0751 | 26 | 184.75 | 72.25 | 24.9 | 164.7 | 37.4 | 101.8 |  86.4 | 101.2 | 60.1 | 37.3 | 22.8 | 32.4 | 29.4 | 18.2 |\n",
       "| 5 | 27.8 | 28.7 | 1.0340 | 24 | 184.25 | 71.25 | 25.6 | 133.1 | 34.4 |  97.3 | 100.0 | 101.9 | 63.2 | 42.2 | 24.0 | 32.2 | 27.7 | 17.7 |\n",
       "| 6 | 20.6 | 20.9 | 1.0502 | 24 | 210.25 | 74.75 | 26.5 | 167.0 | 39.0 | 104.5 |  94.4 | 107.8 | 66.0 | 42.0 | 25.6 | 35.7 | 30.6 | 18.8 |\n",
       "\n"
      ],
      "text/plain": [
       "  brozek siri density age weight height adipos free  neck chest abdom hip  \n",
       "1 12.6   12.3 1.0708  23  154.25 67.75  23.7   134.9 36.2  93.1  85.2  94.5\n",
       "2  6.9    6.1 1.0853  22  173.25 72.25  23.4   161.3 38.5  93.6  83.0  98.7\n",
       "3 24.6   25.3 1.0414  22  154.00 66.25  24.7   116.0 34.0  95.8  87.9  99.2\n",
       "4 10.9   10.4 1.0751  26  184.75 72.25  24.9   164.7 37.4 101.8  86.4 101.2\n",
       "5 27.8   28.7 1.0340  24  184.25 71.25  25.6   133.1 34.4  97.3 100.0 101.9\n",
       "6 20.6   20.9 1.0502  24  210.25 74.75  26.5   167.0 39.0 104.5  94.4 107.8\n",
       "  thigh knee ankle biceps forearm wrist\n",
       "1 59.0  37.3 21.9  32.0   27.4    17.1 \n",
       "2 58.7  37.3 23.4  30.5   28.9    18.2 \n",
       "3 59.6  38.9 24.0  28.8   25.2    16.6 \n",
       "4 60.1  37.3 22.8  32.4   29.4    18.2 \n",
       "5 63.2  42.2 24.0  32.2   27.7    17.7 \n",
       "6 66.0  42.0 25.6  35.7   30.6    18.8 "
      ]
     },
     "metadata": {},
     "output_type": "display_data"
    }
   ],
   "source": [
    "## run this code to import libraries needed\n",
    "\n",
    "library(leaps) #used for subset selection\n",
    "library(latex2exp) #used for math expressions in graphs\n",
    "\n",
    "library(faraway) #contains data frame \"fat\"\n",
    "\n",
    "head(fat)\n"
   ]
  },
  {
   "cell_type": "code",
   "execution_count": 4,
   "id": "d05bae0c",
   "metadata": {
    "deletable": false,
    "editable": false,
    "nbgrader": {
     "cell_type": "code",
     "checksum": "6de3029fe0e95d6825385ea780040093",
     "grade": false,
     "grade_id": "cell-2004005b2a37d694",
     "locked": true,
     "schema_version": 3,
     "solution": false,
     "task": false
    }
   },
   "outputs": [
    {
     "data": {
      "text/html": [
       "0"
      ],
      "text/latex": [
       "0"
      ],
      "text/markdown": [
       "0"
      ],
      "text/plain": [
       "[1] 0"
      ]
     },
     "metadata": {},
     "output_type": "display_data"
    }
   ],
   "source": [
    "## check whether there are missing data (it turns out there are no missing data)\n",
    "sum(is.na(fat))"
   ]
  },
  {
   "cell_type": "markdown",
   "id": "1750648f",
   "metadata": {
    "deletable": false,
    "editable": false,
    "nbgrader": {
     "cell_type": "markdown",
     "checksum": "7caf660c2cb47867bb6bedbc269271bb",
     "grade": false,
     "grade_id": "cell-9ddc62a1e7ec03a9",
     "locked": true,
     "schema_version": 3,
     "solution": false,
     "task": false
    }
   },
   "source": [
    "#### Part (a)\n",
    "\n",
    "Create a data frame `ddf` from the data frame `fat` by dropping the columns `siri`, `density` and `free`. To do that, type: \n",
    "\n",
    "`ddf = subset(fat, select = -c(siri, density, free))`\n",
    "\n",
    "Think for the moment about this function `subset()`. It is useful for extracting parts of a data frame using variable names. Note that variable names are not put under quotation marks.\n",
    "\n",
    "Also, check whether everything is okay by printing out first couple of lines of `ddf` data frame.\n",
    "\n",
    "Take a look at the dimension of `ddf`. It should be $252 \\times 15$.\n",
    "\n",
    "From now on, we will be using the data frame `ddf` instead of `fat`."
   ]
  },
  {
   "cell_type": "code",
   "execution_count": 34,
   "id": "07025fa5",
   "metadata": {
    "deletable": false,
    "nbgrader": {
     "cell_type": "code",
     "checksum": "92b5b5e6055d2ebba06de6669e333d4b",
     "grade": false,
     "grade_id": "cell-76437b40acbbb9a6",
     "locked": false,
     "schema_version": 3,
     "solution": true,
     "task": false
    }
   },
   "outputs": [
    {
     "data": {
      "text/html": [
       "<style>\n",
       ".list-inline {list-style: none; margin:0; padding: 0}\n",
       ".list-inline>li {display: inline-block}\n",
       ".list-inline>li:not(:last-child)::after {content: \"\\00b7\"; padding: 0 .5ex}\n",
       "</style>\n",
       "<ol class=list-inline><li>252</li><li>15</li></ol>\n"
      ],
      "text/latex": [
       "\\begin{enumerate*}\n",
       "\\item 252\n",
       "\\item 15\n",
       "\\end{enumerate*}\n"
      ],
      "text/markdown": [
       "1. 252\n",
       "2. 15\n",
       "\n",
       "\n"
      ],
      "text/plain": [
       "[1] 252  15"
      ]
     },
     "metadata": {},
     "output_type": "display_data"
    }
   ],
   "source": [
    "## taking out columns/variables: siri, density and free\n",
    "ddf = subset(fat, select = -c(siri, density, free))\n",
    "dim(ddf)\n"
   ]
  },
  {
   "cell_type": "code",
   "execution_count": 11,
   "id": "5c307197",
   "metadata": {
    "deletable": false,
    "editable": false,
    "nbgrader": {
     "cell_type": "code",
     "checksum": "828cf688e19453f4b1534b17b84f8510",
     "grade": true,
     "grade_id": "cell-9c1328041363a35d",
     "locked": true,
     "points": 5,
     "schema_version": 3,
     "solution": false,
     "task": false
    }
   },
   "outputs": [
    {
     "name": "stdout",
     "output_type": "stream",
     "text": [
      "\u001b[32mTest passed\u001b[39m 🎊\n",
      "\u001b[32mTest passed\u001b[39m 🎊\n"
     ]
    }
   ],
   "source": [
    "## check whether data frame ddf is defined and is of correct dimensions\n",
    "\n",
    "if (test_that(desc=\"\", code={\n",
    "    expect_equal(is.data.frame(ddf), TRUE)\n",
    "}) != TRUE) stop(\"Sorry, ddf does not exist\")\n",
    "\n",
    "if (test_that(desc=\"\", code={\n",
    "    expect_equal(all.equal(dim(ddf), c(252,15)), TRUE)\n",
    "}) != TRUE) stop(\"Sorry, ddf does not exist\")\n"
   ]
  },
  {
   "cell_type": "markdown",
   "id": "5970cb4d",
   "metadata": {
    "deletable": false,
    "editable": false,
    "nbgrader": {
     "cell_type": "markdown",
     "checksum": "8157f4b952ac5f47df42b64e7f7c5ab4",
     "grade": false,
     "grade_id": "cell-bd7b966b3571ec3d",
     "locked": true,
     "schema_version": 3,
     "solution": false,
     "task": false
    }
   },
   "source": [
    "#### Part (b)\n",
    "\n",
    "- Using the function `regsubsets()` from `leaps` library, create R object `regfit.full` that models `brozek` variable as a linear function of all the rest of the variables/columns in the data set `ddf`. The object `regfit.full` should consider ALL subsets of features - that is, you should use *exhaustive* method, i.e. full subset selection. You can use the code from the class and modify it appropriately. For each $k$ = number of features in the model, you should report the best one; in other words, use argument `nbest=1` in the `regsubsets()` function.<br> <br>\n",
    "\n",
    "- Create variable `full.summary` by setting \n",
    "\n",
    "$\\hspace{0.6cm}$    `full.summary = summary(regfit.full)` <br> <br>\n",
    "\n",
    "- Print out the list of the values of $R^2$ for all the models (i.e. of all $k$ = number of input variables in the model). To do that, type \n",
    "\n",
    "$\\hspace{0.6cm}$    `full.summary$rsq`\n",
    "\n"
   ]
  },
  {
   "cell_type": "code",
   "execution_count": 12,
   "id": "db47089b",
   "metadata": {
    "deletable": false,
    "nbgrader": {
     "cell_type": "code",
     "checksum": "f6d54a021b784c6c8c9b428b8cf8de37",
     "grade": false,
     "grade_id": "cell-14fc0e1aaa171c87",
     "locked": false,
     "schema_version": 3,
     "solution": true,
     "task": false
    }
   },
   "outputs": [
    {
     "data": {
      "text/html": [
       "<style>\n",
       ".list-inline {list-style: none; margin:0; padding: 0}\n",
       ".list-inline>li {display: inline-block}\n",
       ".list-inline>li:not(:last-child)::after {content: \"\\00b7\"; padding: 0 .5ex}\n",
       "</style>\n",
       "<ol class=list-inline><li>0.662117815140187</li><li>0.718726452981407</li><li>0.727556313805209</li><li>0.735107998874419</li><li>0.738004932776657</li><li>0.740993454014338</li><li>0.744465138137346</li><li>0.746668800425452</li><li>0.747657608314115</li><li>0.748400529629391</li><li>0.748909348065416</li><li>0.748977071696945</li><li>0.749030922873346</li><li>0.749030942631092</li></ol>\n"
      ],
      "text/latex": [
       "\\begin{enumerate*}\n",
       "\\item 0.662117815140187\n",
       "\\item 0.718726452981407\n",
       "\\item 0.727556313805209\n",
       "\\item 0.735107998874419\n",
       "\\item 0.738004932776657\n",
       "\\item 0.740993454014338\n",
       "\\item 0.744465138137346\n",
       "\\item 0.746668800425452\n",
       "\\item 0.747657608314115\n",
       "\\item 0.748400529629391\n",
       "\\item 0.748909348065416\n",
       "\\item 0.748977071696945\n",
       "\\item 0.749030922873346\n",
       "\\item 0.749030942631092\n",
       "\\end{enumerate*}\n"
      ],
      "text/markdown": [
       "1. 0.662117815140187\n",
       "2. 0.718726452981407\n",
       "3. 0.727556313805209\n",
       "4. 0.735107998874419\n",
       "5. 0.738004932776657\n",
       "6. 0.740993454014338\n",
       "7. 0.744465138137346\n",
       "8. 0.746668800425452\n",
       "9. 0.747657608314115\n",
       "10. 0.748400529629391\n",
       "11. 0.748909348065416\n",
       "12. 0.748977071696945\n",
       "13. 0.749030922873346\n",
       "14. 0.749030942631092\n",
       "\n",
       "\n"
      ],
      "text/plain": [
       " [1] 0.6621178 0.7187265 0.7275563 0.7351080 0.7380049 0.7409935 0.7444651\n",
       " [8] 0.7466688 0.7476576 0.7484005 0.7489093 0.7489771 0.7490309 0.7490309"
      ]
     },
     "metadata": {},
     "output_type": "display_data"
    }
   ],
   "source": [
    "\n",
    "regfit.full = regsubsets(brozek ~ ., data = ddf, nvmax = 14, method = \"exhaustive\", nbest = 1)\n",
    "full.summary = summary(regfit.full)\n",
    "full.summary$rsq\n"
   ]
  },
  {
   "cell_type": "code",
   "execution_count": 13,
   "id": "57ac9a5e",
   "metadata": {
    "deletable": false,
    "editable": false,
    "nbgrader": {
     "cell_type": "code",
     "checksum": "569c7e99fc27c21f35bb92614cd5c204",
     "grade": true,
     "grade_id": "cell-d7432e8b2388f926",
     "locked": true,
     "points": 5,
     "schema_version": 3,
     "solution": false,
     "task": false
    }
   },
   "outputs": [
    {
     "name": "stdout",
     "output_type": "stream",
     "text": [
      "\u001b[32mTest passed\u001b[39m 🥇\n",
      "\u001b[32mTest passed\u001b[39m 🎊\n"
     ]
    }
   ],
   "source": [
    "## check whether objects regfit.full and full.summary exist\n",
    "\n",
    "if (test_that(desc=\"\", code={\n",
    "    expect_equal(exists(\"regfit.full\"), TRUE)\n",
    "}) != TRUE) stop(\"Sorry, regfit.full does not exist\")\n",
    "\n",
    "\n",
    "if (test_that(desc=\"\", code={\n",
    "    expect_equal(exists(\"full.summary\"), TRUE)\n",
    "}) != TRUE) stop(\"Sorry, full.summary does not exist\")\n"
   ]
  },
  {
   "cell_type": "code",
   "execution_count": 14,
   "id": "616b69d4",
   "metadata": {
    "deletable": false,
    "editable": false,
    "nbgrader": {
     "cell_type": "code",
     "checksum": "0d52f75ec18d9925c9c2199df85adc24",
     "grade": true,
     "grade_id": "cell-bf68d1b92093dedf",
     "locked": true,
     "points": 6,
     "schema_version": 3,
     "solution": false,
     "task": false
    }
   },
   "outputs": [
    {
     "name": "stdout",
     "output_type": "stream",
     "text": [
      "\u001b[32mTest passed\u001b[39m 🎉\n",
      "\u001b[32mTest passed\u001b[39m 🥳\n"
     ]
    }
   ],
   "source": [
    "## check whether the 1st component of the full.summary$rsq vector is 0.662117815140187\n",
    "\n",
    "if (test_that(desc=\"\", code={\n",
    "    expect_equal(abs(full.summary$rsq[1]-0.662117815140187) < 1e-5, TRUE)\n",
    "}) != TRUE) stop(\"Sorry, wrong answer.\")\n",
    "\n",
    "\n",
    "## check whether the 5th component of the full.summary$rsq vector is 0.738004932776657 \n",
    "\n",
    "if (test_that(desc=\"\", code={\n",
    "    expect_equal(abs(full.summary$rsq[5]-0.738004932776657) < 1e-5, TRUE)\n",
    "}) != TRUE) stop(\"Sorry, wrong answer.\")\n"
   ]
  },
  {
   "cell_type": "code",
   "execution_count": 15,
   "id": "6a69f242",
   "metadata": {
    "deletable": false,
    "editable": false,
    "nbgrader": {
     "cell_type": "code",
     "checksum": "1da5b11677de930677dcb905417d0596",
     "grade": true,
     "grade_id": "cell-bdabb3bdec70b2e0",
     "locked": true,
     "points": 6,
     "schema_version": 3,
     "solution": false,
     "task": false
    }
   },
   "outputs": [],
   "source": [
    "## check whether the full.summary$rsq is correct vector (hidden tests)\n",
    "\n"
   ]
  },
  {
   "cell_type": "markdown",
   "id": "d7003ec2",
   "metadata": {
    "deletable": false,
    "editable": false,
    "nbgrader": {
     "cell_type": "markdown",
     "checksum": "470131029b2bcbb29c57e2e4dd7b8110",
     "grade": false,
     "grade_id": "cell-a0f7152227037b29",
     "locked": true,
     "schema_version": 3,
     "solution": false,
     "task": false
    }
   },
   "source": [
    "<br>\n",
    "\n",
    "Run the following code to plot $R^2$ for the best model with $k$ variables, versus $k$.\n",
    "\n",
    "<br>"
   ]
  },
  {
   "cell_type": "code",
   "execution_count": 16,
   "id": "1b04b2bb",
   "metadata": {
    "deletable": false,
    "editable": false,
    "nbgrader": {
     "cell_type": "code",
     "checksum": "05240e28741c5d58e012620276385c30",
     "grade": false,
     "grade_id": "cell-f071b399a4b5c85c",
     "locked": true,
     "schema_version": 3,
     "solution": false,
     "task": false
    }
   },
   "outputs": [
    {
     "data": {
      "image/png": "[encoded data removed]",
      "text/plain": [
       "Plot with title “R^{\n",
       "    2\n",
       "} * \" for exhaustive selection\"”"
      ]
     },
     "metadata": {
      "image/png": {
       "height": 420,
       "width": 420
      }
     },
     "output_type": "display_data"
    }
   ],
   "source": [
    "## this code plots R^2 (for the best model w/ k=number of variables in the model) vs. k \n",
    "par(mai=c(1,1,0.3,1))\n",
    "plot(x=1:14,y=full.summary$rsq,type=\"b\",main=TeX(\"$R^2$ for exhaustive selection\"), \n",
    "     xlab=\"k - # variables/features\", ylab=expression(R^2), col=\"blue\")\n",
    "axis(side=1, at=1:14, labels = FALSE)\n"
   ]
  },
  {
   "cell_type": "markdown",
   "id": "e214b34f",
   "metadata": {
    "deletable": false,
    "editable": false,
    "nbgrader": {
     "cell_type": "markdown",
     "checksum": "72077d07b31a4bf7de704aa44497177a",
     "grade": false,
     "grade_id": "cell-4d510fbeb56f595c",
     "locked": true,
     "schema_version": 3,
     "solution": false,
     "task": false
    }
   },
   "source": [
    "<br>\n",
    "\n",
    "Hopefully, your plot is okay, in which case we can see that after $k$ = 4 features, $R^2$ slows down. After $k=7$ or $k=8$, the increase of $R^2$ becomes almost insignificant. \n",
    "\n",
    "We don't want too many features as that may make the model too complex, and thus, we would get high variability i.e. large differences in fitted models from one sample to another (meaning that the fitted model on our particular example would not be reliable). On the other hand, we don't want too few of variables either, to avoid high bias. By looking at the above plot, one may think that choosing number of features to be $k$ = 5, 6 or 7 could be appropriate. We don't want to add more variables if that does not improve $R^2$ significantly.\n",
    "\n",
    "**Caveat**: Keep in mind $R^2$ here is an *in-sample* estimate; Even if $R^2$ is relatively large for a fitted model, it may still make poor predictions for new, out-of-sample data.\n",
    "\n",
    "<br>\n",
    "\n",
    "#### Part (c)\n",
    "\n",
    "If we want to go with $k=6$ features, based on the best subset selection (i.e. exhaustive method), what features should you include? Using the function `coef()`, create R vector `coeffis` which consists of estimated coefficients in the best model with 6 features. So, your code should look like:\n",
    "\n",
    "`coeffis = <some expression>`\n",
    "\n",
    "**Do NOT round your answer.**\n",
    "\n",
    "If you do it correctly (as done in class), the components of the vector `coeffis` should also have their names. You can check that by typing \n",
    "\n",
    "`names(coeffis)`\n",
    "\n",
    "Note that the first component has name `(Intercept)`, since the intercept is included. Also, the vector should be of length 7, since it includes the intercept.\n",
    "\n"
   ]
  },
  {
   "cell_type": "code",
   "execution_count": 17,
   "id": "dd3e0472",
   "metadata": {
    "deletable": false,
    "nbgrader": {
     "cell_type": "code",
     "checksum": "bf13d29bf0a50cdf751e26e851ed2520",
     "grade": false,
     "grade_id": "cell-6abc8f31376db59c",
     "locked": false,
     "schema_version": 3,
     "solution": true,
     "task": false
    }
   },
   "outputs": [
    {
     "data": {
      "text/html": [
       "<style>\n",
       ".list-inline {list-style: none; margin:0; padding: 0}\n",
       ".list-inline>li {display: inline-block}\n",
       ".list-inline>li:not(:last-child)::after {content: \"\\00b7\"; padding: 0 .5ex}\n",
       "</style>\n",
       "<ol class=list-inline><li>'(Intercept)'</li><li>'age'</li><li>'weight'</li><li>'abdom'</li><li>'thigh'</li><li>'forearm'</li><li>'wrist'</li></ol>\n"
      ],
      "text/latex": [
       "\\begin{enumerate*}\n",
       "\\item '(Intercept)'\n",
       "\\item 'age'\n",
       "\\item 'weight'\n",
       "\\item 'abdom'\n",
       "\\item 'thigh'\n",
       "\\item 'forearm'\n",
       "\\item 'wrist'\n",
       "\\end{enumerate*}\n"
      ],
      "text/markdown": [
       "1. '(Intercept)'\n",
       "2. 'age'\n",
       "3. 'weight'\n",
       "4. 'abdom'\n",
       "5. 'thigh'\n",
       "6. 'forearm'\n",
       "7. 'wrist'\n",
       "\n",
       "\n"
      ],
      "text/plain": [
       "[1] \"(Intercept)\" \"age\"         \"weight\"      \"abdom\"       \"thigh\"      \n",
       "[6] \"forearm\"     \"wrist\"      "
      ]
     },
     "metadata": {},
     "output_type": "display_data"
    }
   ],
   "source": [
    "\n",
    "coeffis = coef(regfit.full, id = 6)  \n",
    "names(coeffis)\n"
   ]
  },
  {
   "cell_type": "code",
   "execution_count": 18,
   "id": "fadd0e0c",
   "metadata": {
    "deletable": false,
    "editable": false,
    "nbgrader": {
     "cell_type": "code",
     "checksum": "9d82a0e69ca32bd46af0e25e7384d79c",
     "grade": true,
     "grade_id": "cell-beffd3ad07e230a9",
     "locked": true,
     "points": 5,
     "schema_version": 3,
     "solution": false,
     "task": false
    }
   },
   "outputs": [
    {
     "name": "stdout",
     "output_type": "stream",
     "text": [
      "\u001b[32mTest passed\u001b[39m 🎊\n",
      "\u001b[32mTest passed\u001b[39m 🎉\n",
      "\u001b[32mTest passed\u001b[39m 🥇\n",
      "\u001b[32mTest passed\u001b[39m 🌈\n"
     ]
    }
   ],
   "source": [
    "## check whether the length of coeffis is correct\n",
    "\n",
    "if (test_that(desc=\"\", code={\n",
    "    expect_equal(length(coeffis)==7, TRUE)\n",
    "}) != TRUE) stop(\"Sorry, wrong answer\")\n",
    "\n",
    "\n",
    "## check whether the names of features (including (Intercept)) are correct\n",
    "\n",
    "coefnames = c('(Intercept)','age','weight','abdom','thigh','forearm','wrist')\n",
    "\n",
    "if (test_that(desc=\"\", code={\n",
    "    expect_equal(all.equal(coefnames, names(coeffis)), TRUE)\n",
    "}) != TRUE) stop(\"Sorry, wrong answer\")\n",
    "\n",
    "\n",
    "## check whether coefficient for \"forearm\" is 0.459261202744725\n",
    "\n",
    "if (test_that(desc=\"\", code={\n",
    "    expect_equal(abs(unname(coeffis['forearm']) - 0.459261202744725) < 1.e-5, TRUE)\n",
    "}) != TRUE) stop(\"Sorry, wrong answer\")\n",
    "\n",
    "\n",
    "## check whether coefficient for \"wrist\" is -1.62786942535323\n",
    "\n",
    "if (test_that(desc=\"\", code={\n",
    "    expect_equal(abs(unname(coeffis['wrist']) - (-1.62786942535323)) < 1.e-5, TRUE)\n",
    "}) != TRUE) stop(\"Sorry, wrong answer\")\n"
   ]
  },
  {
   "cell_type": "code",
   "execution_count": 19,
   "id": "4227bdc8",
   "metadata": {
    "deletable": false,
    "editable": false,
    "nbgrader": {
     "cell_type": "code",
     "checksum": "2ddbd0cd0ba4e8818bb937b1e5db560e",
     "grade": true,
     "grade_id": "cell-84331beac5ae2508",
     "locked": true,
     "points": 6,
     "schema_version": 3,
     "solution": false,
     "task": false
    }
   },
   "outputs": [],
   "source": [
    "## check whether the answer is correct (hidden tests)\n",
    "\n"
   ]
  },
  {
   "cell_type": "markdown",
   "id": "5abf6821",
   "metadata": {
    "deletable": false,
    "editable": false,
    "nbgrader": {
     "cell_type": "markdown",
     "checksum": "a445ca0b4e8498f1584ea7b8f773b102",
     "grade": false,
     "grade_id": "cell-c940dc6eff45451b",
     "locked": true,
     "schema_version": 3,
     "solution": false,
     "task": false
    }
   },
   "source": [
    "\n",
    "#### Part (d)\n",
    "\n",
    "Create R object `mod` using `lm` function with `brozek` as the output and the features from your best 6-feature model as explanatory variables. Use \n",
    "\n",
    "`summary(mod)`\n",
    "\n",
    "to check whether you get the same values (up to round-off error) of coefficients, i.e. the same model as above.\n",
    "\n"
   ]
  },
  {
   "cell_type": "code",
   "execution_count": 20,
   "id": "d2c285c2",
   "metadata": {
    "deletable": false,
    "nbgrader": {
     "cell_type": "code",
     "checksum": "c82026a5f523f59e620636875cf2ee9c",
     "grade": false,
     "grade_id": "cell-f69281518a8f706e",
     "locked": false,
     "schema_version": 3,
     "solution": true,
     "task": false
    }
   },
   "outputs": [
    {
     "data": {
      "text/plain": [
       "\n",
       "Call:\n",
       "lm(formula = brozek ~ age + weight + abdom + thigh + forearm + \n",
       "    wrist, data = ddf)\n",
       "\n",
       "Residuals:\n",
       "    Min      1Q  Median      3Q     Max \n",
       "-9.9590 -2.7985 -0.1697  2.8099  8.2275 \n",
       "\n",
       "Coefficients:\n",
       "             Estimate Std. Error t value Pr(>|t|)    \n",
       "(Intercept) -34.83940    7.97616  -4.368 1.85e-05 ***\n",
       "age           0.05664    0.02853   1.985 0.048205 *  \n",
       "weight       -0.12805    0.03045  -4.205 3.67e-05 ***\n",
       "abdom         0.84591    0.06460  13.095  < 2e-16 ***\n",
       "thigh         0.20815    0.10795   1.928 0.054995 .  \n",
       "forearm       0.45926    0.16885   2.720 0.006996 ** \n",
       "wrist        -1.62787    0.45814  -3.553 0.000456 ***\n",
       "---\n",
       "Signif. codes:  0 ‘***’ 0.001 ‘**’ 0.01 ‘*’ 0.05 ‘.’ 0.1 ‘ ’ 1\n",
       "\n",
       "Residual standard error: 3.993 on 245 degrees of freedom\n",
       "Multiple R-squared:  0.741,\tAdjusted R-squared:  0.7347 \n",
       "F-statistic: 116.8 on 6 and 245 DF,  p-value: < 2.2e-16\n"
      ]
     },
     "metadata": {},
     "output_type": "display_data"
    }
   ],
   "source": [
    "\n",
    "mod = lm(brozek ~ age + weight + abdom + thigh + forearm + wrist, data = ddf)\n",
    "summary(mod)\n"
   ]
  },
  {
   "cell_type": "code",
   "execution_count": 21,
   "id": "bd099157",
   "metadata": {
    "deletable": false,
    "editable": false,
    "nbgrader": {
     "cell_type": "code",
     "checksum": "c22c21e8f868c6c11f09df089e141b8b",
     "grade": true,
     "grade_id": "cell-d808ce95c525f07b",
     "locked": true,
     "points": 6,
     "schema_version": 3,
     "solution": false,
     "task": false
    }
   },
   "outputs": [
    {
     "name": "stdout",
     "output_type": "stream",
     "text": [
      "\u001b[32mTest passed\u001b[39m 🥇\n",
      "\u001b[32mTest passed\u001b[39m 🥇\n"
     ]
    }
   ],
   "source": [
    "\n",
    "## check whether coefficient for \"forearm\" of mod object is 0.459261202744725\n",
    "\n",
    "if (test_that(desc=\"\", code={\n",
    "    expect_equal(abs(unname(coef(mod)[6]) - 0.459261202744725) < 1.e-5, TRUE)\n",
    "}) != TRUE) stop(\"Sorry, wrong answer\")\n",
    "\n",
    "\n",
    "## check whether coefficient for \"wrist\" of mod object is -1.62786942535323\n",
    "\n",
    "if (test_that(desc=\"\", code={\n",
    "    expect_equal(abs(unname(coef(mod)['wrist']) - (-1.62786942535323)) < 1.e-5, TRUE)\n",
    "}) != TRUE) stop(\"Sorry, wrong answer\")\n"
   ]
  },
  {
   "cell_type": "code",
   "execution_count": 22,
   "id": "4032474b",
   "metadata": {
    "deletable": false,
    "editable": false,
    "nbgrader": {
     "cell_type": "code",
     "checksum": "86e96b3a16a83ab0b57d1502e9b4a276",
     "grade": true,
     "grade_id": "cell-2abed17a71c0d35c",
     "locked": true,
     "points": 6,
     "schema_version": 3,
     "solution": false,
     "task": false
    }
   },
   "outputs": [],
   "source": [
    "## check whether the coefficients of mod object are correct (hidden tests)\n"
   ]
  },
  {
   "cell_type": "markdown",
   "id": "3faa3c15",
   "metadata": {
    "deletable": false,
    "editable": false,
    "nbgrader": {
     "cell_type": "markdown",
     "checksum": "bc634ad3e63f3308eaaa9b8e79b4663a",
     "grade": false,
     "grade_id": "cell-a416d1408f2e4f6a",
     "locked": true,
     "schema_version": 3,
     "solution": false,
     "task": false
    }
   },
   "source": [
    "#### Part (e)\n",
    "\n",
    "Use function `predict()` and your `mod` model to make prediction of `brozek` value based on the following values of input features: <br>\n",
    "\n",
    "age=24, weight=185.2, abdom=98, thigh=63.2, forearm=27.7, wrist=17.7\n",
    "\n",
    "This is done in the same way when there is only one predictor/feature, except that now you need to list values of multiple features. Store the value of prediction as R variable `yhat`. So, your code should look like:\n",
    "\n",
    "`yhat = predict(mod, newdata=data.frame(age=??, weight=??, ... , wrist=??))`\n",
    "\n",
    "<br>\n",
    "\n",
    "**Do NOT round your answer**\n",
    "\n"
   ]
  },
  {
   "cell_type": "code",
   "execution_count": 24,
   "id": "462555b6",
   "metadata": {
    "deletable": false,
    "nbgrader": {
     "cell_type": "code",
     "checksum": "3c5cc3fe15745a180a4e0a3689afc61d",
     "grade": false,
     "grade_id": "cell-0bc9f3770554a572",
     "locked": false,
     "schema_version": 3,
     "solution": true,
     "task": false
    }
   },
   "outputs": [],
   "source": [
    "\n",
    "yhat = predict(mod, newdata = data.frame(age = 24, weight = 185.2, abdom = 98, thigh = 63.2, forearm = 27.7, wrist = 17.7))\n"
   ]
  },
  {
   "cell_type": "code",
   "execution_count": 25,
   "id": "2b117d81",
   "metadata": {
    "deletable": false,
    "editable": false,
    "nbgrader": {
     "cell_type": "code",
     "checksum": "a9cb6c6c557592de4918b3eef8162944",
     "grade": true,
     "grade_id": "cell-536a1399103995c9",
     "locked": true,
     "points": 5,
     "schema_version": 3,
     "solution": false,
     "task": false
    }
   },
   "outputs": [
    {
     "name": "stdout",
     "output_type": "stream",
     "text": [
      "\u001b[32mTest passed\u001b[39m 🎉\n"
     ]
    }
   ],
   "source": [
    "## check whether yhat is correct\n",
    "\n",
    "if (test_that(desc=\"\", code={\n",
    "    expect_equal(abs(unname(yhat) - 22.7664953953147) < 1.e-5, TRUE)\n",
    "}) != TRUE) stop(\"Sorry, wrong answer\")\n"
   ]
  },
  {
   "cell_type": "markdown",
   "id": "db680ade",
   "metadata": {
    "deletable": false,
    "editable": false,
    "nbgrader": {
     "cell_type": "markdown",
     "checksum": "da8440228f5ca95d3448790f6a9c79eb",
     "grade": false,
     "grade_id": "cell-50776ea614bbf185",
     "locked": true,
     "schema_version": 3,
     "solution": false,
     "task": false
    }
   },
   "source": [
    "## Question 2 (OPTIONAL)\n",
    "\n",
    "#### This question is optional. It does not add nor subtract any points, nor that it counts as an extra credit.\n",
    "\n",
    "Repeat Question 1, but use forward selection."
   ]
  },
  {
   "cell_type": "markdown",
   "id": "fa87264e",
   "metadata": {},
   "source": [
    "Part a)"
   ]
  },
  {
   "cell_type": "code",
   "execution_count": 26,
   "id": "b792bdf5",
   "metadata": {},
   "outputs": [],
   "source": [
    "ddf = subset(fat, select = -c(siri, density, free))"
   ]
  },
  {
   "cell_type": "markdown",
   "id": "4ec7f08a",
   "metadata": {},
   "source": [
    "Part b)"
   ]
  },
  {
   "cell_type": "code",
   "execution_count": 29,
   "id": "d1ccf40d",
   "metadata": {},
   "outputs": [
    {
     "data": {
      "text/html": [
       "<style>\n",
       ".list-inline {list-style: none; margin:0; padding: 0}\n",
       ".list-inline>li {display: inline-block}\n",
       ".list-inline>li:not(:last-child)::after {content: \"\\00b7\"; padding: 0 .5ex}\n",
       "</style>\n",
       "<ol class=list-inline><li>0.662117815140187</li><li>0.718726452981407</li><li>0.727556313805209</li><li>0.735107998874419</li><li>0.738004932776657</li><li>0.740475300991433</li><li>0.744465138137345</li><li>0.746668800425452</li><li>0.747657608314115</li><li>0.748400529629391</li><li>0.748909348065416</li><li>0.748977071696945</li><li>0.749030922873346</li><li>0.749030942631092</li></ol>\n"
      ],
      "text/latex": [
       "\\begin{enumerate*}\n",
       "\\item 0.662117815140187\n",
       "\\item 0.718726452981407\n",
       "\\item 0.727556313805209\n",
       "\\item 0.735107998874419\n",
       "\\item 0.738004932776657\n",
       "\\item 0.740475300991433\n",
       "\\item 0.744465138137345\n",
       "\\item 0.746668800425452\n",
       "\\item 0.747657608314115\n",
       "\\item 0.748400529629391\n",
       "\\item 0.748909348065416\n",
       "\\item 0.748977071696945\n",
       "\\item 0.749030922873346\n",
       "\\item 0.749030942631092\n",
       "\\end{enumerate*}\n"
      ],
      "text/markdown": [
       "1. 0.662117815140187\n",
       "2. 0.718726452981407\n",
       "3. 0.727556313805209\n",
       "4. 0.735107998874419\n",
       "5. 0.738004932776657\n",
       "6. 0.740475300991433\n",
       "7. 0.744465138137345\n",
       "8. 0.746668800425452\n",
       "9. 0.747657608314115\n",
       "10. 0.748400529629391\n",
       "11. 0.748909348065416\n",
       "12. 0.748977071696945\n",
       "13. 0.749030922873346\n",
       "14. 0.749030942631092\n",
       "\n",
       "\n"
      ],
      "text/plain": [
       " [1] 0.6621178 0.7187265 0.7275563 0.7351080 0.7380049 0.7404753 0.7444651\n",
       " [8] 0.7466688 0.7476576 0.7484005 0.7489093 0.7489771 0.7490309 0.7490309"
      ]
     },
     "metadata": {},
     "output_type": "display_data"
    }
   ],
   "source": [
    "regfit.fwd = regsubsets(brozek ~ ., data = ddf, nvmax = 14, method = \"forward\", nbest = 1)\n",
    "fwd.summary = summary(regfit.fwd)\n",
    "fwd.summary$rsq"
   ]
  },
  {
   "cell_type": "markdown",
   "id": "021b3423",
   "metadata": {},
   "source": [
    "Plot R² for forward selection"
   ]
  },
  {
   "cell_type": "code",
   "execution_count": 30,
   "id": "58272cdc",
   "metadata": {},
   "outputs": [
    {
     "data": {
      "image/png": "[encoded data removed]",
      "text/plain": [
       "Plot with title “R^2 ~ \"for forward selection\"”"
      ]
     },
     "metadata": {
      "image/png": {
       "height": 420,
       "width": 420
      }
     },
     "output_type": "display_data"
    }
   ],
   "source": [
    "par(mai=c(1,1,0.3,1))\n",
    "plot(x = 1:14, y = fwd.summary$rsq, type = \"b\",\n",
    "     main = expression(R^2 ~ \"for forward selection\"),\n",
    "     xlab = \"k - # variables/features\",\n",
    "     ylab = expression(R^2), col = \"green\")\n",
    "axis(side = 1, at = 1:14, labels = FALSE)"
   ]
  },
  {
   "cell_type": "markdown",
   "id": "2070314e",
   "metadata": {},
   "source": [
    "Part c)"
   ]
  },
  {
   "cell_type": "code",
   "execution_count": 31,
   "id": "527dbffc",
   "metadata": {},
   "outputs": [
    {
     "data": {
      "text/html": [
       "<style>\n",
       ".list-inline {list-style: none; margin:0; padding: 0}\n",
       ".list-inline>li {display: inline-block}\n",
       ".list-inline>li:not(:last-child)::after {content: \"\\00b7\"; padding: 0 .5ex}\n",
       "</style>\n",
       "<ol class=list-inline><li>'(Intercept)'</li><li>'age'</li><li>'weight'</li><li>'neck'</li><li>'abdom'</li><li>'forearm'</li><li>'wrist'</li></ol>\n"
      ],
      "text/latex": [
       "\\begin{enumerate*}\n",
       "\\item '(Intercept)'\n",
       "\\item 'age'\n",
       "\\item 'weight'\n",
       "\\item 'neck'\n",
       "\\item 'abdom'\n",
       "\\item 'forearm'\n",
       "\\item 'wrist'\n",
       "\\end{enumerate*}\n"
      ],
      "text/markdown": [
       "1. '(Intercept)'\n",
       "2. 'age'\n",
       "3. 'weight'\n",
       "4. 'neck'\n",
       "5. 'abdom'\n",
       "6. 'forearm'\n",
       "7. 'wrist'\n",
       "\n",
       "\n"
      ],
      "text/plain": [
       "[1] \"(Intercept)\" \"age\"         \"weight\"      \"neck\"        \"abdom\"      \n",
       "[6] \"forearm\"     \"wrist\"      "
      ]
     },
     "metadata": {},
     "output_type": "display_data"
    }
   ],
   "source": [
    "coeffis.fwd = coef(regfit.fwd, id = 6)\n",
    "names(coeffis.fwd)"
   ]
  },
  {
   "cell_type": "markdown",
   "id": "02d30752",
   "metadata": {},
   "source": [
    "Part d)"
   ]
  },
  {
   "cell_type": "code",
   "execution_count": 32,
   "id": "b7e05190",
   "metadata": {},
   "outputs": [
    {
     "data": {
      "text/plain": [
       "\n",
       "Call:\n",
       "lm(formula = brozek ~ age + weight + abdom + thigh + forearm + \n",
       "    wrist, data = ddf)\n",
       "\n",
       "Residuals:\n",
       "    Min      1Q  Median      3Q     Max \n",
       "-9.9590 -2.7985 -0.1697  2.8099  8.2275 \n",
       "\n",
       "Coefficients:\n",
       "             Estimate Std. Error t value Pr(>|t|)    \n",
       "(Intercept) -34.83940    7.97616  -4.368 1.85e-05 ***\n",
       "age           0.05664    0.02853   1.985 0.048205 *  \n",
       "weight       -0.12805    0.03045  -4.205 3.67e-05 ***\n",
       "abdom         0.84591    0.06460  13.095  < 2e-16 ***\n",
       "thigh         0.20815    0.10795   1.928 0.054995 .  \n",
       "forearm       0.45926    0.16885   2.720 0.006996 ** \n",
       "wrist        -1.62787    0.45814  -3.553 0.000456 ***\n",
       "---\n",
       "Signif. codes:  0 ‘***’ 0.001 ‘**’ 0.01 ‘*’ 0.05 ‘.’ 0.1 ‘ ’ 1\n",
       "\n",
       "Residual standard error: 3.993 on 245 degrees of freedom\n",
       "Multiple R-squared:  0.741,\tAdjusted R-squared:  0.7347 \n",
       "F-statistic: 116.8 on 6 and 245 DF,  p-value: < 2.2e-16\n"
      ]
     },
     "metadata": {},
     "output_type": "display_data"
    }
   ],
   "source": [
    "mod.fwd = lm(brozek ~ age + weight + abdom + thigh + forearm + wrist, data = ddf)\n",
    "summary(mod.fwd)"
   ]
  },
  {
   "cell_type": "markdown",
   "id": "103260af",
   "metadata": {},
   "source": [
    "Part e)"
   ]
  },
  {
   "cell_type": "code",
   "execution_count": 33,
   "id": "470ab25b",
   "metadata": {},
   "outputs": [],
   "source": [
    "yhat.fwd = predict(mod.fwd, newdata = data.frame(age = 24, weight = 185.2, abdom = 98, thigh = 63.2, forearm = 27.7, wrist = 17.7))\n"
   ]
  },
  {
   "cell_type": "markdown",
   "id": "9b973f2c",
   "metadata": {
    "deletable": false,
    "editable": false,
    "nbgrader": {
     "cell_type": "markdown",
     "checksum": "6b43e4058cc03eea3df00078d3096d7e",
     "grade": false,
     "grade_id": "cell-55cffd3e74ca78b6",
     "locked": true,
     "schema_version": 3,
     "solution": false,
     "task": false
    }
   },
   "source": [
    "## Question 3 (OPTIONAL)\n",
    "\n",
    "#### This question is optional. It does not add nor subtract any points, nor that it counts as an extra credit.\n",
    "\n",
    "Use simple validation and repeat the procedure from class with `Hitters` data. Use the code from class, with appropriate modifications."
   ]
  }
 ],
 "metadata": {
  "kernelspec": {
   "display_name": "R",
   "language": "R",
   "name": "ir"
  },
  "language_info": {
   "codemirror_mode": "r",
   "file_extension": ".r",
   "mimetype": "text/x-r-source",
   "name": "R",
   "pygments_lexer": "r",
   "version": "4.3.3"
  }
 },
 "nbformat": 4,
 "nbformat_minor": 5
}
