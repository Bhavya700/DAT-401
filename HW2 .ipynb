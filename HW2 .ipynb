{
 "cells": [
  {
   "cell_type": "markdown",
   "id": "90d75dc0",
   "metadata": {},
   "source": [
    "**IMPORTANT** <br> <ul> <li> Do **NOT** replace or remove this notebook (ipynb file)! Each cell has unique nbgrader's metadata and ID which, if changed outside the nbgrader, cannot pass the tests. Do **NOT** change the name of the file!</li> <li> To receive any credit, don't forget to **SUBMIT** your notebook when you are done! You can have multiple submissions before the deadline; only the last one is saved, including its timestamp.</li> <li>Before submitting, **Validate** your notebook to check if your codes pass all visible tests. </li> <li>Make sure you fill in any cell with the comment `# your code here`. Remove or comment the command `fail()` (in R), or `raise NotImplementedError` (in Python) and place your code there </li> </ul>"
   ]
  },
  {
   "cell_type": "code",
   "execution_count": 79,
   "id": "bb1e46cc",
   "metadata": {},
   "outputs": [],
   "source": [
    "NAME = \"Bhavya Patel\""
   ]
  },
  {
   "cell_type": "markdown",
   "id": "9a44ed8b",
   "metadata": {},
   "source": [
    "---"
   ]
  },
  {
   "cell_type": "code",
   "execution_count": 80,
   "id": "7c3ce010",
   "metadata": {
    "deletable": false,
    "editable": false,
    "nbgrader": {
     "cell_type": "code",
     "checksum": "89109928226ae3ae1d880b6214609172",
     "grade": false,
     "grade_id": "cell-54be70dbc20ca1ab",
     "locked": true,
     "schema_version": 3,
     "solution": false,
     "task": false
    }
   },
   "outputs": [],
   "source": [
    "## import libraries needed\n",
    "## make sure you run this code first!\n",
    "\n",
    "library(testthat)\n",
    "library(digest)\n",
    "library(stringr)"
   ]
  },
  {
   "cell_type": "markdown",
   "id": "14086f18",
   "metadata": {
    "deletable": false,
    "editable": false,
    "nbgrader": {
     "cell_type": "markdown",
     "checksum": "05e659ec9b8aa914adabedbe7527ea1a",
     "grade": false,
     "grade_id": "cell-831abd357106e055",
     "locked": true,
     "schema_version": 3,
     "solution": false,
     "task": false
    }
   },
   "source": [
    "### Question 1\n",
    "\n",
    "In a certain high school, 11% of the students like math, while 18% of the students like chemistry.\n",
    "\n",
    "Suppose we randomly choose a student from this high school. Denote:\n",
    "\n",
    "$M$ = event that the chosen student likes math\n",
    "\n",
    "$C$ = event that the chosen student likes chemistry\n",
    "\n",
    "$p$ = probability that the chosen student likes both math and chemistry\n",
    "\n",
    "<br>\n",
    "\n",
    "#### Part (a)\n",
    "\n",
    "What should $p$ be so that events $M$ and $C$ are independent? Create R variable `p` with the answer to this question. Do **not** round your answer."
   ]
  },
  {
   "cell_type": "code",
   "execution_count": 81,
   "id": "200b6e70",
   "metadata": {
    "deletable": false,
    "nbgrader": {
     "cell_type": "code",
     "checksum": "c259d6e225e1b8caf5468bc79aaa5e5e",
     "grade": false,
     "grade_id": "cell-912aec2f74d3dc7c",
     "locked": false,
     "schema_version": 3,
     "solution": true,
     "task": false
    }
   },
   "outputs": [],
   "source": [
    "M=0.11\n",
    "C=0.18\n",
    "\n",
    "p=M*C\n"
   ]
  },
  {
   "cell_type": "code",
   "execution_count": 82,
   "id": "c5b99ec7",
   "metadata": {
    "deletable": false,
    "editable": false,
    "nbgrader": {
     "cell_type": "code",
     "checksum": "b8953b5789a6483fe4ce312eeeab7451",
     "grade": true,
     "grade_id": "cell-1158d25f66a803de",
     "locked": true,
     "points": 2,
     "schema_version": 3,
     "solution": false,
     "task": false
    }
   },
   "outputs": [
    {
     "name": "stdout",
     "output_type": "stream",
     "text": [
      "\u001b[32mTest passed\u001b[39m 🥇\n"
     ]
    }
   ],
   "source": [
    "#check whether p is in [0,1]\n",
    "\n",
    "if (test_that(desc=\"\", code={\n",
    "    expect_equal( (0 <= p) & (p <= 1), TRUE)\n",
    "    }) != TRUE) stop(\"Sorry, your answer should be a number from interval [0,1]\")\n"
   ]
  },
  {
   "cell_type": "code",
   "execution_count": 83,
   "id": "2ce866af",
   "metadata": {
    "deletable": false,
    "editable": false,
    "nbgrader": {
     "cell_type": "code",
     "checksum": "be954b0efc4a789f38e38fc7e89f2490",
     "grade": true,
     "grade_id": "cell-d7ddebb44c4aff11",
     "locked": true,
     "points": 6,
     "schema_version": 3,
     "solution": false,
     "task": false
    }
   },
   "outputs": [],
   "source": [
    "# test whether p is correct (hidden test)\n"
   ]
  },
  {
   "cell_type": "markdown",
   "id": "e6c29edf",
   "metadata": {
    "deletable": false,
    "editable": false,
    "nbgrader": {
     "cell_type": "markdown",
     "checksum": "07a216efc77c4598f39630932ac137e9",
     "grade": false,
     "grade_id": "cell-b161ff5ebdae71d3",
     "locked": true,
     "schema_version": 3,
     "solution": false,
     "task": false
    }
   },
   "source": [
    "\n",
    "#### Part (b)\n",
    "\n",
    "Suppose that $p$ is actually 0.06, i.e. the probability that a randomly chosen student likes both math and chemistry is 0.06.\n",
    "\n",
    "What is the probability that a randomly chosen student does not like math **nor** chemistry? Create R variable `pneither` that stores this value. That is, your answer should be of the form <br>\n",
    "\n",
    "`pneither = <some expression> `\n",
    "\n",
    "Do **not** round your answer.\n",
    "\n",
    "***Hint:*** You may want to draw a Venn diagram."
   ]
  },
  {
   "cell_type": "code",
   "execution_count": 84,
   "id": "924221d8",
   "metadata": {
    "deletable": false,
    "nbgrader": {
     "cell_type": "code",
     "checksum": "42190914e5ddd095919f108c2529faab",
     "grade": false,
     "grade_id": "cell-bd8dfd064232d866",
     "locked": false,
     "schema_version": 3,
     "solution": true,
     "task": false
    }
   },
   "outputs": [],
   "source": [
    "p=0.06\n",
    "pneither=1-(M+C-p)\n"
   ]
  },
  {
   "cell_type": "code",
   "execution_count": 85,
   "id": "6395c6c8",
   "metadata": {
    "deletable": false,
    "editable": false,
    "nbgrader": {
     "cell_type": "code",
     "checksum": "71058b98047db57b2042a8802f2e8d4f",
     "grade": true,
     "grade_id": "cell-01b1e23970bb8544",
     "locked": true,
     "points": 2,
     "schema_version": 3,
     "solution": false,
     "task": false
    }
   },
   "outputs": [
    {
     "name": "stdout",
     "output_type": "stream",
     "text": [
      "\u001b[32mTest passed\u001b[39m 😀\n",
      "\u001b[32mTest passed\u001b[39m 😀\n"
     ]
    }
   ],
   "source": [
    "## check whether your answer is in [0,1] and whether it's 2nd decimal digit is 7\n",
    "\n",
    "if (test_that(desc=\"\", code={\n",
    "    expect_equal( (0 <= pneither) & (pneither <= 1), TRUE)\n",
    "    }) != TRUE) stop(\"Sorry, pneither is not a numeric variable between 0 and 1\")\n",
    "\n",
    "if (test_that(desc=\"\", code={\n",
    "    expect_equal( (floor(pneither*10^2) %% 10 == 7), TRUE)\n",
    "    }) != TRUE) stop(\"Sorry, your variable ans is incorrect.\")\n"
   ]
  },
  {
   "cell_type": "code",
   "execution_count": 86,
   "id": "6290aac3",
   "metadata": {
    "deletable": false,
    "editable": false,
    "nbgrader": {
     "cell_type": "code",
     "checksum": "9b2eeee34c77c38ec5e770f81ab5dc97",
     "grade": true,
     "grade_id": "cell-a7f55f8400f88ca8",
     "locked": true,
     "points": 6,
     "schema_version": 3,
     "solution": false,
     "task": false
    }
   },
   "outputs": [],
   "source": [
    "# test whether pneither is correct (hidden test)\n"
   ]
  },
  {
   "cell_type": "markdown",
   "id": "184e3b56",
   "metadata": {
    "deletable": false,
    "editable": false,
    "nbgrader": {
     "cell_type": "markdown",
     "checksum": "8ccc52f93cb4a621a5617755d76d0531",
     "grade": false,
     "grade_id": "cell-3e1af33dfcef45d5",
     "locked": true,
     "schema_version": 3,
     "solution": false,
     "task": false
    }
   },
   "source": [
    "### Question 2\n",
    "\n",
    "A die is cast 10 times. \n",
    "\n",
    "#### Part (a)\n",
    "\n",
    "What is the probability that the number six comes up at most once (i.e. either only once or does not show up at all)? Write your answer as an R variable `p1`, so that your answer is of the form\n",
    "\n",
    "`p1 = <some expression> `\n",
    "\n",
    "Do **NOT** round your answer.\n",
    "\n",
    "**Hint**: You can use R function `pbinom(q, size, prob, lower.tail = TRUE)` for the (cumulative) probability $P(X\\leq q)$, where $X\\sim\\mathcal{B}in(n=$ `size` $, p=$ `prob` $)$. Alternatively, you can use `choose(n,k)` for ${n \\choose k}$. You can read R documentation for these functions. "
   ]
  },
  {
   "cell_type": "code",
   "execution_count": 87,
   "id": "ddb5d549",
   "metadata": {
    "deletable": false,
    "nbgrader": {
     "cell_type": "code",
     "checksum": "f2a692a18f0756fb71f11754ca48bfc4",
     "grade": false,
     "grade_id": "cell-391cdb6385f747b3",
     "locked": false,
     "schema_version": 3,
     "solution": true,
     "task": false
    }
   },
   "outputs": [],
   "source": [
    "p=1/6\n",
    "p1=pbinom(1,10,p,lower.tail=TRUE)\n"
   ]
  },
  {
   "cell_type": "code",
   "execution_count": 88,
   "id": "6cd86582",
   "metadata": {
    "deletable": false,
    "editable": false,
    "nbgrader": {
     "cell_type": "code",
     "checksum": "c82af2bcdc33c68a871d5222a7719264",
     "grade": true,
     "grade_id": "cell-9c010d91f9ec5637",
     "locked": true,
     "points": 2,
     "schema_version": 3,
     "solution": false,
     "task": false
    }
   },
   "outputs": [
    {
     "name": "stdout",
     "output_type": "stream",
     "text": [
      "\u001b[32mTest passed\u001b[39m 😀\n",
      "\u001b[32mTest passed\u001b[39m 🥳\n"
     ]
    }
   ],
   "source": [
    "## check whether your answer is in [0,1] and whether it's 6th & 7th decimal digits are 67\n",
    "\n",
    "if (test_that(desc=\"\", code={\n",
    "    expect_equal( (0 <= p1) & (p1 <= 1), TRUE)\n",
    "    }) != TRUE) stop(\"Sorry, ans is not a numeric variable between 0 and 1\")\n",
    "\n",
    "if (test_that(desc=\"\", code={\n",
    "    expect_equal( (floor(p1*10^7) %% 100 == 67), TRUE)\n",
    "    }) != TRUE) stop(\"Sorry, your variable ans is incorrect.\")"
   ]
  },
  {
   "cell_type": "code",
   "execution_count": 89,
   "id": "dce313e2",
   "metadata": {
    "deletable": false,
    "editable": false,
    "nbgrader": {
     "cell_type": "code",
     "checksum": "ee7f551ef4e2f921689ff31ca93e225e",
     "grade": true,
     "grade_id": "cell-5c6552496e58f601",
     "locked": true,
     "points": 7,
     "schema_version": 3,
     "solution": false,
     "task": false
    }
   },
   "outputs": [],
   "source": [
    "# test whether the answer is correct (hidden test)\n",
    "\n"
   ]
  },
  {
   "cell_type": "markdown",
   "id": "e3c97c36",
   "metadata": {
    "deletable": false,
    "editable": false,
    "nbgrader": {
     "cell_type": "markdown",
     "checksum": "8a209e2979ae32368198bbf2f92ee9e0",
     "grade": false,
     "grade_id": "cell-e8bd4c190d8c9048",
     "locked": true,
     "schema_version": 3,
     "solution": false,
     "task": false
    }
   },
   "source": [
    "\n",
    "#### Part (b)\n",
    "\n",
    "What is the probability that number six appears at least two times?  Write your answer as an R variable p2, so that your answer is of the form\n",
    "\n",
    "`p2 = <some expression>`\n",
    "\n",
    "Do NOT round your answer.\n",
    "\n",
    "***Hint:*** No need for computing $P(X=k)$ for each $k=2,3,...,10$.\n"
   ]
  },
  {
   "cell_type": "code",
   "execution_count": 90,
   "id": "8338a2f3",
   "metadata": {
    "deletable": false,
    "nbgrader": {
     "cell_type": "code",
     "checksum": "4bfb3ed7b13581f19d4b53f2e00a345b",
     "grade": false,
     "grade_id": "cell-f046d1cefa8e7d4a",
     "locked": false,
     "schema_version": 3,
     "solution": true,
     "task": false
    }
   },
   "outputs": [],
   "source": [
    "\n",
    "p2=1-p1\n"
   ]
  },
  {
   "cell_type": "code",
   "execution_count": 91,
   "id": "7316d3d0",
   "metadata": {
    "deletable": false,
    "editable": false,
    "nbgrader": {
     "cell_type": "code",
     "checksum": "0c1e0abedbe95c07f128b3d2c5b4c1aa",
     "grade": true,
     "grade_id": "cell-49874d75a02d54b1",
     "locked": true,
     "points": 2,
     "schema_version": 3,
     "solution": false,
     "task": false
    }
   },
   "outputs": [
    {
     "name": "stdout",
     "output_type": "stream",
     "text": [
      "\u001b[32mTest passed\u001b[39m 🥳\n",
      "\u001b[32mTest passed\u001b[39m 🌈\n"
     ]
    }
   ],
   "source": [
    "## check whether your answer is in [0,1] and whether it's 6th decimal digit is 3\n",
    "\n",
    "if (test_that(desc=\"\", code={\n",
    "    expect_equal( (0 <= p2) & (p2 <= 1), TRUE)\n",
    "    }) != TRUE) stop(\"Sorry, your answer is not a numeric variable between 0 and 1\")\n",
    "\n",
    "if (test_that(desc=\"\", code={\n",
    "    expect_equal( (floor(p2*10^6) %% 10 == 3), TRUE)\n",
    "    }) != TRUE) stop(\"Sorry, your variable ans is incorrect.\")"
   ]
  },
  {
   "cell_type": "code",
   "execution_count": 92,
   "id": "2afff5e3",
   "metadata": {
    "deletable": false,
    "editable": false,
    "nbgrader": {
     "cell_type": "code",
     "checksum": "7b35f2f45d8fe06a79f7ee1c312cb868",
     "grade": true,
     "grade_id": "cell-39ff4a8d9e1f80a2",
     "locked": true,
     "points": 7,
     "schema_version": 3,
     "solution": false,
     "task": false
    }
   },
   "outputs": [],
   "source": [
    "# test whether the answer is correct (hidden test)\n"
   ]
  },
  {
   "cell_type": "markdown",
   "id": "c100f8cb",
   "metadata": {
    "deletable": false,
    "editable": false,
    "nbgrader": {
     "cell_type": "markdown",
     "checksum": "0ade8065c193d528dc4ea1f6a57bd34b",
     "grade": false,
     "grade_id": "cell-575346ebc59fc7ed",
     "locked": true,
     "schema_version": 3,
     "solution": false,
     "task": false
    }
   },
   "source": [
    "### Question 3\n",
    "\n",
    "The actual proportion of families in a certain city who own (rather than rent) their home is $p=0.70$. Suppose $(n=) \\, 84$ families in this city are to be surveyed at random and their responses to the question of whether they own their home are assumed to be independent. \n",
    "\n",
    "Note that if we denote $S_n$ = the number of \"yes\"-es in the survey, then $S_n\\sim \\mathcal{B}in(n;p)$.\n",
    "\n",
    "Also denote $\\hat{p}={S_n\\over n}$ = the proportion of \"yes\"-es in the survey\n",
    "\n",
    "### Part (a)\n",
    "\n",
    "What is the exact probability that the value we obtain for the sample proportion $\\displaystyle \\hat{p}={S_n \\over n}$ will be at most 0.06 away from the true proportion $p=0.7$? In other words, find the probability $P(|\\hat{p}-p|\\leq 0.06)$? Write your answer as R variable `pexact`, i.e. \n",
    "\n",
    "`pexact = <some expression>`\n",
    "\n",
    "Do **not** round your answer.\n",
    "\n",
    "***Hint***: Note that\n",
    "\n",
    "$$|\\hat{p}-p| \\leq 0.06 \\hspace{.3cm} \\Leftrightarrow \\hspace{.3cm} -0.06 \\leq \\hat{p} - p \\leq 0.06 \\hspace{.3cm} \\Leftrightarrow \\hspace{.3cm} p - 0.06 \\leq \\underbrace{\\hat{p}}_{{S_n\\over n}} \\leq p + 0.06$$\n",
    "\n",
    "(This simple algebra was often used in Calc2).\n",
    "\n",
    "Multiplying by $n$, you should convert this into $a \\leq S_n \\leq b$ for some appropriate values $a$ and $b$. This way, you get\n",
    "\n",
    "$$P(|\\hat{p}-p|\\leq 0.06)=P(a\\leq S_n \\leq b).$$\n",
    "\n",
    "Then, use the R function `pbinom` and the fact that $S_n\\sim\\mathcal{B}in(n;p)$ to find this probability. Keep in mind that \n",
    "\n",
    "$$P(a\\leq S_n \\leq b) = P(S_n \\leq b) - P(S_n < a)$$\n",
    "\n",
    "(this is because $(-\\infty, b] = (-\\infty, a)\\, \\mathop{\\dot{\\cup}} \\, [a , b]$, so that we have $P(S_n \\leq b) = P(S_n < a) + P(a\\leq S_n\\leq b)$).\n",
    "\n",
    "<br> \n",
    "\n",
    "Do **not** round `pexact`."
   ]
  },
  {
   "cell_type": "code",
   "execution_count": 93,
   "id": "78e63bc2",
   "metadata": {
    "deletable": false,
    "nbgrader": {
     "cell_type": "code",
     "checksum": "967bd5f2f7e6a6f27b70c75ce35f6619",
     "grade": false,
     "grade_id": "cell-b9e83e3a741bba22",
     "locked": false,
     "schema_version": 3,
     "solution": true,
     "task": false
    }
   },
   "outputs": [],
   "source": [
    "n=84\n",
    "p=0.7\n",
    "a=0.64*n\n",
    "b=0.76*n\n",
    "pexact=pbinom(floor(b),n,p)-pbinom(floor(a),n,p)"
   ]
  },
  {
   "cell_type": "code",
   "execution_count": 94,
   "id": "fff585a7",
   "metadata": {
    "deletable": false,
    "editable": false,
    "nbgrader": {
     "cell_type": "code",
     "checksum": "19fe70d9d9e4a161d0a7dd8a20e75da4",
     "grade": true,
     "grade_id": "cell-a0e103476af7bd84",
     "locked": true,
     "points": 2,
     "schema_version": 3,
     "solution": false,
     "task": false
    }
   },
   "outputs": [
    {
     "name": "stdout",
     "output_type": "stream",
     "text": [
      "\u001b[32mTest passed\u001b[39m 😀\n",
      "\u001b[32mTest passed\u001b[39m 🌈\n"
     ]
    }
   ],
   "source": [
    "## check whether pexact is in [0,1] and that its 6th & 7th dec. digits are 82\n",
    "\n",
    "if (test_that(desc=\"\", code={\n",
    "    expect_equal( (0 <= pexact) & (pexact <= 1), TRUE)\n",
    "    }) != TRUE) stop(\"Sorry, your answer is not between 0 and 1\")\n",
    "\n",
    "if (test_that(desc=\"\", code={\n",
    "    expect_equal( (floor(pexact*10^7) %% 100 == 82), TRUE)\n",
    "    }) != TRUE) stop(\"Sorry, your answer is incorrect.\")\n"
   ]
  },
  {
   "cell_type": "code",
   "execution_count": 95,
   "id": "613027f6",
   "metadata": {
    "deletable": false,
    "editable": false,
    "nbgrader": {
     "cell_type": "code",
     "checksum": "d93f845b779ebf853176316647dde122",
     "grade": true,
     "grade_id": "cell-238a49de40261834",
     "locked": true,
     "points": 6,
     "schema_version": 3,
     "solution": false,
     "task": false
    }
   },
   "outputs": [],
   "source": [
    "# test whether the answer is correct (hidden test)\n"
   ]
  },
  {
   "cell_type": "markdown",
   "id": "ee2c805a",
   "metadata": {
    "deletable": false,
    "editable": false,
    "nbgrader": {
     "cell_type": "markdown",
     "checksum": "878bcbdeb92dd51f6f92716dc0adbad9",
     "grade": false,
     "grade_id": "cell-416a71dcbb78ecc5",
     "locked": true,
     "schema_version": 3,
     "solution": false,
     "task": false
    }
   },
   "source": [
    "#### Part (b)\n",
    "\n",
    "Using $n$, $p$, as well as the values $a$ and $b$ from part (a), find the probability $P(a \\leq Y_n \\leq b)$, where $Y_n\\sim \\mathcal{N}(\\mu; \\sigma^2)$, with mean $\\mu=n\\cdot p$, and variance $\\sigma^2 = n\\cdot p\\cdot (1-p)$ (so that the standard deviation is $\\sigma = \\sqrt{np(1-p)}$ ). \n",
    "\n",
    "Your probability $P(a\\leq Y_n \\leq b)$ should be approximately equal to $P(a\\leq S_n\\leq b) = P(|\\hat{p}-p|<0.06)$ (this is due to the Central Limit Theorem, which will be discussed soon). Write your answer (i.e. the value $P(a \\leq Y_n \\leq b)$) as R variable `pclt`, i.e. \n",
    "\n",
    "\n",
    "`pclt = <some expression>`\n",
    "\n",
    "Do **not** round your answer.\n",
    "\n",
    "***Hint:*** Use the R function `pnorm(q, mean, sd, lower.tail = TRUE)`. (see R documentation for details).\n",
    "\n"
   ]
  },
  {
   "cell_type": "code",
   "execution_count": 96,
   "id": "3a391e49",
   "metadata": {
    "deletable": false,
    "nbgrader": {
     "cell_type": "code",
     "checksum": "41cd2adb61b49435199ba894801dc7a2",
     "grade": false,
     "grade_id": "cell-50db5f85565227ac",
     "locked": false,
     "schema_version": 3,
     "solution": true,
     "task": false
    }
   },
   "outputs": [],
   "source": [
    "m=n*p\n",
    "sd=sqrt(n*p*(1-p))\n",
    "pclt=pnorm(b,m,sd)-pnorm(a,m,sd)"
   ]
  },
  {
   "cell_type": "code",
   "execution_count": 97,
   "id": "86e1421c",
   "metadata": {
    "deletable": false,
    "editable": false,
    "nbgrader": {
     "cell_type": "code",
     "checksum": "02572597eaf530218cb768fbc89fb96f",
     "grade": true,
     "grade_id": "cell-ee8dcb2fef8ba5ea",
     "locked": true,
     "points": 2,
     "schema_version": 3,
     "solution": false,
     "task": false
    }
   },
   "outputs": [
    {
     "name": "stdout",
     "output_type": "stream",
     "text": [
      "\u001b[32mTest passed\u001b[39m 😀\n",
      "\u001b[32mTest passed\u001b[39m 🎊\n"
     ]
    }
   ],
   "source": [
    "## check whether pclt is in [0,1] and that its 6th & 7th dec. digits are 06\n",
    "\n",
    "if (test_that(desc=\"\", code={\n",
    "    expect_equal( (0 <= pclt) & (pclt <= 1), TRUE)\n",
    "    }) != TRUE) stop(\"Sorry, your answer is not between 0 and 1\")\n",
    "\n",
    "if (test_that(desc=\"\", code={\n",
    "    expect_equal( (floor(pclt*10^7) %% 100 == 06), TRUE)\n",
    "    }) != TRUE) stop(\"Sorry, your answer is incorrect.\")"
   ]
  },
  {
   "cell_type": "code",
   "execution_count": 98,
   "id": "604d6920",
   "metadata": {
    "deletable": false,
    "editable": false,
    "nbgrader": {
     "cell_type": "code",
     "checksum": "7066fd1fdf49e56952e3036d9e3194ca",
     "grade": true,
     "grade_id": "cell-2b350c1997d02d15",
     "locked": true,
     "points": 6,
     "schema_version": 3,
     "solution": false,
     "task": false
    }
   },
   "outputs": [],
   "source": [
    "# test whether the answer is correct (hidden test)\n"
   ]
  }
 ],
 "metadata": {
  "kernelspec": {
   "display_name": "R",
   "language": "R",
   "name": "ir"
  },
  "language_info": {
   "codemirror_mode": "r",
   "file_extension": ".r",
   "mimetype": "text/x-r-source",
   "name": "R",
   "pygments_lexer": "r",
   "version": "4.3.3"
  }
 },
 "nbformat": 4,
 "nbformat_minor": 5
}
