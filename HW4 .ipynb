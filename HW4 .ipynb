{
 "cells": [
  {
   "cell_type": "markdown",
   "id": "eb7fe868",
   "metadata": {},
   "source": [
    "**IMPORTANT** <br> <ul> <li> Do **NOT** replace or remove this notebook (ipynb file)! Each cell has unique nbgrader's metadata and ID which, if changed outside the nbgrader, cannot pass the tests. Do **NOT** change the name of the file!</li> <li> To receive any credit, don't forget to **SUBMIT** your notebook when you are done! You can have multiple submissions before the deadline; only the last one is saved, including its timestamp.</li> <li>Before submitting, **Validate** your notebook to check if your codes pass all visible tests. </li> <li>Make sure you fill in any cell with the comment `# your code here`. Remove or comment the command `fail()` (in R), or `raise NotImplementedError` (in Python) and place your code there </li> </ul>"
   ]
  },
  {
   "cell_type": "code",
   "execution_count": 51,
   "id": "71346107",
   "metadata": {},
   "outputs": [],
   "source": [
    "NAME = \"Bhavya Patel\""
   ]
  },
  {
   "cell_type": "markdown",
   "id": "f71207a9",
   "metadata": {},
   "source": [
    "---"
   ]
  },
  {
   "cell_type": "code",
   "execution_count": 52,
   "id": "801ed64a",
   "metadata": {
    "deletable": false,
    "editable": false,
    "nbgrader": {
     "cell_type": "code",
     "checksum": "98320fb38032bd81b1ef3b94b86f7aba",
     "grade": false,
     "grade_id": "cell-818a703a2d5331ea",
     "locked": true,
     "schema_version": 3,
     "solution": false,
     "task": false
    }
   },
   "outputs": [],
   "source": [
    "## import libraries needed\n",
    "## make sure you run this code first!\n",
    "\n",
    "library(testthat)\n",
    "library(digest)\n",
    "library(stringr)"
   ]
  },
  {
   "cell_type": "markdown",
   "id": "b4f67a14",
   "metadata": {
    "deletable": false,
    "editable": false,
    "nbgrader": {
     "cell_type": "markdown",
     "checksum": "16416f05995c5bc06dfb6065a7a4adde",
     "grade": false,
     "grade_id": "cell-6fa2bd05ad8a7b3d",
     "locked": true,
     "schema_version": 3,
     "solution": false,
     "task": false
    }
   },
   "source": [
    "### Question 1.\n",
    "\n",
    "The length of the skulls of 12 collected fossil skeletons of an extinct species of bird has sample mean 5.68 cm. The standard deviation of the sample is 0.29 cm. Assuming that such measurements are normally distributed, find a 95% confidence interval for the mean length of the skulls of this species of bird. Create R vector `CI` of length two, so that the first and the second entries are the lower and the upper end points of your confidence interval, respectively. \n",
    "\n",
    "Do ***not*** round your answer."
   ]
  },
  {
   "cell_type": "code",
   "execution_count": 53,
   "id": "04fe024b",
   "metadata": {
    "deletable": false,
    "nbgrader": {
     "cell_type": "code",
     "checksum": "5646bff2ee71d500e7610385e6ddad76",
     "grade": false,
     "grade_id": "cell-c33bb8b7eb5842f0",
     "locked": false,
     "schema_version": 3,
     "solution": true,
     "task": false
    }
   },
   "outputs": [],
   "source": [
    "sm = 5.68\n",
    "sd = 0.29\n",
    "n = 12\n",
    "a = 1 - 0.95\n",
    "t = qt(1 - (a / 2), n-1)\n",
    "se = sd/sqrt(n)\n",
    "CI = c(sm-(se*t), sm+(se*t))\n"
   ]
  },
  {
   "cell_type": "code",
   "execution_count": 54,
   "id": "60849e7f",
   "metadata": {
    "deletable": false,
    "editable": false,
    "nbgrader": {
     "cell_type": "code",
     "checksum": "8f99c6bbeb466655db1d7e305032f6da",
     "grade": true,
     "grade_id": "cell-cd878eaca646d4fa",
     "locked": true,
     "points": 1,
     "schema_version": 3,
     "solution": false,
     "task": false
    }
   },
   "outputs": [
    {
     "name": "stdout",
     "output_type": "stream",
     "text": [
      "\u001b[32mTest passed\u001b[39m 🥇\n",
      "\u001b[32mTest passed\u001b[39m 😀\n"
     ]
    }
   ],
   "source": [
    "## check whether CI is a numeric vector of length 2\n",
    "\n",
    "if (test_that(desc=\"\", code={\n",
    "    expect_equal( is.numeric(CI), TRUE)\n",
    "    }) != TRUE) stop(\"Sorry, CI is not a numeric vector.\")\n",
    "\n",
    "if (test_that(desc=\"\", code={\n",
    "    expect_equal( length(CI)==2, TRUE)\n",
    "    }) != TRUE) stop(\"Sorry, CI is not of length 2.\")\n"
   ]
  },
  {
   "cell_type": "code",
   "execution_count": 55,
   "id": "edd693da",
   "metadata": {
    "deletable": false,
    "editable": false,
    "nbgrader": {
     "cell_type": "code",
     "checksum": "8ee83ca99a4472f371a8c1a273143e11",
     "grade": true,
     "grade_id": "cell-f35aa56f1ab32694",
     "locked": true,
     "points": 1,
     "schema_version": 3,
     "solution": false,
     "task": false
    }
   },
   "outputs": [
    {
     "name": "stdout",
     "output_type": "stream",
     "text": [
      "\u001b[32mTest passed\u001b[39m 😸\n",
      "\u001b[32mTest passed\u001b[39m 🌈\n"
     ]
    }
   ],
   "source": [
    "## check whether whether 6th and 7th dec. digits of CI[1] and CI[2] are 27 and 72, respectively\n",
    "\n",
    "if (test_that(desc=\"\", code={\n",
    "    expect_equal( (floor(CI[1]*10^7) %% 100 == 27), TRUE)\n",
    "    }) != TRUE) stop(\"Sorry, your CI is incorrect.\")\n",
    "\n",
    "if (test_that(desc=\"\", code={\n",
    "    expect_equal( (floor(CI[2]*10^7) %% 100 == 72), TRUE)\n",
    "    }) != TRUE) stop(\"Sorry, your CI is incorrect.\")\n"
   ]
  },
  {
   "cell_type": "code",
   "execution_count": 56,
   "id": "b1123720",
   "metadata": {
    "deletable": false,
    "editable": false,
    "nbgrader": {
     "cell_type": "code",
     "checksum": "981ca5e493f017c0be8d3451a1a895d2",
     "grade": true,
     "grade_id": "cell-19bedb1e1237248d",
     "locked": true,
     "points": 8,
     "schema_version": 3,
     "solution": false,
     "task": false
    }
   },
   "outputs": [],
   "source": [
    "## check whether the answer is correct (hidden test)\n",
    "\n"
   ]
  },
  {
   "cell_type": "markdown",
   "id": "7439dbe1",
   "metadata": {
    "deletable": false,
    "editable": false,
    "nbgrader": {
     "cell_type": "markdown",
     "checksum": "fde1e507bb1407aabb16ffb95ea3641f",
     "grade": false,
     "grade_id": "cell-85c838ad8dbbad8c",
     "locked": true,
     "schema_version": 3,
     "solution": false,
     "task": false
    }
   },
   "source": [
    "### Question 2.\n",
    "\n",
    "Equipment for measuring concentration of bacteria has standard deviation of the error equal to $\\sigma = 1.5\\cdot 10^6$ bacteria/(ml of fluid). Since error in measurement could be attributed to numerous weakly correlated minor affects, based on a version of central limit theorem with weaker assumptions than independence, we can assume that the error in measurement is (at least sufficiently accurately) normally distributed. Also, assume that the equipment makes unbiased measurements, i.e. the mean of the error in measurement is 0. Denote by $\\mu$ the true concentration of the bacteria (unknown to us), and by $X = \\mu + \\text{error}$, a single measurement.\n",
    "\n",
    "We saw in class that a linear transformation of a *normal* random variable (in this case a shift of $\\text{error}$) is also a *normal* random variable. So, measurement $X$ is a normal random variable. Also, using the basic properties of expected value and variance, we have that \n",
    "\n",
    "$$E[X]=E[\\mu+\\text{error}]=\\mu+E[\\text{error}]=\\mu$$\n",
    "\n",
    "as well as \n",
    "\n",
    "$$\\text{var}[X]=\\text{var}[\\mu+\\text{error}]=\\text{var}[\\text{error}]=\\sigma^2.$$\n",
    "\n",
    "\n",
    "(You ***must*** know these properties of expectation and variance). Thus, we can assume that $X\\sim\\mathcal{N}(\\mu; \\sigma^2)$. \n",
    "\n",
    "<br> \n",
    "\n",
    "#### Part (a)\n",
    "\n",
    "Suppose you make 10 measurements of the concentration and get the following values (in millions per ml of fluid), stored as R vector `x`:\n",
    "\n",
    "<br>\n",
    "\n",
    "`x = c(28.67, 26.89, 27.02, 29.38, 27.53, 25.65, 26.73, 27.34, 25.99, 26.24)`\n",
    "\n",
    "\n",
    "<br>\n",
    "\n",
    "Based on this sample, find the $95\\%$ confidence interval for the true concentration $\\mu$ of the bacteria in millions per ml of fluid (i.e. in $10^6$/ml). Do ***not*** round your answer.\n",
    "\n",
    "Create R vector `CI` of length two, so that the first and the second entries are the lower and the upper end points of your confidence interval interval. The values should be in millions per ml ($10^6$/ml).\n",
    "\n",
    "***Hint***: Make sure you have everything in millions per ml.\n",
    "\n",
    "Do ***not*** round your answer!\n",
    "\n",
    "<br>"
   ]
  },
  {
   "cell_type": "code",
   "execution_count": 57,
   "id": "afa86ad9",
   "metadata": {
    "deletable": false,
    "nbgrader": {
     "cell_type": "code",
     "checksum": "ffa9b475ba6b7769896afb4c1ddf7eb0",
     "grade": false,
     "grade_id": "cell-b0beb58ed766844d",
     "locked": false,
     "schema_version": 3,
     "solution": true,
     "task": false
    }
   },
   "outputs": [],
   "source": [
    "x = c(28.67, 26.89, 27.02, 29.38, 27.53, 25.65, 26.73, 27.34, 25.99, 26.24)\n",
    "\n",
    "sm = mean(x)\n",
    "sd = 1.5\n",
    "n = length(x)\n",
    "se = sd/sqrt(n)\n",
    "a = 1 - 0.95\n",
    "z = qnorm(1 - (a/2))\n",
    "CI = c(sm - (z*se), sm + (z*se))\n"
   ]
  },
  {
   "cell_type": "code",
   "execution_count": 58,
   "id": "a7a7b498",
   "metadata": {
    "deletable": false,
    "editable": false,
    "nbgrader": {
     "cell_type": "code",
     "checksum": "32447c6fdc852a3b5d0ccf49c92d85be",
     "grade": true,
     "grade_id": "cell-8f7529bdc2217ec3",
     "locked": true,
     "points": 1,
     "schema_version": 3,
     "solution": false,
     "task": false
    }
   },
   "outputs": [
    {
     "name": "stdout",
     "output_type": "stream",
     "text": [
      "\u001b[32mTest passed\u001b[39m 🥇\n",
      "\u001b[32mTest passed\u001b[39m 🌈\n"
     ]
    }
   ],
   "source": [
    "## check whether CI is a numeric vector of length 2\n",
    "\n",
    "if (test_that(desc=\"\", code={\n",
    "    expect_equal( is.numeric(CI), TRUE)\n",
    "    }) != TRUE) stop(\"Sorry, CI is not a numeric vector.\")\n",
    "\n",
    "if (test_that(desc=\"\", code={\n",
    "    expect_equal( length(CI)==2, TRUE)\n",
    "    }) != TRUE) stop(\"Sorry, CI is not of length 2.\")"
   ]
  },
  {
   "cell_type": "code",
   "execution_count": 59,
   "id": "ff44bd9c",
   "metadata": {
    "deletable": false,
    "editable": false,
    "nbgrader": {
     "cell_type": "code",
     "checksum": "2f4c773fdd24a780304d285e4b126d5a",
     "grade": true,
     "grade_id": "cell-3a7d3cd1049dba84",
     "locked": true,
     "points": 1,
     "schema_version": 3,
     "solution": false,
     "task": false
    }
   },
   "outputs": [
    {
     "name": "stdout",
     "output_type": "stream",
     "text": [
      "\u001b[32mTest passed\u001b[39m 🎉\n",
      "\u001b[32mTest passed\u001b[39m 🥇\n"
     ]
    }
   ],
   "source": [
    "## check whether whether 7th and 8th dec. digits of CI[1] and CI[2] are 45 and 54, respectively\n",
    "\n",
    "if (test_that(desc=\"\", code={\n",
    "    expect_equal( (floor(CI[1]*10^8) %% 100 == 45), TRUE)\n",
    "    }) != TRUE) stop(\"Sorry, your CI is incorrect.\")\n",
    "\n",
    "if (test_that(desc=\"\", code={\n",
    "    expect_equal( (floor(CI[2]*10^8) %% 100 == 54), TRUE)\n",
    "    }) != TRUE) stop(\"Sorry, your CI is incorrect.\")\n"
   ]
  },
  {
   "cell_type": "code",
   "execution_count": 60,
   "id": "3c1a601c",
   "metadata": {
    "deletable": false,
    "editable": false,
    "nbgrader": {
     "cell_type": "code",
     "checksum": "05cb4dc32634b51bcdb9953281f7e357",
     "grade": true,
     "grade_id": "cell-fe61a29bb61e2893",
     "locked": true,
     "points": 5,
     "schema_version": 3,
     "solution": false,
     "task": false
    }
   },
   "outputs": [],
   "source": [
    "## check whether the answer is correct (hidden test)\n",
    "\n"
   ]
  },
  {
   "cell_type": "markdown",
   "id": "a1d09eee",
   "metadata": {
    "deletable": false,
    "editable": false,
    "nbgrader": {
     "cell_type": "markdown",
     "checksum": "e6c85d3afe9efdc8cc76d59360be9489",
     "grade": false,
     "grade_id": "cell-d0bf7e1d44554b7d",
     "locked": true,
     "schema_version": 3,
     "solution": false,
     "task": false
    }
   },
   "source": [
    "#### Part (b)\n",
    "\n",
    "Find $z>0$ such that $P(|Z|<z)=0.90$, where $Z$ is the standard normal distribution, i.e.  $Z\\sim\\mathcal{N}(0;1)$. Store your answer as R variable `z`, so that your answer is \n",
    "\n",
    "`z = <some expression>`\n",
    "\n",
    "Do ***not*** round your answer!\n",
    "\n",
    "<br>"
   ]
  },
  {
   "cell_type": "code",
   "execution_count": 61,
   "id": "eab75a5b",
   "metadata": {
    "deletable": false,
    "nbgrader": {
     "cell_type": "code",
     "checksum": "d4426b434736f99a39c3f5e1c56d5e6d",
     "grade": false,
     "grade_id": "cell-aad154a4d4cc93ea",
     "locked": false,
     "schema_version": 3,
     "solution": true,
     "task": false
    }
   },
   "outputs": [],
   "source": [
    "z = qnorm(0.95)\n",
    "\n"
   ]
  },
  {
   "cell_type": "code",
   "execution_count": 62,
   "id": "fd2cbda1",
   "metadata": {
    "deletable": false,
    "editable": false,
    "nbgrader": {
     "cell_type": "code",
     "checksum": "0c1b445c0791b2e2744941ee8b8ef0c9",
     "grade": true,
     "grade_id": "cell-c32a3e7ee2bc6736",
     "locked": true,
     "points": 1,
     "schema_version": 3,
     "solution": false,
     "task": false
    }
   },
   "outputs": [
    {
     "name": "stdout",
     "output_type": "stream",
     "text": [
      "\u001b[32mTest passed\u001b[39m 🎊\n"
     ]
    }
   ],
   "source": [
    "## check whether the 6th and 7th decimal digits of z are 36\n",
    "\n",
    "\n",
    "if (test_that(desc=\"\", code={\n",
    "    expect_equal( (floor(z*10^7) %% 100 == 36), TRUE)\n",
    "    }) != TRUE) stop(\"Sorry, z is incorrect.\")\n"
   ]
  },
  {
   "cell_type": "code",
   "execution_count": 63,
   "id": "0246f46e",
   "metadata": {
    "deletable": false,
    "editable": false,
    "nbgrader": {
     "cell_type": "code",
     "checksum": "040416544f352b7ccc158bbd482790d3",
     "grade": true,
     "grade_id": "cell-fa3f9ecb58804643",
     "locked": true,
     "points": 4,
     "schema_version": 3,
     "solution": false,
     "task": false
    }
   },
   "outputs": [],
   "source": [
    "## check whether the answer is correct (hidden tests)\n",
    "\n"
   ]
  },
  {
   "cell_type": "markdown",
   "id": "862088e9",
   "metadata": {
    "deletable": false,
    "editable": false,
    "nbgrader": {
     "cell_type": "markdown",
     "checksum": "ed3e5676227e13fd4b3b9f5942809961",
     "grade": false,
     "grade_id": "cell-92d22215d62a196c",
     "locked": true,
     "schema_version": 3,
     "solution": false,
     "task": false
    }
   },
   "source": [
    "#### Part (c)\n",
    "\n",
    "How many measurements should you make to claim with at least $90\\%$ confidence that the obtained sample mean $\\bar{X}$, when used as an estimate of $\\mu$, falls within margin of error less than $0.5 \\cdot 10^6$ bacteria/ml from the true value $\\mu$? In other words, what should be the smallest sample size $n$ for which $ P(|\\bar{X}-\\mu|<0.5) \\geq 0.90$?\n",
    "\n",
    "To answer this question, we follow the discussion on confidence intervals from class, and apply it for margin of error $E=0.5$ (in $10^6$/ml). So, for $E=0.5$, we want $n$, so that the sample mean $\\displaystyle \\bar{X}={1\\over n}\\sum_{i=1}^n X_i$ satisfies\n",
    "\n",
    "$$0.90 = P(|\\bar{X}-\\mu|<E).$$\n",
    "\n",
    "Of course, there may be no integer $n$ for which the probability $P(|\\bar{X}-\\mu|<E)$ is exactly equal to $0.90$, but we will then make an adjustment, if necessary.\n",
    "\n",
    "Since $X\\sim\\mathcal{N}(\\mu;\\sigma^2)$, you should know that $\\bar{X}\\sim\\mathcal{N}(\\mu_{\\bar{X}}=\\mu;\\sigma^2_{\\bar{X}}={\\sigma^2\\over n})$ &nbsp; &nbsp; (you really **must know** this!) \n",
    "\n",
    "Another thing you must know from class is that if $Y\\sim\\mathcal{N}(\\mu_Y; \\sigma^2_Y)$, then its standardardized version $Y^*$ is standard normal random variable. That is,  $Y^*={Y-\\mu_Y\\over \\sigma_Y} = Z \\sim \\mathcal{N}(0;1)$. Applying this to $Y=\\bar{X}$, and having in mind a trivial algebraic fact that \n",
    "\n",
    "$$|\\bar{X}-\\mu|<E \\hspace{.3cm} \\Leftrightarrow \\hspace{.3cm} \\Big|{\\bar{X}-\\mu \\over {\\sigma\\over \\sqrt{n}}}\\Big| < {E\\over {\\sigma\\over \\sqrt{n}}}$$\n",
    "\n",
    "we have that\n",
    "\n",
    "$$0.90 = P(|\\bar{X}-\\mu|<E)=P\\Big(\\Big|\\underbrace{{\\bar{X}-\\mu \\over {\\sigma\\over \\sqrt{n}}}}_{\\sim Z}\\Big|<{E\\over {\\sigma\\over \\sqrt{n}}}\\Big)=P(|Z|<z)$$\n",
    "\n",
    "where $z$ is an appropriate quantile, determined in part (b).\n",
    "\n",
    "Now, you have $z, E$ and $\\sigma$, and you know that $z={E\\over {\\sigma\\over \\sqrt{n}}}$. So, find $n$. \n",
    "\n",
    "Store this value as R variable `nraw`. This value turns out NOT to be a whole number (why would it necessarily be!?). \n",
    "\n",
    "To get the smallest sample size for which the margin of error is less than $0.5\\cdot 10^6$ at confidence level of at least $90\\%$, you would need to round `nraw`. Think about what happens when you switch \n",
    "\n",
    "from &nbsp; $0.90 = P(|Z|<z)$ &nbsp; to &nbsp; $0.90 \\leq P(|Z|<z)$.\n",
    "\n",
    "Do you get $z \\geq {E\\over {\\sigma\\over \\sqrt{n}}}$ or $z\\leq {E\\over {\\sigma\\over \\sqrt{n}}}$?\n",
    "\n",
    "You can either use math (draw the picture) or basic intuition.\n",
    "\n",
    "\n",
    "\n",
    "You may want to use either R function `floor()` or `ceiling()`. You need to decide which of these two functions to apply on `nraw` in order to have the smallest $n$ for which the margin of error is less than $0.5\\cdot 10^6$ at confidence level of at least $90\\%$. Store this value as R variable `n`. So, your answer should be \n",
    "\n",
    "\n",
    "`nraw = <some expression>`\n",
    "\n",
    "`n = <some expression>`\n",
    "\n",
    "<br>\n",
    "\n",
    "Do ***not*** round your `nraw`.\n",
    "\n"
   ]
  },
  {
   "cell_type": "code",
   "execution_count": 64,
   "id": "f622a286",
   "metadata": {
    "deletable": false,
    "nbgrader": {
     "cell_type": "code",
     "checksum": "48e816f79812711240d57f7dc4e8bb1b",
     "grade": false,
     "grade_id": "cell-1d966d7633c9fab1",
     "locked": false,
     "schema_version": 3,
     "solution": true,
     "task": false
    }
   },
   "outputs": [],
   "source": [
    "E = 0.5\n",
    "sd = 1.5\n",
    "z = qnorm(0.95)\n",
    "nraw = ((sd*z)/E)^2\n",
    "n = ceiling(nraw)\n"
   ]
  },
  {
   "cell_type": "code",
   "execution_count": 65,
   "id": "2c9d323b",
   "metadata": {
    "deletable": false,
    "editable": false,
    "nbgrader": {
     "cell_type": "code",
     "checksum": "83fedb4d84fffaf9073bf922f0290ec2",
     "grade": true,
     "grade_id": "cell-2ed73ab34dfc2edc",
     "locked": true,
     "points": 1,
     "schema_version": 3,
     "solution": false,
     "task": false
    }
   },
   "outputs": [
    {
     "name": "stdout",
     "output_type": "stream",
     "text": [
      "\u001b[32mTest passed\u001b[39m 😸\n",
      "\u001b[32mTest passed\u001b[39m 😀\n"
     ]
    }
   ],
   "source": [
    "## check whether the 6th and 7th decimal digits of nraw are 10; and whether n is an integer\n",
    "\n",
    "if (test_that(desc=\"\", code={\n",
    "    expect_equal( (floor(nraw*10^7) %% 100 == 10), TRUE)\n",
    "    }) != TRUE) stop(\"Sorry, nraw is incorrect.\")\n",
    "\n",
    "\n",
    "if (test_that(desc=\"\", code={\n",
    "    expect_equal( n %% 1 == 0, TRUE)\n",
    "    }) != TRUE) stop(\"Sorry, n is not an integer.\")"
   ]
  },
  {
   "cell_type": "code",
   "execution_count": 66,
   "id": "ac0799af",
   "metadata": {
    "deletable": false,
    "editable": false,
    "nbgrader": {
     "cell_type": "code",
     "checksum": "e2dc5a1f0d32cd384707f95439b5fceb",
     "grade": true,
     "grade_id": "cell-313ae481e07a1bad",
     "locked": true,
     "points": 5,
     "schema_version": 3,
     "solution": false,
     "task": false
    }
   },
   "outputs": [],
   "source": [
    "## check whether nraw is correct (hidden test)\n",
    "\n"
   ]
  },
  {
   "cell_type": "code",
   "execution_count": 67,
   "id": "96c42294",
   "metadata": {
    "deletable": false,
    "editable": false,
    "nbgrader": {
     "cell_type": "code",
     "checksum": "0393dcfdf11f5c12917e33957152913f",
     "grade": true,
     "grade_id": "cell-29a3feb81c85ec1e",
     "locked": true,
     "points": 3,
     "schema_version": 3,
     "solution": false,
     "task": false
    }
   },
   "outputs": [],
   "source": [
    "## check whether n is correct (hidden test)\n"
   ]
  },
  {
   "cell_type": "markdown",
   "id": "d7389812",
   "metadata": {
    "deletable": false,
    "editable": false,
    "nbgrader": {
     "cell_type": "markdown",
     "checksum": "364eed782ec09640f658bc67885281a2",
     "grade": false,
     "grade_id": "cell-f5a49f4a7d57b9dc",
     "locked": true,
     "schema_version": 3,
     "solution": false,
     "task": false
    }
   },
   "source": [
    "### Question 3.\n",
    "\n",
    "In a random sample of $300$ persons eating lunch at a department store cafeteria, $102$ of them had a dessert.\n",
    "If we use sample proportion $\\hat{p}$ as an estimate of the corresponding true proportion p of those who include a dessert in their lunch order, with what (approximate) confidence can we assert that our error $|\\hat{p}-p|$ is less than $0.05$? That is, find $P(|\\hat{p}-p|<0.05)$. Store your answer as R variable `confidence`, so that your answer is \n",
    "\n",
    "`confidence = <some expression>`\n",
    "\n",
    "Do ***not*** round your answer.\n",
    "\n",
    "***Hint:*** Drawing a picture could be helpful when deciding which (upper) quantile is needed and how to express the desired probability in terms of that quantile."
   ]
  },
  {
   "cell_type": "code",
   "execution_count": 68,
   "id": "95d99b7c",
   "metadata": {
    "deletable": false,
    "nbgrader": {
     "cell_type": "code",
     "checksum": "7324ccf0dd9d476a8053d5975e974c98",
     "grade": false,
     "grade_id": "cell-716b1d0612e744d6",
     "locked": false,
     "schema_version": 3,
     "solution": true,
     "task": false
    }
   },
   "outputs": [],
   "source": [
    "n = 300\n",
    "x = 102\n",
    "E = 0.05\n",
    "pc = x/n\n",
    "se = sqrt(pc * (1-pc) / n)\n",
    "z = E/se\n",
    "confidence = pnorm(z) - pnorm(-z)\n"
   ]
  },
  {
   "cell_type": "code",
   "execution_count": 69,
   "id": "61bb5db2",
   "metadata": {
    "deletable": false,
    "editable": false,
    "nbgrader": {
     "cell_type": "code",
     "checksum": "da675b418993af55ee2931d3ae002063",
     "grade": true,
     "grade_id": "cell-4b92812b8959dfc6",
     "locked": true,
     "points": 1,
     "schema_version": 3,
     "solution": false,
     "task": false
    }
   },
   "outputs": [
    {
     "name": "stdout",
     "output_type": "stream",
     "text": [
      "\u001b[32mTest passed\u001b[39m 🌈\n"
     ]
    }
   ],
   "source": [
    "## check whether the 6th and 7th decimal digits of confidence are 76\n",
    "\n",
    "if (test_that(desc=\"\", code={\n",
    "    expect_equal( (floor(confidence*10^7) %% 100 == 76), TRUE)\n",
    "    }) != TRUE) stop(\"Sorry, your answer is incorrect.\")\n"
   ]
  },
  {
   "cell_type": "code",
   "execution_count": 70,
   "id": "f219f5dd",
   "metadata": {
    "deletable": false,
    "editable": false,
    "nbgrader": {
     "cell_type": "code",
     "checksum": "344003634b6828a52b36d80674257cb6",
     "grade": true,
     "grade_id": "cell-9748fc41c61eac40",
     "locked": true,
     "points": 8,
     "schema_version": 3,
     "solution": false,
     "task": false
    }
   },
   "outputs": [],
   "source": [
    "## check whether the answer is correct (hidden test)\n",
    "\n"
   ]
  },
  {
   "cell_type": "markdown",
   "id": "a2944b71",
   "metadata": {
    "deletable": false,
    "editable": false,
    "nbgrader": {
     "cell_type": "markdown",
     "checksum": "4d2608e0fb4d52467ef9c576ee2289ed",
     "grade": false,
     "grade_id": "cell-a02ff11d1a1d16a9",
     "locked": true,
     "schema_version": 3,
     "solution": false,
     "task": false
    }
   },
   "source": [
    "### Question 4.\n",
    "\n",
    "Let $X$ be a random variable whose density is given by $f(x) = \\begin{cases}\\theta \\, e^{-\\theta x} &, x >0 \\\\ \\hspace{.3cm} 0 &, x\\leq 0 \\end{cases}$, where $\\theta>0$ is a fixed parameter.\n",
    "\n",
    "<br>\n",
    "\n",
    "#### Part (a)\n",
    "\n",
    "Create R function `likely(theta,x)` which, for a given value of parameter `theta` and a given vector `x` (which represents a sample from the population $X$), returns the corresponding value of the likelihood function of parameter $\\theta$ of population $X$, based on the sample `x`.\n",
    "\n",
    "Note that since $f(t)=0$ for $t\\leq 0$, we can assume that all the entries of the sample are positive.  So, think of R variable `x` as a vector \n",
    "\n",
    "$$(x_1,x_2,...,x_n) \\hspace{.3cm} \\text{with } x_i>0, \\text{ for all } i\\in\\{1,2,...,n\\}.$$\n",
    "\n",
    "\n",
    "In other words, you don't need to worry about how to handle situation in which $x_i\\leq 0$ for some $i\\in\\{1,2,....,n\\}$ (although in that case the likelihood \n",
    "equals 0, so it's trivial).  \n",
    "\n",
    "Your function `likely()` should be flexible allowing vector `x` to be of any length.\n",
    "\n",
    "***Hint:*** After figuring out the mathematical formula for the likelihood function $L(\\theta;\\vec{x})$, your R function `likely()` should have one or two lines of code. No loops, nor if-else statments, please! Loops are okay only when you cannot vectorize.\n",
    "\n"
   ]
  },
  {
   "cell_type": "code",
   "execution_count": 71,
   "id": "b02e5767",
   "metadata": {
    "deletable": false,
    "nbgrader": {
     "cell_type": "code",
     "checksum": "0db3eea69e3b439d9243cff1394f46b5",
     "grade": false,
     "grade_id": "cell-fdd80439f0f8b276",
     "locked": false,
     "schema_version": 3,
     "solution": true,
     "task": false
    }
   },
   "outputs": [],
   "source": [
    "likely <- function(theta, x) {\n",
    "  return (theta^length(x) * exp(-theta * sum(x)))\n",
    "}\n",
    "\n"
   ]
  },
  {
   "cell_type": "code",
   "execution_count": 72,
   "id": "7faad23a",
   "metadata": {
    "deletable": false,
    "editable": false,
    "nbgrader": {
     "cell_type": "code",
     "checksum": "6a97e7ed08d3f2b36ee50514dfa45c67",
     "grade": true,
     "grade_id": "cell-01b236b85e1b8195",
     "locked": true,
     "points": 2,
     "schema_version": 3,
     "solution": false,
     "task": false
    }
   },
   "outputs": [
    {
     "name": "stdout",
     "output_type": "stream",
     "text": [
      "\u001b[32mTest passed\u001b[39m 🥳\n",
      "\u001b[32mTest passed\u001b[39m 🎊\n"
     ]
    }
   ],
   "source": [
    "## check the output of likely() for some combinations of x and theta\n",
    "\n",
    "theta1 = 1.8; x1 = c(1.4, 0.5, 0.15, 0.8, 0.4, 0.06, 0.7)\n",
    "theta2 = 3.5; x2 = c(0.3, 0.6, 0.05, 0.2, 0.12, 0.77)\n",
    "\n",
    "if (test_that(desc=\"\", code={\n",
    "    expect_equal( abs(likely(theta1, x1) - 0.0448921045151155) < 1e-7, TRUE)\n",
    "    }) != TRUE) stop(\"Sorry, wrong answer.\")\n",
    "\n",
    "if (test_that(desc=\"\", code={\n",
    "    expect_equal( abs(likely(theta2, x2) - 1.45728892808099) < 1e-7, TRUE)\n",
    "    }) != TRUE) stop(\"Sorry, wrong answer.\")\n"
   ]
  },
  {
   "cell_type": "code",
   "execution_count": 73,
   "id": "da9b79a3",
   "metadata": {
    "deletable": false,
    "editable": false,
    "nbgrader": {
     "cell_type": "code",
     "checksum": "5ec301c0f49addcb7335741d731077e5",
     "grade": true,
     "grade_id": "cell-836f4b70e2922da8",
     "locked": true,
     "points": 4,
     "schema_version": 3,
     "solution": false,
     "task": false
    }
   },
   "outputs": [],
   "source": [
    "## check whether the answer is correct (hidden tests)\n",
    "\n",
    "\n"
   ]
  },
  {
   "cell_type": "markdown",
   "id": "bb01f683",
   "metadata": {
    "deletable": false,
    "editable": false,
    "nbgrader": {
     "cell_type": "markdown",
     "checksum": "98f2870b13e0dad020847de54505853e",
     "grade": false,
     "grade_id": "cell-fb5151aa6bc4f504",
     "locked": true,
     "schema_version": 3,
     "solution": false,
     "task": false
    }
   },
   "source": [
    "#### Part (b)\n",
    "\n",
    "Create R function `MLEtheta(x)` which, for a sample vector `x` from the population $X$ defined in the part (a), returns $\\hat{\\theta}_{MLE}$, the maximum likelihood estimate of the parameter $\\theta$, based on the sample vector `x`.\n",
    "\n",
    "**Hint:** As usual, instead of maximizing $L(\\theta;\\vec{x})$, it's easier to maximize  $\\ln L(\\theta;\\vec{x})$ and use basic properties of $\\ln$ (natural logarithm). After you find $\\hat{\\theta}_{MLE}$ mathematically, your R function `MLEtheta(x)` should have one line of code (although the test does not check for the number of code lines).\n",
    "\n",
    "For your convenience, here are some basic rules of logarithms.\n",
    "\n",
    "$1.$ $\\ln (A\\cdot B) = \\ln A + \\ln B$\n",
    "\n",
    "$2.$ $\\ln A^{\\alpha} = \\alpha \\ln A$\n",
    "\n",
    "$3.$ $\\ln e = 1$"
   ]
  },
  {
   "cell_type": "code",
   "execution_count": 74,
   "id": "f45685b4",
   "metadata": {
    "deletable": false,
    "nbgrader": {
     "cell_type": "code",
     "checksum": "cbc85b8db5879e1469bef12ae302f980",
     "grade": false,
     "grade_id": "cell-2d90b357d61bdba6",
     "locked": false,
     "schema_version": 3,
     "solution": true,
     "task": false
    }
   },
   "outputs": [],
   "source": [
    "\n",
    "MLEtheta <- function(x) {\n",
    "  return(length(x) / sum(x))\n",
    "}\n"
   ]
  },
  {
   "cell_type": "code",
   "execution_count": 75,
   "id": "ee3ce1d8",
   "metadata": {
    "deletable": false,
    "editable": false,
    "nbgrader": {
     "cell_type": "code",
     "checksum": "ad8649932f514db6fb91e80d33a6794c",
     "grade": true,
     "grade_id": "cell-7dcec6583ffc0513",
     "locked": true,
     "points": 1,
     "schema_version": 3,
     "solution": false,
     "task": false
    }
   },
   "outputs": [
    {
     "name": "stdout",
     "output_type": "stream",
     "text": [
      "\u001b[32mTest passed\u001b[39m 😸\n",
      "\u001b[32mTest passed\u001b[39m 🥇\n"
     ]
    }
   ],
   "source": [
    "## check whether MLEtheta is correct for some sample vectors\n",
    "\n",
    "x1 = c(1.4, 0.5, 0.15, 0.8, 0.4, 0.06, 0.7)\n",
    "x2 = c(0.3, 0.6, 0.05, 0.2, 0.12, 0.77)\n",
    "\n",
    "\n",
    "if (test_that(desc=\"\", code={\n",
    "    expect_equal( abs(MLEtheta(x1) - 1.74563591022444) < 1e-7, TRUE)\n",
    "    }) != TRUE) stop(\"Sorry, wrong answer.\")\n",
    "\n",
    "if (test_that(desc=\"\", code={\n",
    "    expect_equal( abs(MLEtheta(x2) - 2.94117647058824) < 1e-7, TRUE)\n",
    "    }) != TRUE) stop(\"Sorry, wrong answer.\")\n"
   ]
  },
  {
   "cell_type": "code",
   "execution_count": 76,
   "id": "00289cf7",
   "metadata": {
    "deletable": false,
    "editable": false,
    "nbgrader": {
     "cell_type": "code",
     "checksum": "bdf0732e3f9088c77adafdf032a17ef5",
     "grade": true,
     "grade_id": "cell-bcfcdec961201b24",
     "locked": true,
     "points": 3,
     "schema_version": 3,
     "solution": false,
     "task": false
    }
   },
   "outputs": [],
   "source": [
    "## check whether MLEtheta is correct (hidden tests)\n",
    "\n"
   ]
  }
 ],
 "metadata": {
  "kernelspec": {
   "display_name": "R",
   "language": "R",
   "name": "ir"
  },
  "language_info": {
   "codemirror_mode": "r",
   "file_extension": ".r",
   "mimetype": "text/x-r-source",
   "name": "R",
   "pygments_lexer": "r",
   "version": "4.3.3"
  }
 },
 "nbformat": 4,
 "nbformat_minor": 5
}
