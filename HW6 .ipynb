{
 "cells": [
  {
   "cell_type": "markdown",
   "metadata": {},
   "source": [
    "**IMPORTANT** <br> <ul> <li> Do **NOT** replace or remove this notebook (ipynb file)! Each cell has unique nbgrader's metadata and ID which, if changed outside the nbgrader, cannot pass the tests. Do **NOT** change the name of the file!</li> <li> To receive any credit, don't forget to **SUBMIT** your notebook when you are done! You can have multiple submissions before the deadline; only the last one is saved, including its timestamp.</li> <li>Before submitting, **Validate** your notebook to check if your codes pass all visible tests. </li> <li>Make sure you fill in any cell with the comment `# your code here`. Remove or comment the command `fail()` (in R), or `raise NotImplementedError` (in Python) and place your code there </li> </ul>"
   ]
  },
  {
   "cell_type": "code",
   "execution_count": 54,
   "metadata": {},
   "outputs": [],
   "source": [
    "NAME = \"Bhavya Patel\""
   ]
  },
  {
   "cell_type": "markdown",
   "metadata": {},
   "source": [
    "---"
   ]
  },
  {
   "cell_type": "code",
   "execution_count": 55,
   "metadata": {
    "deletable": false,
    "editable": false,
    "nbgrader": {
     "cell_type": "code",
     "checksum": "9e33e193dd26db0eeb4c8428f454b5bc",
     "grade": false,
     "grade_id": "cell-9fee0b6bde088dca",
     "locked": true,
     "schema_version": 3,
     "solution": false,
     "task": false
    }
   },
   "outputs": [],
   "source": [
    "library(testthat)\n",
    "library(digest)\n",
    "library(stringr)"
   ]
  },
  {
   "cell_type": "markdown",
   "metadata": {
    "deletable": false,
    "editable": false,
    "nbgrader": {
     "cell_type": "markdown",
     "checksum": "373323e6ccb67eb6965a03884140c790",
     "grade": false,
     "grade_id": "cell-d0c1b669b13f7861",
     "locked": true,
     "schema_version": 3,
     "solution": false,
     "task": false
    }
   },
   "source": [
    "### Question 1\n",
    "\n",
    "In *American Journal of Physical Anthropology* (Vol. 142, 2010) a study was published, which discusses characteristics of cheek teeth (i.e. molars) in an extinct primate species. The researchers recorded the dentary depth of molars (in millimeters) for a sample of 18 molars extracted from skulls. The recorded values are stored in the vector below (you may see more than one line). <br>\n",
    "\n",
    "<code>x = c(18.12, 19.48, 19.36, 15.94, 15.83, 19.70, 15.76, 17.00, 13.96, 16.55, 15.70, 17.83, 13.25, 16.12, 18.13, 14.02, 14.04, 16.20)\n",
    "</code>\n",
    "\n",
    "Anthropologists know that the mean dentary depth of molars in a certain extinct primate species (called Species A) is $15.2$ millimeters. At the significance level $\\alpha=0.05$, we would like to investigate whether there is evidence to indicate that the sample of 18 cheek teeth come from some other extinct primate species, i.e. that the dentary depth of the extracted molars comes from population whose mean is $\\mu\\neq 15.2$?\n",
    "\n",
    "Assume that the dentary depth of the molars is normally distributed.\n",
    "\n",
    "#### Part (a)\n",
    "\n",
    "Which statistic, $z={\\bar{X}-\\mu \\over {\\sigma \\over  \\sqrt{n}}}$ or $t={\\bar{X}-\\mu \\over {S\\over  \\sqrt{n}}}$, should be used, and which of the following tests is appropriate to perform?\n",
    "\n",
    "\n",
    "\n",
    "1. $H_0: \\mu=15.2$ vs. $H_a: \\mu > 15.2$; critical region: $z\\leq z^*$ for some $z^*\\in \\mathbf{R}$.\n",
    "\n",
    "2. $H_0: \\mu=15.2$ vs. $H_a: \\mu > 15.2$; critical region: $t\\geq t^*$ for some $t^*\\in \\mathbf{R}$.\n",
    "\n",
    "3. $H_0: \\mu = 15.2$ vs. $H_a: \\mu \\neq 15.2$; critical region: $|z|\\geq z^*$ for some $z^*\\in \\mathbf{R}$.\n",
    "\n",
    "4. $H_0: \\mu = 15.2$ vs. $H_a: \\mu \\neq 15.2$; critical region: $|z|\\leq z^*$ for some $z^*\\in \\mathbf{R}$.\n",
    "\n",
    "5. $H_0: \\mu = 15.2$ vs. $H_a: \\mu \\neq 15.2$; critical region: $|t|\\geq t^*$ for some $t^*\\in \\mathbf{R}$.\n",
    "\n",
    "6. $H_0: \\mu = 15.2$ vs. $H_a: \\mu \\neq 15.2$; critical region: $|t|\\leq t^*$ for some $t^*\\in \\mathbf{R}$.\n",
    "\n",
    "7. None of the above\n",
    "\n",
    "\n",
    "<br>\n",
    "\n",
    "Create a variable `ans` and assign one of the integers 1,2,...,7 depending on which of these answers should be correct. For example, if you think the answer is 7, then write\n",
    "\n",
    "`ans = 7`\n",
    "\n",
    "<br>"
   ]
  },
  {
   "cell_type": "code",
   "execution_count": 56,
   "metadata": {
    "deletable": false,
    "nbgrader": {
     "cell_type": "code",
     "checksum": "d822a8e7954486b9f16ba8d5dc3ee356",
     "grade": false,
     "grade_id": "cell-469f9483c52fd974",
     "locked": false,
     "schema_version": 3,
     "solution": true,
     "task": false
    }
   },
   "outputs": [],
   "source": [
    "\n",
    "ans=5\n"
   ]
  },
  {
   "cell_type": "code",
   "execution_count": 57,
   "metadata": {
    "deletable": false,
    "editable": false,
    "nbgrader": {
     "cell_type": "code",
     "checksum": "a077a8372f21fa6e99ae6a791411a791",
     "grade": true,
     "grade_id": "cell-732af9cd8497118b",
     "locked": true,
     "points": 1,
     "schema_version": 3,
     "solution": false,
     "task": false
    }
   },
   "outputs": [
    {
     "name": "stdout",
     "output_type": "stream",
     "text": [
      "\u001b[32mTest passed\u001b[39m 😸\n"
     ]
    }
   ],
   "source": [
    "## check whether variable ans is one of the numbers 1,2,...,7\n",
    "\n",
    "if (test_that(desc=\"\", code={\n",
    "    expect_equal(ans %in% 1:7, TRUE)\n",
    "}) != TRUE) stop(\"ans not created or is not numeric!\")\n"
   ]
  },
  {
   "cell_type": "code",
   "execution_count": 58,
   "metadata": {
    "deletable": false,
    "editable": false,
    "nbgrader": {
     "cell_type": "code",
     "checksum": "612e5691a68a68f38db32a67073d695f",
     "grade": true,
     "grade_id": "cell-e6527866e74c7333",
     "locked": true,
     "points": 2,
     "schema_version": 3,
     "solution": false,
     "task": false
    }
   },
   "outputs": [],
   "source": [
    "## check whether ans is correct (hidden test)\n",
    "\n"
   ]
  },
  {
   "cell_type": "markdown",
   "metadata": {
    "deletable": false,
    "editable": false,
    "nbgrader": {
     "cell_type": "markdown",
     "checksum": "c830c9c68d32621fd5fb355c19996a6c",
     "grade": false,
     "grade_id": "cell-2e95a70a0da0828e",
     "locked": true,
     "schema_version": 3,
     "solution": false,
     "task": false
    }
   },
   "source": [
    "#### Part (b)\n",
    "\n",
    "Find the appropriate critical value $t^*$ (yes, this reveals a hint about part (a)). Store your answer as R variable `tcrit`:\n",
    "\n",
    "`tcrit = <some expression>`\n",
    "\n",
    "Do **not** round your answer.\n",
    "\n",
    "<br>"
   ]
  },
  {
   "cell_type": "code",
   "execution_count": 59,
   "metadata": {
    "deletable": false,
    "nbgrader": {
     "cell_type": "code",
     "checksum": "4fb94c2ca9021ba980b7c21ba09df237",
     "grade": false,
     "grade_id": "cell-3c2ca09076596dbe",
     "locked": false,
     "schema_version": 3,
     "solution": true,
     "task": false
    }
   },
   "outputs": [],
   "source": [
    "\n",
    "tcrit = qt(0.975, 17)\n"
   ]
  },
  {
   "cell_type": "code",
   "execution_count": 60,
   "metadata": {
    "deletable": false,
    "editable": false,
    "nbgrader": {
     "cell_type": "code",
     "checksum": "42cc972407ace8d26b520f729dc8b2d7",
     "grade": true,
     "grade_id": "cell-673c58ea4369d24a",
     "locked": true,
     "points": 1,
     "schema_version": 3,
     "solution": false,
     "task": false
    }
   },
   "outputs": [
    {
     "name": "stdout",
     "output_type": "stream",
     "text": [
      "\u001b[32mTest passed\u001b[39m 🌈\n"
     ]
    }
   ],
   "source": [
    "## check whether 6th and 7th decimal digits of tcrit are 55\n",
    "\n",
    "if (test_that(desc=\"\", code={\n",
    "    expect_equal(floor(10^7 * tcrit) %% 100 , 55)\n",
    "}) != TRUE) stop(\"Sorry, wrong answer\")"
   ]
  },
  {
   "cell_type": "code",
   "execution_count": 61,
   "metadata": {
    "deletable": false,
    "editable": false,
    "nbgrader": {
     "cell_type": "code",
     "checksum": "9a8804bff0d3c18af8968a5338244685",
     "grade": true,
     "grade_id": "cell-d7d1c3382c3adde6",
     "locked": true,
     "points": 3,
     "schema_version": 3,
     "solution": false,
     "task": false
    }
   },
   "outputs": [],
   "source": [
    "## check whether the answer is correct (hidden tests)\n",
    "\n"
   ]
  },
  {
   "cell_type": "markdown",
   "metadata": {
    "deletable": false,
    "editable": false,
    "nbgrader": {
     "cell_type": "markdown",
     "checksum": "df902ab1a5fb46367b300a37e4271205",
     "grade": false,
     "grade_id": "cell-cb823145ae9100a3",
     "locked": true,
     "schema_version": 3,
     "solution": false,
     "task": false
    }
   },
   "source": [
    "#### Part (c)\n",
    "\n",
    "Find $p$-value. Store it as R variable `pval`:\n",
    "\n",
    "`pval = <some expression>`\n",
    "\n",
    "Do **not** round your answer.\n",
    "\n",
    "<br>"
   ]
  },
  {
   "cell_type": "code",
   "execution_count": 62,
   "metadata": {
    "deletable": false,
    "nbgrader": {
     "cell_type": "code",
     "checksum": "be8134fe500a2fc5e3928556a6841d27",
     "grade": false,
     "grade_id": "cell-1ba915c0d8115fee",
     "locked": false,
     "schema_version": 3,
     "solution": true,
     "task": false
    }
   },
   "outputs": [],
   "source": [
    "\n",
    "x = c(18.12, 19.48, 19.36, 15.94, 15.83, 19.70, 15.76, 17.00, 13.96, 16.55, 15.70, 17.83, 13.25, 16.12, 18.13, 14.02, 14.04, 16.20)\n",
    "pval = 2 * (1 - pt(abs((mean(x) - 15.2) / (sd(x) / sqrt(18))), df = 17))\n"
   ]
  },
  {
   "cell_type": "code",
   "execution_count": 63,
   "metadata": {
    "deletable": false,
    "editable": false,
    "nbgrader": {
     "cell_type": "code",
     "checksum": "d9a18a043ee46129c16845b2fbeca840",
     "grade": true,
     "grade_id": "cell-c4c056d94741918b",
     "locked": true,
     "points": 1,
     "schema_version": 3,
     "solution": false,
     "task": false
    }
   },
   "outputs": [
    {
     "name": "stdout",
     "output_type": "stream",
     "text": [
      "\u001b[32mTest passed\u001b[39m 🌈\n"
     ]
    }
   ],
   "source": [
    "## check whether 6th and 7th decimal digits of pval are 93\n",
    "\n",
    "if (test_that(desc=\"\", code={\n",
    "    expect_equal(floor(10^7 * pval) %% 100 , 93)\n",
    "}) != TRUE) stop(\"Sorry, wrong answer\")\n"
   ]
  },
  {
   "cell_type": "code",
   "execution_count": 64,
   "metadata": {
    "deletable": false,
    "editable": false,
    "nbgrader": {
     "cell_type": "code",
     "checksum": "d932d7f5f1b36cc1456e128af0056b8a",
     "grade": true,
     "grade_id": "cell-84c430ceba8005bc",
     "locked": true,
     "points": 3,
     "schema_version": 3,
     "solution": false,
     "task": false
    }
   },
   "outputs": [],
   "source": [
    "## check whether the answer is correct (hidden tests)\n",
    "\n"
   ]
  },
  {
   "cell_type": "markdown",
   "metadata": {
    "deletable": false,
    "editable": false,
    "nbgrader": {
     "cell_type": "markdown",
     "checksum": "9e2e25c39cd632add8e41980efeffbfd",
     "grade": false,
     "grade_id": "cell-1fd9deaf934db057",
     "locked": true,
     "schema_version": 3,
     "solution": false,
     "task": false
    }
   },
   "source": [
    "#### Part (d)\n",
    "\n",
    "Using either test statistic $t$ and the critical region, OR, using p-value, what is your conclusion?\n",
    "\n",
    "1. Reject $H_0$ and conclude that there is a statistically significant evidence to support the claim that the 18 molars belong to a different species (i.e. not Species A).\n",
    "\n",
    "2. Fail to reject $H_0$. That is, there is not sufficient evidence to support the claim that the 18 molars belong to Species A.\n",
    "\n",
    "Store your answer as variable `ans`:\n",
    "\n",
    "`ans = <either put 1 or 2>`\n",
    "\n",
    "<br>"
   ]
  },
  {
   "cell_type": "code",
   "execution_count": 65,
   "metadata": {
    "deletable": false,
    "editable": false,
    "nbgrader": {
     "cell_type": "code",
     "checksum": "29cec619a91abdd0ae0ce709e2d0bb82",
     "grade": false,
     "grade_id": "cell-1a3352eb956ea754",
     "locked": true,
     "schema_version": 3,
     "solution": false,
     "task": false
    }
   },
   "outputs": [],
   "source": [
    "\n",
    "##remove previous ans\n",
    "if (exists(\"ans\")) rm(\"ans\") ##do NOT change this code"
   ]
  },
  {
   "cell_type": "code",
   "execution_count": 66,
   "metadata": {
    "deletable": false,
    "nbgrader": {
     "cell_type": "code",
     "checksum": "8a06db82de534a32dca5db1eb7bb8cf6",
     "grade": false,
     "grade_id": "cell-c0b590f8b63cc4fe",
     "locked": false,
     "schema_version": 3,
     "solution": true,
     "task": false
    }
   },
   "outputs": [],
   "source": [
    "\n",
    "ans = 1\n"
   ]
  },
  {
   "cell_type": "code",
   "execution_count": 67,
   "metadata": {
    "deletable": false,
    "editable": false,
    "nbgrader": {
     "cell_type": "code",
     "checksum": "7d957c24a0567f108223cbd04e9d7c75",
     "grade": true,
     "grade_id": "cell-14040965bb8d9e61",
     "locked": true,
     "points": 4,
     "schema_version": 3,
     "solution": false,
     "task": false
    }
   },
   "outputs": [
    {
     "name": "stdout",
     "output_type": "stream",
     "text": [
      "\u001b[32mTest passed\u001b[39m 🥳\n"
     ]
    }
   ],
   "source": [
    "## check whether ans is 1 or 2\n",
    "\n",
    "if (test_that(desc=\"\", code={\n",
    "    expect_equal(ans %in% c(1,2), TRUE)\n",
    "}) != TRUE) stop(\"Sorry, wrong answer\")"
   ]
  },
  {
   "cell_type": "markdown",
   "metadata": {
    "deletable": false,
    "editable": false,
    "nbgrader": {
     "cell_type": "markdown",
     "checksum": "3dc3e4acb769dad8b3a004ff20f398ef",
     "grade": false,
     "grade_id": "cell-48c2db671d9d618e",
     "locked": true,
     "schema_version": 3,
     "solution": false,
     "task": false
    }
   },
   "source": [
    "### Question 2\n",
    "\n",
    "A company that sells its product on their website would like to improve the sales by making the webpage with product info more attractive. Current version (call it version A) and a new version (call it version B) are compared. A JavaScript code randomly chooses one of the two versions of the website to load to each customer that clicks on the link to the page about the product.\n",
    "\n",
    "Each version of the page has <button style=\"font-size:12px\">Buy <i class=\"fa fa-shopping-cart\"></i></button> button that leads the customer to purchase the product online. The company would like to test whether the new version (B) is better than the old one (A) by comparing the true probabilities pA and pB of purchasing the product for a randomly chosen visit of each website.\n",
    "\n",
    "Let $p_A$  be probability that a randomly chosen visitor of website version $A$ buys the product from the website. Similarly, let $p_B$ be the corresponding probability for version $B$. Let $n_1$ and $n_2$ be sample sizes of the visitors of versions $A$ and $B$, respectively. Also, denote by $X_1$ and $X_2$ the numbers of visitors in the two samples who purchased the product, as well as sample proportions $\\hat{p}_A = {X_1\\over n_1}$ and $\\hat{p}_B = {X_2\\over n_2}$.\n",
    "\n",
    "#### Part a)\n",
    "\n",
    "Which of the following tests can be used for this purpose?\n",
    "\n",
    "1. $H_0: p_A = p_B$ vs. $H_a: p_A > p_B$; critical region: $\\hat{p}_A - \\hat{p}_B > k$ for some $k \\in \\mathbf{R}$.\n",
    "\n",
    "2. $H_0: p_A = p_B$ vs. $H_a: p_A > p_B$; critical region: $\\hat{p}_A - \\hat{p}_B < k$ for some $k \\in \\mathbf{R}$.\n",
    "\n",
    "3. $H_0: p_A = p_B$ vs. $H_a: p_A < p_B$; critical region: $\\hat{p}_A - \\hat{p}_B > k$ for some $k \\in \\mathbf{R}$.\n",
    "\n",
    "4. $H_0: p_A = p_B$ vs. $H_a: p_A < p_B$; critical region: $\\hat{p}_A - \\hat{p}_B < k$ for some $k \\in \\mathbf{R}$.\n",
    "\n",
    "5. $H_0: p_A = p_B$ vs. $H_a: p_A \\neq p_B$; critical region: $|\\hat{p}_A - \\hat{p}_B| > k$ for some $k \\in \\mathbf{R}$.\n",
    "\n",
    "6. $H_0: p_A = p_B$ vs. $H_a: p_A \\neq p_B$; critical region: $|\\hat{p}_A - \\hat{p}_B| < k$ for some $k \\in \\mathbf{R}$.\n",
    "\n",
    "7. None of the above\n",
    "\n",
    "<br>\n",
    "\n",
    "Create a variable `ans` and assign one of the integers 1,2,...,7 depending on which of these answers should be correct. For example, if you think the answer is 7, then write\n",
    "\n",
    "ans = 7\n",
    "\n"
   ]
  },
  {
   "cell_type": "code",
   "execution_count": 68,
   "metadata": {
    "deletable": false,
    "editable": false,
    "nbgrader": {
     "cell_type": "code",
     "checksum": "15443673eeb2672700072a5aaedad77a",
     "grade": false,
     "grade_id": "cell-cc4c879092aff9ab",
     "locked": true,
     "schema_version": 3,
     "solution": false,
     "task": false
    }
   },
   "outputs": [],
   "source": [
    "\n",
    "##remove previous ans\n",
    "if (exists(\"ans\")) rm(\"ans\") ##do NOT change this code\n"
   ]
  },
  {
   "cell_type": "code",
   "execution_count": 69,
   "metadata": {
    "deletable": false,
    "nbgrader": {
     "cell_type": "code",
     "checksum": "4b8ac04a2b1e064d70057b3b5ffcb4b3",
     "grade": false,
     "grade_id": "cell-2447eb76381265c3",
     "locked": false,
     "schema_version": 3,
     "solution": true,
     "task": false
    }
   },
   "outputs": [],
   "source": [
    "\n",
    "ans = 4\n"
   ]
  },
  {
   "cell_type": "code",
   "execution_count": 70,
   "metadata": {
    "deletable": false,
    "editable": false,
    "nbgrader": {
     "cell_type": "code",
     "checksum": "52fc6b40c6e872324f422b4799b18754",
     "grade": true,
     "grade_id": "cell-305c4f4f57e9338b",
     "locked": true,
     "points": 1,
     "schema_version": 3,
     "solution": false,
     "task": false
    }
   },
   "outputs": [
    {
     "name": "stdout",
     "output_type": "stream",
     "text": [
      "\u001b[32mTest passed\u001b[39m 🥳\n"
     ]
    }
   ],
   "source": [
    "## check whether variable ans is one of the numbers 1,2,...,7\n",
    "\n",
    "if (test_that(desc=\"ans not created or is not numeric!\", code={\n",
    "    expect_equal(ans %in% 1:7, TRUE)\n",
    "}) != TRUE) stop(\"\")\n"
   ]
  },
  {
   "cell_type": "code",
   "execution_count": 71,
   "metadata": {
    "deletable": false,
    "editable": false,
    "nbgrader": {
     "cell_type": "code",
     "checksum": "92cbc725f45558819b238c00cf6e8ebf",
     "grade": true,
     "grade_id": "cell-88f67e685ea3d9fe",
     "locked": true,
     "points": 2,
     "schema_version": 3,
     "solution": false,
     "task": false
    }
   },
   "outputs": [],
   "source": [
    "## check whether ans is correct (hidden test)\n"
   ]
  },
  {
   "cell_type": "markdown",
   "metadata": {
    "deletable": false,
    "editable": false,
    "nbgrader": {
     "cell_type": "markdown",
     "checksum": "ffdf1f1b04e4426d222c4714b22d4131",
     "grade": false,
     "grade_id": "cell-61197beb9fac9c7d",
     "locked": true,
     "schema_version": 3,
     "solution": false,
     "task": false
    }
   },
   "source": [
    "#### Part b)\n",
    "\n",
    "Rather than using the test statistic $\\hat{p}_A - \\hat{p}_B$, we can use its standardized version \n",
    "\n",
    "$$Z = {\\hat{p}_A-\\hat{p}_B - \\mu_{\\hat{p}_A - \\hat{p}_B} \\over \\sigma_{\\hat{p}_A-\\hat{p}_B}},$$\n",
    "\n",
    "where $\\mu_{\\hat{p}_A-\\hat{p}_B} = p_A - p_B$, \n",
    "\n",
    "and \n",
    "\n",
    "$$\\sigma^2_{\\hat{p}_A-\\hat{p}_B} \\stackrel{\\text{why?}}{=} \\sigma^2_{\\hat{p}_A}+\\sigma^2_{\\hat{p}_B} = {p_A\\, (1-p_A)\\over n_1} + {p_B \\, (1-p_B)\\over n_2}.$$\n",
    "<br>\n",
    "\n",
    "For large sample sizes $n_1$ and $n_2$, we would like to approximate $Z$ as standard normal: $Z\\approx \\mathcal{N}(0; 1)$. Which of the following assumptions must hold, in order for us to justify the use of the statistic $Z$ and this normal approximation? **Do NOT include in your answer statements that are true but are not needed here.**\n",
    "\n",
    "<br>\n",
    "\n",
    "1. Sample proportions $\\hat{p}_A$ and $\\hat{p}_B$ are sample means of some samples (from $\\mathcal{B}ernoulli(p_A)$ and $\\mathcal{B}ernoulli(p_B)$, respectively).\n",
    "<br>\n",
    "\n",
    "2. By Central Limit Theorem, for $n_1$ and $n_2$ large, each of $\\hat{p}_A$ and $\\hat{p}_B$ is approximately normally distributed.\n",
    "<br>\n",
    "\n",
    "3. The two samples are independent of each other.\n",
    "<br>\n",
    "\n",
    "4. The sum of two independent binomial random variables is another binomial random variable.\n",
    "<br>\n",
    "\n",
    "5. Linear combination of independent normal random variables is a normal random variable\n",
    "<br>\n",
    "\n",
    "6. For any normal variable $X\\sim\\mathcal{N}(\\mu_X; \\sigma^2_X)$, we have ${X - \\mu_X\\over \\sigma_X}\\sim \\mathcal{N}(0;1)$.\n",
    "<br>\n",
    "\n",
    "7. Two wrongs don't make a right.\n",
    "<br>\n",
    "\n",
    "8. Pineapple goes well on pizza.  &#127829;\n",
    "<br>\n",
    "\n",
    "\n",
    "Create an R variable `ansb` which is equal to the vector that consists exactly of those integers whose corresponding statement is used for concluding that $Z$ is approximately standard normal. For example, if you think that exactly 1st and 7th statements are used (and no other), you should write\n",
    "\n",
    "`ansb = c(1,7)`\n",
    "\n",
    "\n",
    "<br>\n",
    "\n",
    "***Hint:*** Vector `ansb` should be of length 5.\n"
   ]
  },
  {
   "cell_type": "code",
   "execution_count": 72,
   "metadata": {
    "deletable": false,
    "nbgrader": {
     "cell_type": "code",
     "checksum": "db0000c141bdd5a25338dc463ba55297",
     "grade": false,
     "grade_id": "cell-1a661a12520bd068",
     "locked": false,
     "schema_version": 3,
     "solution": true,
     "task": false
    }
   },
   "outputs": [],
   "source": [
    "\n",
    "ansb = c(1, 2, 3, 5, 6)\n"
   ]
  },
  {
   "cell_type": "code",
   "execution_count": 73,
   "metadata": {
    "deletable": false,
    "editable": false,
    "nbgrader": {
     "cell_type": "code",
     "checksum": "7c9732f9e419cd7168e3cd8897783315",
     "grade": true,
     "grade_id": "cell-7eb9b02edcd15a3a",
     "locked": true,
     "points": 1,
     "schema_version": 3,
     "solution": false,
     "task": false
    }
   },
   "outputs": [
    {
     "name": "stdout",
     "output_type": "stream",
     "text": [
      "\u001b[32mTest passed\u001b[39m 🌈\n",
      "\u001b[32mTest passed\u001b[39m 😀\n"
     ]
    }
   ],
   "source": [
    "## check whether variable ansb is numeric vector and of length 5\n",
    "\n",
    "if (test_that(desc=\"\", code={\n",
    "    expect_equal(exists(\"ansb\", mode=\"numeric\"), TRUE)\n",
    "}) != TRUE) stop(\"ans not created or is not numeric!\")\n",
    "\n",
    "\n",
    "if (test_that(desc=\"\", code={\n",
    "    expect_equal(length(ansb), 5)\n",
    "}) != TRUE) stop(\"ans not created or is not numeric!\")\n"
   ]
  },
  {
   "cell_type": "code",
   "execution_count": 74,
   "metadata": {
    "deletable": false,
    "editable": false,
    "nbgrader": {
     "cell_type": "code",
     "checksum": "546fd6a0594ade0df6240a5fef1d7bc9",
     "grade": true,
     "grade_id": "st1",
     "locked": true,
     "points": 1,
     "schema_version": 3,
     "solution": false,
     "task": false
    }
   },
   "outputs": [],
   "source": [
    "## check whether the statement 1 should be assumed (hidden test)\n",
    "\n"
   ]
  },
  {
   "cell_type": "code",
   "execution_count": 75,
   "metadata": {
    "deletable": false,
    "editable": false,
    "nbgrader": {
     "cell_type": "code",
     "checksum": "7400d1fe9d442a323acb01a466db5723",
     "grade": true,
     "grade_id": "st2",
     "locked": true,
     "points": 2,
     "schema_version": 3,
     "solution": false,
     "task": false
    }
   },
   "outputs": [],
   "source": [
    "## check whether the statement 2 should be assumed (hidden test)\n",
    "\n"
   ]
  },
  {
   "cell_type": "code",
   "execution_count": 76,
   "metadata": {
    "deletable": false,
    "editable": false,
    "nbgrader": {
     "cell_type": "code",
     "checksum": "9c166bbd3fa3f34b1f7de0b65e71e9fc",
     "grade": true,
     "grade_id": "st3",
     "locked": true,
     "points": 1,
     "schema_version": 3,
     "solution": false,
     "task": false
    }
   },
   "outputs": [],
   "source": [
    "## check whether the statement 3 should be assumed (hidden test)\n",
    "\n"
   ]
  },
  {
   "cell_type": "code",
   "execution_count": 77,
   "metadata": {
    "deletable": false,
    "editable": false,
    "nbgrader": {
     "cell_type": "code",
     "checksum": "aba132e7cc56ab20e5fbd2de6d95adbc",
     "grade": true,
     "grade_id": "st4",
     "locked": true,
     "points": 1,
     "schema_version": 3,
     "solution": false,
     "task": false
    }
   },
   "outputs": [],
   "source": [
    "## check whether the statement 4 should be assumed (hidden test)\n",
    "\n"
   ]
  },
  {
   "cell_type": "code",
   "execution_count": 78,
   "metadata": {
    "deletable": false,
    "editable": false,
    "nbgrader": {
     "cell_type": "code",
     "checksum": "68a5a8da52e57921b595b61a13fbeedd",
     "grade": true,
     "grade_id": "st5",
     "locked": true,
     "points": 1,
     "schema_version": 3,
     "solution": false,
     "task": false
    }
   },
   "outputs": [],
   "source": [
    "## check whether the statement 5 should be assumed (hidden test)\n",
    "\n"
   ]
  },
  {
   "cell_type": "code",
   "execution_count": 79,
   "metadata": {
    "deletable": false,
    "editable": false,
    "nbgrader": {
     "cell_type": "code",
     "checksum": "5ff74778fee1cec08d4bc263fb25ae3b",
     "grade": true,
     "grade_id": "st6",
     "locked": true,
     "points": 1,
     "schema_version": 3,
     "solution": false,
     "task": false
    }
   },
   "outputs": [],
   "source": [
    "## check whether the statement 6 should be assumed (hidden test)\n",
    "\n"
   ]
  },
  {
   "cell_type": "markdown",
   "metadata": {
    "deletable": false,
    "editable": false,
    "nbgrader": {
     "cell_type": "markdown",
     "checksum": "0123067152563d7591278417cb9085cf",
     "grade": false,
     "grade_id": "cell-6ae42621e18b228d",
     "locked": true,
     "schema_version": 3,
     "solution": false,
     "task": false
    }
   },
   "source": [
    "#### Part c)\n",
    "\n",
    "Under the null hypothesis $H_0: p_A = p_B \\, \\, (\\stackrel{\\text{denote}}{=} p)$, the test statistic $Z$ becomes\n",
    "\n",
    "$$Z = {\\hat{p}_A-\\hat{p}_B - \\mu_{\\hat{p}_A - \\hat{p}_B} \\over \\sigma_{\\hat{p}_A-\\hat{p}_B}} \\stackrel{H_0}{=}  {\\hat{p}_A-\\hat{p}_B \\over \\sqrt{pq\\left({1\\over n_1} + {1\\over n_2}\\right)} } $$\n",
    "\n",
    "with $q=1-p$, since \n",
    "\n",
    "$$\\sigma^2_{\\hat{p}_A - \\hat{p}_B} = \\sigma^2_{p_A} + \\sigma^2_{p_B} \\stackrel{H_0}{=} {p q\\over n_1} + {p q \\over n_2} = pq\\left({1\\over n_1} + {1 \\over n_2} \\right)$$\n",
    "\n",
    "Since under the null hypothesis the two independent samples come from populations with the same proportion $p=p_A=p_B$, we can estimate $p$ by \n",
    "\n",
    "$$\\hat{p}={x_1 + x_2 \\over n_1 + n_2}.$$\n",
    "\n",
    "\n",
    "Finally, for $n_1$ and $n_2$ large, we can approximate $p$ by $\\hat{p}$ (by the Law of Large Numbers).\n",
    "\n",
    "<br>\n",
    "\n",
    "With this additional approximation, find the pvalue for the test with $109$ purchases of the product from version A out of $n_1 = 750$, visitors, and $131$ purchases from version B out of $n_2 = 748$ visitors.\n",
    "\n",
    "Create variable `pval` with the corresponding p-value. **Do NOT round your answer.**\n",
    "\n",
    "Also, at the significance level $\\alpha = 0.10$, make a decision whether to reject $H_0$ (and conclude the new version B is better) or not reject $H_0$.\n",
    "\n",
    "To do that, create a variable `rejectH0`and assign the logical value `TRUE` if you want to reject $H_0$, or value `FALSE` if you do not want to reject $H_0$.\n",
    "\n",
    "So, in the following cell, you should have both `pval` and `rejectH0` created. Also, note that it is a zero `0` in `rejectH0`, not the lower case `o`.\n",
    "\n",
    "<br>\n",
    "\n"
   ]
  },
  {
   "cell_type": "code",
   "execution_count": 80,
   "metadata": {
    "deletable": false,
    "nbgrader": {
     "cell_type": "code",
     "checksum": "a00b0bb5a17b30adb662a3066aa5ee76",
     "grade": false,
     "grade_id": "cell-9938955a557c70a6",
     "locked": false,
     "schema_version": 3,
     "solution": true,
     "task": false
    }
   },
   "outputs": [],
   "source": [
    "\n",
    "x1 = 109\n",
    "n1 = 750\n",
    "x2 = 131\n",
    "n2 = 748\n",
    "a = 0.10\n",
    "pval = pnorm((x1/n1 - x2/n2) / sqrt(((x1 + x2) / (n1 + n2)) * (1 - (x1 + x2) / (n1 + n2)) * \n",
    "                                        (1/n1 + 1/n2)))\n",
    "rejectH0 = pval < a\n"
   ]
  },
  {
   "cell_type": "code",
   "execution_count": 81,
   "metadata": {
    "deletable": false,
    "editable": false,
    "nbgrader": {
     "cell_type": "code",
     "checksum": "dadb0a0cb792819b86b076993ba503b4",
     "grade": true,
     "grade_id": "cell-00e47b05d7acfd79",
     "locked": true,
     "points": 1,
     "schema_version": 3,
     "solution": false,
     "task": false
    }
   },
   "outputs": [
    {
     "name": "stdout",
     "output_type": "stream",
     "text": [
      "\u001b[32mTest passed\u001b[39m 😀\n",
      "\u001b[32mTest passed\u001b[39m 🌈\n"
     ]
    }
   ],
   "source": [
    "## check whether variable pval exists and is numeric\n",
    "\n",
    "if (test_that(desc=\"\", code={\n",
    "    expect_equal(exists(\"pval\", mode=\"numeric\"), TRUE)\n",
    "}) != TRUE) stop(\"pval not created or is not numeric!\")\n",
    "\n",
    "\n",
    "## check whether the variable rejectH0 exists and is logical\n",
    "\n",
    "if (test_that(desc=\"\", code={\n",
    "    expect_equal(is.logical(rejectH0), TRUE)\n",
    "}) != TRUE) stop(\"rejectH0 not created or is not logical!\")\n"
   ]
  },
  {
   "cell_type": "code",
   "execution_count": 82,
   "metadata": {
    "deletable": false,
    "editable": false,
    "nbgrader": {
     "cell_type": "code",
     "checksum": "ecb618c786386c0ba4250cb2ad184d1d",
     "grade": true,
     "grade_id": "cell-36e6760b89f8f6c0",
     "locked": true,
     "points": 1,
     "schema_version": 3,
     "solution": false,
     "task": false
    }
   },
   "outputs": [],
   "source": [
    "## check whether pval is correct\n",
    "\n"
   ]
  },
  {
   "cell_type": "code",
   "execution_count": 83,
   "metadata": {
    "deletable": false,
    "editable": false,
    "nbgrader": {
     "cell_type": "code",
     "checksum": "1cf0a104a9e908c97d9045d927ae9205",
     "grade": true,
     "grade_id": "cell-5f7f7a58d35ab40f",
     "locked": true,
     "points": 3,
     "schema_version": 3,
     "solution": false,
     "task": false
    }
   },
   "outputs": [],
   "source": [
    "## check whether pval is correct\n",
    "\n"
   ]
  },
  {
   "cell_type": "markdown",
   "metadata": {
    "deletable": false,
    "editable": false,
    "nbgrader": {
     "cell_type": "markdown",
     "checksum": "9f13d69deab86437af760cdf6d9aa703",
     "grade": false,
     "grade_id": "cell-7e10b8891544d22b",
     "locked": true,
     "schema_version": 3,
     "solution": false,
     "task": false
    }
   },
   "source": [
    "### Question 3\n",
    "\n",
    "*Source:*\n",
    "\n",
    "*Draper, N. R. and Smith, H. (1998), Applied Regression Analysis (3rd ed), Wiley (exercise 24.N).*\n",
    "\n",
    "*Pinheiro, J. C. and Bates, D. M. (2000) Mixed-effects Models in S and S-PLUS, Springer.*\n",
    "\n",
    "\n",
    "The `Orange` data frame from `datasets` package has 35 rows and 3 columns of records of the growth of orange trees.\n",
    "\n",
    "\n",
    "`Tree` - an ordered factor indicating the tree on which the measurement is made. The ordering is according to increasing maximum diameter.\n",
    "\n",
    "`age` - a numeric vector giving the age of the tree (days since 1968/12/31)\n",
    "\n",
    "`circumference` - a numeric vector of trunk circumferences (mm). This is probably “circumference at breast height”, a standard measurement in forestry.\n",
    "\n",
    "Using `head(Orange)`, we show first couple of observations and plot `cricumference` vs. `age`.\n",
    "<br>"
   ]
  },
  {
   "cell_type": "code",
   "execution_count": 84,
   "metadata": {
    "deletable": false,
    "editable": false,
    "nbgrader": {
     "cell_type": "code",
     "checksum": "523f6dfe1051dca67c1b0435e5d96205",
     "grade": false,
     "grade_id": "cell-7be2cc1dc6393e57",
     "locked": true,
     "schema_version": 3,
     "solution": false,
     "task": false
    }
   },
   "outputs": [
    {
     "data": {
      "text/html": [
       "<table class=\"dataframe\">\n",
       "<caption>A nfnGroupedData: 6 × 3</caption>\n",
       "<thead>\n",
       "\t<tr><th></th><th scope=col>Tree</th><th scope=col>age</th><th scope=col>circumference</th></tr>\n",
       "\t<tr><th></th><th scope=col>&lt;ord&gt;</th><th scope=col>&lt;dbl&gt;</th><th scope=col>&lt;dbl&gt;</th></tr>\n",
       "</thead>\n",
       "<tbody>\n",
       "\t<tr><th scope=row>1</th><td>1</td><td> 118</td><td> 30</td></tr>\n",
       "\t<tr><th scope=row>2</th><td>1</td><td> 484</td><td> 58</td></tr>\n",
       "\t<tr><th scope=row>3</th><td>1</td><td> 664</td><td> 87</td></tr>\n",
       "\t<tr><th scope=row>4</th><td>1</td><td>1004</td><td>115</td></tr>\n",
       "\t<tr><th scope=row>5</th><td>1</td><td>1231</td><td>120</td></tr>\n",
       "\t<tr><th scope=row>6</th><td>1</td><td>1372</td><td>142</td></tr>\n",
       "</tbody>\n",
       "</table>\n"
      ],
      "text/latex": [
       "A nfnGroupedData: 6 × 3\n",
       "\\begin{tabular}{r|lll}\n",
       "  & Tree & age & circumference\\\\\n",
       "  & <ord> & <dbl> & <dbl>\\\\\n",
       "\\hline\n",
       "\t1 & 1 &  118 &  30\\\\\n",
       "\t2 & 1 &  484 &  58\\\\\n",
       "\t3 & 1 &  664 &  87\\\\\n",
       "\t4 & 1 & 1004 & 115\\\\\n",
       "\t5 & 1 & 1231 & 120\\\\\n",
       "\t6 & 1 & 1372 & 142\\\\\n",
       "\\end{tabular}\n"
      ],
      "text/markdown": [
       "\n",
       "A nfnGroupedData: 6 × 3\n",
       "\n",
       "| <!--/--> | Tree &lt;ord&gt; | age &lt;dbl&gt; | circumference &lt;dbl&gt; |\n",
       "|---|---|---|---|\n",
       "| 1 | 1 |  118 |  30 |\n",
       "| 2 | 1 |  484 |  58 |\n",
       "| 3 | 1 |  664 |  87 |\n",
       "| 4 | 1 | 1004 | 115 |\n",
       "| 5 | 1 | 1231 | 120 |\n",
       "| 6 | 1 | 1372 | 142 |\n",
       "\n"
      ],
      "text/plain": [
       "  Tree age  circumference\n",
       "1 1     118  30          \n",
       "2 1     484  58          \n",
       "3 1     664  87          \n",
       "4 1    1004 115          \n",
       "5 1    1231 120          \n",
       "6 1    1372 142          "
      ]
     },
     "metadata": {},
     "output_type": "display_data"
    },
    {
     "data": {
      "image/png": "[encoded data removed]",
      "text/plain": [
       "plot without title"
      ]
     },
     "metadata": {
      "image/png": {
       "height": 420,
       "width": 420
      }
     },
     "output_type": "display_data"
    }
   ],
   "source": [
    "## run this cell to see the data and the plot\n",
    "\n",
    "head(Orange)\n",
    "plot(Orange$circumference ~ Orange$age)"
   ]
  },
  {
   "cell_type": "markdown",
   "metadata": {
    "deletable": false,
    "editable": false,
    "nbgrader": {
     "cell_type": "markdown",
     "checksum": "1fc783b32f698efad1bcfcf0a9fa5c33",
     "grade": false,
     "grade_id": "cell-310fa5d2839d3846",
     "locked": true,
     "schema_version": 3,
     "solution": false,
     "task": false
    }
   },
   "source": [
    "#### Part a)\n",
    "\n",
    "Create a variable `mod`, which is the list of relevant statistics for the regression model `circumference` = $\\beta_0 + \\beta_1\\cdot$ `age` $+ \\varepsilon$, with $\\varepsilon \\sim \\mathcal{N}(0;1)$.\n",
    "\n",
    "Also, plot the residual and qq plots by running\n",
    "\n",
    "`plot(mod, which=1:2)`\n",
    "\n",
    "to see possible issues with how well the residuals $e_i=y_i - \\hat{y}_i$ exhibit constant variance and normality (since they are our estimates of the true errors $\\varepsilon_i$ in each observation $i=1,2,...,n$)."
   ]
  },
  {
   "cell_type": "code",
   "execution_count": 85,
   "metadata": {
    "deletable": false,
    "nbgrader": {
     "cell_type": "code",
     "checksum": "cec34a9d0ed21d01384017dcf2ae52b4",
     "grade": false,
     "grade_id": "cell-37d2a24e5f2215c3",
     "locked": false,
     "schema_version": 3,
     "solution": true,
     "task": false
    }
   },
   "outputs": [
    {
     "data": {
      "image/png": "[encoded data removed]",
      "text/plain": [
       "Plot with title “”"
      ]
     },
     "metadata": {
      "image/png": {
       "height": 420,
       "width": 420
      }
     },
     "output_type": "display_data"
    },
    {
     "data": {
      "image/png": "[encoded data removed]",
      "text/plain": [
       "Plot with title “”"
      ]
     },
     "metadata": {
      "image/png": {
       "height": 420,
       "width": 420
      }
     },
     "output_type": "display_data"
    }
   ],
   "source": [
    "mod <- lm(circumference ~ age, data = Orange)\n",
    "plot(mod, which=1:2)"
   ]
  },
  {
   "cell_type": "code",
   "execution_count": 86,
   "metadata": {
    "deletable": false,
    "editable": false,
    "nbgrader": {
     "cell_type": "code",
     "checksum": "aadce87df39faedc766759c804cd97bc",
     "grade": true,
     "grade_id": "cell-bbe5bc0ce7cc3a05",
     "locked": true,
     "points": 2,
     "schema_version": 3,
     "solution": false,
     "task": false
    }
   },
   "outputs": [
    {
     "name": "stdout",
     "output_type": "stream",
     "text": [
      "\u001b[32mTest passed\u001b[39m 😸\n"
     ]
    }
   ],
   "source": [
    "## check whether variable mod exists and is a list\n",
    "\n",
    "if (test_that(desc=\"\", code={\n",
    "    expect_equal(exists(\"mod\", mode=\"list\"), TRUE)\n",
    "}) != TRUE) stop(\"variable mod not created or is not numeric!\")\n",
    "\n"
   ]
  },
  {
   "cell_type": "code",
   "execution_count": 87,
   "metadata": {
    "deletable": false,
    "editable": false,
    "nbgrader": {
     "cell_type": "code",
     "checksum": "0ac4ac92ad0c3d176fb0ad6cb9214a51",
     "grade": true,
     "grade_id": "cell-50e2541b5564f149",
     "locked": true,
     "points": 3,
     "schema_version": 3,
     "solution": false,
     "task": false
    }
   },
   "outputs": [],
   "source": [
    "## check whether mod is correct (hidden test)\n",
    "\n"
   ]
  },
  {
   "cell_type": "markdown",
   "metadata": {
    "deletable": false,
    "editable": false,
    "nbgrader": {
     "cell_type": "markdown",
     "checksum": "bad29dfbf1f2606e6b50bb0ebf285387",
     "grade": false,
     "grade_id": "cell-73ea25f5cbe7d0aa",
     "locked": true,
     "schema_version": 3,
     "solution": false,
     "task": false
    }
   },
   "source": [
    "#### Part b)\n",
    "\n",
    "What are the values of estimates $b_0 = \\hat{\\beta_0}$ and $b_1 = \\hat{\\beta_1}$?\n",
    "\n",
    "Create R numeric variables `b0` and `b1` with corresponding values. Do NOT round the values.\n",
    "\n",
    "<br>\n",
    "\n"
   ]
  },
  {
   "cell_type": "code",
   "execution_count": 88,
   "metadata": {
    "deletable": false,
    "nbgrader": {
     "cell_type": "code",
     "checksum": "c20ecca5a86f82cdead41634b4927602",
     "grade": false,
     "grade_id": "cell-3fc17fed6abffa9c",
     "locked": false,
     "schema_version": 3,
     "solution": true,
     "task": false
    }
   },
   "outputs": [],
   "source": [
    "\n",
    "b0 = coef(mod)[1]\n",
    "b1 = coef(mod)[2]\n"
   ]
  },
  {
   "cell_type": "code",
   "execution_count": 89,
   "metadata": {
    "deletable": false,
    "editable": false,
    "nbgrader": {
     "cell_type": "code",
     "checksum": "db74ae1208184b07d9abdbc98a02bb4a",
     "grade": true,
     "grade_id": "cell-37254d4f5aec6e96",
     "locked": true,
     "points": 1,
     "schema_version": 3,
     "solution": false,
     "task": false
    }
   },
   "outputs": [
    {
     "name": "stdout",
     "output_type": "stream",
     "text": [
      "\u001b[32mTest passed\u001b[39m 🥳\n",
      "\u001b[32mTest passed\u001b[39m 🥳\n"
     ]
    }
   ],
   "source": [
    "## check whether numeric variables b0 and b1 were created\n",
    "\n",
    "\n",
    "if (test_that(desc=\"\", code={\n",
    "    expect_equal(exists(\"b0\", mode=\"numeric\"), TRUE)\n",
    "}) != TRUE) stop(\"variable b0 not created or is not numeric!\")\n",
    "\n",
    "\n",
    "if (test_that(desc=\"\", code={\n",
    "    expect_equal(exists(\"b1\", mode=\"numeric\"), TRUE)\n",
    "}) != TRUE) stop(\"variable b1 not created or is not numeric!\")\n"
   ]
  },
  {
   "cell_type": "code",
   "execution_count": 90,
   "metadata": {
    "deletable": false,
    "editable": false,
    "nbgrader": {
     "cell_type": "code",
     "checksum": "52a600aa68e61df7dce35ae07d625ab3",
     "grade": true,
     "grade_id": "cell-30ae265cc84b5818",
     "locked": true,
     "points": 2,
     "schema_version": 3,
     "solution": false,
     "task": false
    }
   },
   "outputs": [],
   "source": [
    "## check whether b0 and b1 are correct (hidden tests)\n",
    "\n"
   ]
  },
  {
   "cell_type": "markdown",
   "metadata": {
    "deletable": false,
    "editable": false,
    "nbgrader": {
     "cell_type": "markdown",
     "checksum": "9759f6bbaa63e53a0b38176f44d5db6e",
     "grade": false,
     "grade_id": "cell-6a4a811795cbde4e",
     "locked": true,
     "schema_version": 3,
     "solution": false,
     "task": false
    }
   },
   "source": [
    "#### Part c)\n",
    "\n",
    "\n",
    "According to the model, what is the estimate of the mean of circumference $Y$ for a tree of age $x=900$. That is, find $\\hat{\\mu}_{Y|x=900} =$ estimate of $E[Y\\,|\\,x = 900]$? Do NOT round your answer! Hint: Use the command\n",
    "\n",
    "`predict(mod, data.frame(age=??))`\n",
    "\n",
    "for appropriately chosen replacement of the symbol `??`\n",
    "\n",
    "Write your answer as \n",
    "\n",
    "`ans = <something here>`\n",
    "\n",
    "<br>\n",
    "\n"
   ]
  },
  {
   "cell_type": "code",
   "execution_count": 91,
   "metadata": {
    "deletable": false,
    "nbgrader": {
     "cell_type": "code",
     "checksum": "79c0d38d16cccd752c2b8059ec46b774",
     "grade": false,
     "grade_id": "cell-8ff32e94df750974",
     "locked": false,
     "schema_version": 3,
     "solution": true,
     "task": false
    }
   },
   "outputs": [],
   "source": [
    "\n",
    "ans = predict(mod, data.frame(age = 900))\n"
   ]
  },
  {
   "cell_type": "code",
   "execution_count": 92,
   "metadata": {
    "deletable": false,
    "editable": false,
    "nbgrader": {
     "cell_type": "code",
     "checksum": "611d9f645927d7c38ab8ea502b055bfb",
     "grade": true,
     "grade_id": "cell-6fde680dc9640b49",
     "locked": true,
     "points": 1,
     "schema_version": 3,
     "solution": false,
     "task": false
    }
   },
   "outputs": [
    {
     "name": "stdout",
     "output_type": "stream",
     "text": [
      "\u001b[32mTest passed\u001b[39m 🥇\n"
     ]
    }
   ],
   "source": [
    "## check whether variable ans exists and is numeric\n",
    "\n",
    "if (test_that(desc=\"\", code={\n",
    "    expect_equal(exists(\"ans\", mode=\"numeric\"), TRUE)\n",
    "}) != TRUE) stop(\"variable ans not created or is not numeric!\")"
   ]
  },
  {
   "cell_type": "code",
   "execution_count": 93,
   "metadata": {
    "deletable": false,
    "editable": false,
    "nbgrader": {
     "cell_type": "code",
     "checksum": "f47c626edf398b1aec66f04ff400c795",
     "grade": true,
     "grade_id": "cell-73f23b300b77ea59",
     "locked": true,
     "points": 1,
     "schema_version": 3,
     "solution": false,
     "task": false
    }
   },
   "outputs": [
    {
     "name": "stdout",
     "output_type": "stream",
     "text": [
      "\u001b[32mTest passed\u001b[39m 😀\n"
     ]
    }
   ],
   "source": [
    "## check whether the 6th decimal digit is 2\n",
    "\n",
    "if (test_that(desc=\"\", code={\n",
    "    expect_equal(floor(as.numeric(ans)*10^6) %% 10 == 2, TRUE)\n",
    "}) != TRUE) stop(\"variable ans not created or is not numeric!\")"
   ]
  },
  {
   "cell_type": "code",
   "execution_count": 94,
   "metadata": {
    "deletable": false,
    "editable": false,
    "nbgrader": {
     "cell_type": "code",
     "checksum": "9e8704870d78c2590c734a67f978843a",
     "grade": true,
     "grade_id": "cell-edec9e4b06bcf829",
     "locked": true,
     "points": 3,
     "schema_version": 3,
     "solution": false,
     "task": false
    }
   },
   "outputs": [],
   "source": [
    "## check whether the answer is correct (hidden test)\n"
   ]
  },
  {
   "cell_type": "markdown",
   "metadata": {
    "deletable": false,
    "editable": false,
    "nbgrader": {
     "cell_type": "markdown",
     "checksum": "af5d7e5fbda3350d413152eaa8748d0e",
     "grade": false,
     "grade_id": "cell-19746b68393781f5",
     "locked": true,
     "schema_version": 3,
     "solution": false,
     "task": false
    }
   },
   "source": [
    "#### Part d)\n",
    "\n",
    "Find 92% confidence interval for $E[Y|x=900]$. You should use command of the format\n",
    "\n",
    "`predict(mod, data.frame(age=??), data=Orange, interval=\"confidence\", level=??)`\n",
    "\n",
    "and replace the two `??` simbols with appropriate values. \n",
    "\n",
    "Create variables `CIlwr` and `CIupr` with lower and upper end points of the desired interval. Do NOT round your answers."
   ]
  },
  {
   "cell_type": "code",
   "execution_count": 95,
   "metadata": {
    "deletable": false,
    "nbgrader": {
     "cell_type": "code",
     "checksum": "8497cae36d00a629b758b822f39b7ed9",
     "grade": false,
     "grade_id": "cell-f7eec937511cff8c",
     "locked": false,
     "schema_version": 3,
     "solution": true,
     "task": false
    }
   },
   "outputs": [],
   "source": [
    "\n",
    "ci = predict(mod, data.frame(age = 900), interval = \"confidence\", level = 0.92)\n",
    "CIlwr = ci[ , \"lwr\"]\n",
    "CIupr = ci[ , \"upr\"]\n"
   ]
  },
  {
   "cell_type": "code",
   "execution_count": 96,
   "metadata": {
    "deletable": false,
    "editable": false,
    "nbgrader": {
     "cell_type": "code",
     "checksum": "69bf4f88ee4f04a8ef827f5099be0dcc",
     "grade": true,
     "grade_id": "cell-3d541935e24577ab",
     "locked": true,
     "points": 1,
     "schema_version": 3,
     "solution": false,
     "task": false
    }
   },
   "outputs": [
    {
     "name": "stdout",
     "output_type": "stream",
     "text": [
      "\u001b[32mTest passed\u001b[39m 🥇\n",
      "\u001b[32mTest passed\u001b[39m 🥳\n"
     ]
    }
   ],
   "source": [
    "## check whether variables CIlwr and CIupr exist and are numeric\n",
    "\n",
    "if (test_that(desc=\"\", code={\n",
    "    expect_equal(exists(\"CIlwr\", mode=\"numeric\"), TRUE)\n",
    "}) != TRUE) stop(\"variable CIlwr is not created or not numeric!\")\n",
    "\n",
    "if (test_that(desc=\"\", code={\n",
    "    expect_equal(exists(\"CIupr\", mode=\"numeric\"), TRUE)\n",
    "}) != TRUE) stop(\"variable CIupr is not created or not numeric!\")"
   ]
  },
  {
   "cell_type": "code",
   "execution_count": 97,
   "metadata": {
    "deletable": false,
    "editable": false,
    "nbgrader": {
     "cell_type": "code",
     "checksum": "efcb691edda51f7bee78ceb1aae2eb08",
     "grade": true,
     "grade_id": "cell-fc974e82b7af05be",
     "locked": true,
     "points": 2,
     "schema_version": 3,
     "solution": false,
     "task": false
    }
   },
   "outputs": [
    {
     "name": "stdout",
     "output_type": "stream",
     "text": [
      "\u001b[32mTest passed\u001b[39m 🥇\n",
      "\u001b[32mTest passed\u001b[39m 🥳\n"
     ]
    }
   ],
   "source": [
    "## check whether the 8th decimal digit of CIlwr is correct\n",
    "\n",
    "if (test_that(desc=\"Sorry, wrong answer.\", code={\n",
    "    expect_equal(floor(as.numeric(CIlwr)*10^8) %% 10 == 8, TRUE)\n",
    "}) != TRUE) stop(\"Sorry, wrong answer.\")\n",
    "\n",
    "\n",
    "## check whether the 8th decimal digit of CIupr is correct\n",
    "\n",
    "if (test_that(desc=\"Sorry, wrong answer.\", code={\n",
    "    expect_equal(floor(as.numeric(CIupr)*10^8) %% 10 == 1, TRUE)\n",
    "}) != TRUE) stop(\"Sorry, wrong answer.\")"
   ]
  },
  {
   "cell_type": "code",
   "execution_count": 98,
   "metadata": {
    "deletable": false,
    "editable": false,
    "nbgrader": {
     "cell_type": "code",
     "checksum": "e586be3973b8281c4688bda9f865e0a6",
     "grade": true,
     "grade_id": "cell-bc30de3cd1a0a164",
     "locked": true,
     "points": 3,
     "schema_version": 3,
     "solution": false,
     "task": false
    }
   },
   "outputs": [],
   "source": [
    "## check whether CIlwr and CIupr are correct (hidden tests)\n",
    "\n"
   ]
  }
 ],
 "metadata": {
  "kernelspec": {
   "display_name": "R",
   "language": "R",
   "name": "ir"
  },
  "language_info": {
   "codemirror_mode": "r",
   "file_extension": ".r",
   "mimetype": "text/x-r-source",
   "name": "R",
   "pygments_lexer": "r",
   "version": "4.3.3"
  }
 },
 "nbformat": 4,
 "nbformat_minor": 2
}
