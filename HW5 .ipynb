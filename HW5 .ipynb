{
 "cells": [
  {
   "cell_type": "markdown",
   "metadata": {},
   "source": [
    "**IMPORTANT** <br> <ul> <li> Do **NOT** replace or remove this notebook (ipynb file)! Each cell has unique nbgrader's metadata and ID which, if changed outside the nbgrader, cannot pass the tests. Do **NOT** change the name of the file!</li> <li> To receive any credit, don't forget to **SUBMIT** your notebook when you are done! You can have multiple submissions before the deadline; only the last one is saved, including its timestamp.</li> <li>Before submitting, **Validate** your notebook to check if your codes pass all visible tests. </li> <li>Make sure you fill in any cell with the comment `# your code here`. Remove or comment the command `fail()` (in R), or `raise NotImplementedError` (in Python) and place your code there </li> </ul>"
   ]
  },
  {
   "cell_type": "code",
   "execution_count": 1,
   "metadata": {},
   "outputs": [],
   "source": [
    "NAME = \"Bhavya Patel\""
   ]
  },
  {
   "cell_type": "markdown",
   "metadata": {},
   "source": [
    "---"
   ]
  },
  {
   "cell_type": "code",
   "execution_count": 2,
   "metadata": {
    "deletable": false,
    "editable": false,
    "nbgrader": {
     "cell_type": "code",
     "checksum": "9e33e193dd26db0eeb4c8428f454b5bc",
     "grade": false,
     "grade_id": "cell-9fee0b6bde088dca",
     "locked": true,
     "schema_version": 3,
     "solution": false,
     "task": false
    }
   },
   "outputs": [],
   "source": [
    "library(testthat)\n",
    "library(digest)\n",
    "library(stringr)"
   ]
  },
  {
   "cell_type": "markdown",
   "metadata": {
    "deletable": false,
    "editable": false,
    "nbgrader": {
     "cell_type": "markdown",
     "checksum": "0ceda67ba0fb1e537c8f00aa369492d9",
     "grade": false,
     "grade_id": "cell-a424bc04b64839cb",
     "locked": true,
     "schema_version": 3,
     "solution": false,
     "task": false
    }
   },
   "source": [
    "### Question 1\n",
    "\n",
    "Assume that prior distribution of probability of success $\\theta$ in a single Bernoulli trial has density\n",
    "\n",
    "$$g(\\theta) = \\begin{cases}2\\theta &, 0<\\theta < 1 \\\\ \\hspace{.1cm} 0 &, \\text{elsewhere}\\end{cases}$$\n",
    "\n",
    "We take $n$ independent trials and let $X$ be the number of successes in these $n$ trials. So, $X\\sim \\mathcal{B}in(n;\\theta)$.\n",
    "\n",
    "\n",
    "\n",
    "Create R function `post(n,theta,x)`, which gives the value of the density $\\pi(\\theta|x)$  of the posterior distribution for any given outcome $x$ (= total number of successes), any given number of trials $n$, and any possible value `theta` $\\in \\mathbf{R}$ of the probability of success $\\theta$. \n",
    "\n",
    "Recall the structure of R function:\n",
    "\n",
    "`post = function(n,theta,x){\n",
    "        <some code here>\n",
    "     return(<output value here>)\n",
    "}`\n",
    "\n",
    "***Hint:*** It turns out that the posterior distribution belongs to a known family of distributions, mentioned in class. In order to find it, you do not need to carry out the normalizing factor. Simplify your calculation by only worrying about which function of $\\theta$ the density $\\pi(\\theta|x)$ of the posterior distribution is proportional to (i.e. is equal to, up to a constant multiple). Since the density $\\pi(\\theta|x)$ of the posterior distribution should be thought of as a function of $\\theta$, treat $n$ and $x$ as constants.\n",
    "\n",
    "Also, your `post()` function can only have one line of code.\n"
   ]
  },
  {
   "cell_type": "code",
   "execution_count": 3,
   "metadata": {
    "deletable": false,
    "nbgrader": {
     "cell_type": "code",
     "checksum": "d3176a678fe394b5fd7ead3c499a5e82",
     "grade": false,
     "grade_id": "cell-de8a725a5d47c621",
     "locked": false,
     "schema_version": 3,
     "solution": true,
     "task": false
    }
   },
   "outputs": [],
   "source": [
    "post <- function(n, theta, x) dbeta(theta, x + 2, n - x + 1)\n"
   ]
  },
  {
   "cell_type": "code",
   "execution_count": 4,
   "metadata": {
    "deletable": false,
    "editable": false,
    "nbgrader": {
     "cell_type": "code",
     "checksum": "7cd90f890acd9f4c2b3c27622d5a82d1",
     "grade": true,
     "grade_id": "cell-3f813fe742d79663",
     "locked": true,
     "points": 3,
     "schema_version": 3,
     "solution": false,
     "task": false
    }
   },
   "outputs": [
    {
     "name": "stdout",
     "output_type": "stream",
     "text": [
      "\u001b[32mTest passed\u001b[39m 😀\n",
      "\u001b[32mTest passed\u001b[39m 😸\n"
     ]
    }
   ],
   "source": [
    "## check whether function post() is defined and its output is numeric (or double)\n",
    "\n",
    "\n",
    "if (test_that(desc=\"\", code={\n",
    "    expect_equal(exists(\"post\", mode=\"function\"), TRUE)\n",
    "}) != TRUE) stop(\"Function post not created!\")\n",
    "\n",
    "\n",
    "if (test_that(desc=\"\", code={\n",
    "    expect_equal(is.numeric(post(11,0.1,5)), TRUE)\n",
    "}) != TRUE) stop(\"Variable ans is not numeric/double.\")\n",
    "\n"
   ]
  },
  {
   "cell_type": "code",
   "execution_count": 5,
   "metadata": {
    "deletable": false,
    "editable": false,
    "nbgrader": {
     "cell_type": "code",
     "checksum": "c9c4a187b2c1edafc4146e30f3294410",
     "grade": true,
     "grade_id": "cell-2ae25a88ed4edda1",
     "locked": true,
     "points": 3,
     "schema_version": 3,
     "solution": false,
     "task": false
    }
   },
   "outputs": [
    {
     "name": "stdout",
     "output_type": "stream",
     "text": [
      "\u001b[32mTest passed\u001b[39m 🎊\n",
      "\u001b[32mTest passed\u001b[39m 🎉\n"
     ]
    }
   ],
   "source": [
    "## check whether post(n,theta,x) is correct for some input values\n",
    "\n",
    "if (test_that(desc=\"\", code={\n",
    "    expect_equal(abs(post(n=11,theta=0.1,x=5)-0.006383669292)<1e-8, TRUE)\n",
    "}) != TRUE) stop(\"Variable ans is not numeric/double.\")\n",
    "\n",
    "\n",
    "if (test_that(desc=\"\", code={\n",
    "    expect_equal(abs(post(n=6,theta=0.75,x=3)-1.38427734375)<1e-8, TRUE)\n",
    "}) != TRUE) stop(\"Variable ans is not numeric/double.\")"
   ]
  },
  {
   "cell_type": "code",
   "execution_count": 6,
   "metadata": {
    "deletable": false,
    "editable": false,
    "nbgrader": {
     "cell_type": "code",
     "checksum": "9c33e53e5b5b2f5684d6bfbc7fcd9a7c",
     "grade": true,
     "grade_id": "cell-2091460abdfa8e7a",
     "locked": true,
     "points": 9,
     "schema_version": 3,
     "solution": false,
     "task": false
    }
   },
   "outputs": [],
   "source": [
    "\n",
    "## check whether the function is correct (hidden test)\n",
    "\n"
   ]
  },
  {
   "cell_type": "markdown",
   "metadata": {
    "deletable": false,
    "editable": false,
    "nbgrader": {
     "cell_type": "markdown",
     "checksum": "c417ff63039a57dc8ef006984850c811",
     "grade": false,
     "grade_id": "cell-713024ea66a3aab0",
     "locked": true,
     "schema_version": 3,
     "solution": false,
     "task": false
    }
   },
   "source": [
    "### Question 2\n",
    "\n",
    "Create R function `ET(n,x,alpha)` which for the posterior distribution from previous question with sample size $n$ and number of successes $x$ and for given $\\alpha \\in (0,1)$ computes the equal-tailed posterior interval with coverage $(1-\\alpha)\\cdot 100\\%$. The output should be a vector of length 2, with 1st component being lower bound and the 2nd component is the upper bound of the desired equal-tailed interval with coverage $1-\\alpha$.\n"
   ]
  },
  {
   "cell_type": "code",
   "execution_count": 7,
   "metadata": {
    "deletable": false,
    "nbgrader": {
     "cell_type": "code",
     "checksum": "fc3182eddd55b2233bc3e9622eab680c",
     "grade": false,
     "grade_id": "cell-2de010024a4918bf",
     "locked": false,
     "schema_version": 3,
     "solution": true,
     "task": false
    }
   },
   "outputs": [],
   "source": [
    "ET <- function(n, x, alpha) {\n",
    "  a = x + 2\n",
    "  b = n - x + 1\n",
    "  lower = qbeta(alpha / 2, a, b)\n",
    "  upper = qbeta(1 - alpha / 2, a, b)\n",
    "  c(lower, upper)\n",
    "}\n"
   ]
  },
  {
   "cell_type": "code",
   "execution_count": 8,
   "metadata": {
    "deletable": false,
    "editable": false,
    "nbgrader": {
     "cell_type": "code",
     "checksum": "efe8518bddd2b52b42d9072174a439ce",
     "grade": true,
     "grade_id": "cell-73d810f2bc28a4f1",
     "locked": true,
     "points": 2,
     "schema_version": 3,
     "solution": false,
     "task": false
    }
   },
   "outputs": [
    {
     "name": "stdout",
     "output_type": "stream",
     "text": [
      "\u001b[32mTest passed\u001b[39m 🥳\n",
      "\u001b[32mTest passed\u001b[39m 🎉\n"
     ]
    }
   ],
   "source": [
    "## check whether function ET() is defined\n",
    "\n",
    "if (test_that(desc=\"\", code={\n",
    "    expect_equal(exists(\"ET\", mode=\"function\"), TRUE)\n",
    "}) != TRUE) stop(\"Function ET() not created!\")\n",
    "\n",
    "\n",
    "## check whether variable ans is numeric (or double)\n",
    "if (test_that(desc=\"\", code={\n",
    "    expect_equal(is.numeric(ET(11,5,0.05)), TRUE)\n",
    "}) != TRUE) stop(\"Variable ans is not numeric/double.\")\n",
    "\n"
   ]
  },
  {
   "cell_type": "code",
   "execution_count": 9,
   "metadata": {
    "deletable": false,
    "editable": false,
    "nbgrader": {
     "cell_type": "code",
     "checksum": "3022d00fd75224ee22d3beda0e1ea283",
     "grade": true,
     "grade_id": "cell-45e5f4ab451dd80b",
     "locked": true,
     "points": 2,
     "schema_version": 3,
     "solution": false,
     "task": false
    }
   },
   "outputs": [
    {
     "name": "stdout",
     "output_type": "stream",
     "text": [
      "\u001b[32mTest passed\u001b[39m 🎊\n",
      "\u001b[32mTest passed\u001b[39m 🥇\n"
     ]
    }
   ],
   "source": [
    "\n",
    "## check whether the output is a vector of length 2\n",
    "\n",
    "if (test_that(desc=\"\", code={\n",
    "    expect_equal(length(ET(11,5,0.05))==2, TRUE)\n",
    "}) != TRUE) stop(\"Sorry, x is not a vector of adequate length\")\n",
    "\n",
    "\n",
    "## check whether the first component is smaller than the 2nd component\n",
    "\n",
    "if (test_that(desc=\"\", code={\n",
    "    expect_equal(ET(11,5,0.05)[1] <  ET(11,5,0.05)[2], TRUE)\n",
    "}) != TRUE) stop(\"Sorry, x is not a vector of adequate length\")"
   ]
  },
  {
   "cell_type": "code",
   "execution_count": 10,
   "metadata": {
    "deletable": false,
    "editable": false,
    "nbgrader": {
     "cell_type": "code",
     "checksum": "a23bf7aed7edd9b806c83c60ef88035d",
     "grade": true,
     "grade_id": "cell-3a4ed3dc787b9963",
     "locked": true,
     "points": 2,
     "schema_version": 3,
     "solution": false,
     "task": false
    }
   },
   "outputs": [
    {
     "name": "stdout",
     "output_type": "stream",
     "text": [
      "\u001b[32mTest passed\u001b[39m 😀\n",
      "\u001b[32mTest passed\u001b[39m 🥳\n"
     ]
    }
   ],
   "source": [
    "\n",
    "## check whether the answer is correct for some input values\n",
    "\n",
    "v = ET(11,5,0.05)\n",
    "\n",
    "if (test_that(desc=\"\", code={\n",
    "   expect_equal(abs(v[1] - 0.251345482270304) < 1e-4, TRUE)\n",
    "}) != TRUE) stop(\"Sorry, wrong answer.\")\n",
    "\n",
    "if (test_that(desc=\"\", code={\n",
    "   expect_equal(abs(v[2] - 0.748654517729696) < 1e-4, TRUE)\n",
    "}) != TRUE) stop(\"Sorry, wrong answer.\")\n",
    "\n"
   ]
  },
  {
   "cell_type": "code",
   "execution_count": 11,
   "metadata": {
    "deletable": false,
    "editable": false,
    "nbgrader": {
     "cell_type": "code",
     "checksum": "bbc9c26205976b9decb129dcf2f490a6",
     "grade": true,
     "grade_id": "cell-d9e5b1926f9598be",
     "locked": true,
     "points": 9,
     "schema_version": 3,
     "solution": false,
     "task": false
    }
   },
   "outputs": [],
   "source": [
    "## check whether the answer is correct (hidden tests)\n"
   ]
  },
  {
   "cell_type": "markdown",
   "metadata": {
    "deletable": false,
    "editable": false,
    "nbgrader": {
     "cell_type": "markdown",
     "checksum": "057bc8943c0497da8c345903e5b8d97f",
     "grade": false,
     "grade_id": "cell-d6368bfd4e8a44d8",
     "locked": true,
     "schema_version": 3,
     "solution": false,
     "task": false
    }
   },
   "source": [
    "### Question 3\n",
    "\n",
    "A fabric manufacturer believes that the proportion $p$ of orders arriving late from a certain supplier of raw material exceeds $20\\%.$ To test this claim, the manufacturer collects a sample of 15 orders and records $X$ = the number of orders in the sample that had been late. You can assume the orders are independent of each other, in terms of tardiness. The manufacturer wants to bring this problem up and confront the supplier only if they are certain in the claim with significance level of at most $10\\%$. \n",
    "\n",
    "#### Part (a)\n",
    "\n",
    "Which of the following tests may the manufacturer perform for this purpose?\n",
    "\n",
    "1. $H_0: p\\leq 0.2$ vs. $H_a: p > 0.2$; critical region: $X\\leq k$ for some $k\\in \\mathbf{Z}$.\n",
    "\n",
    "2. $H_0: p\\leq 0.2$ vs. $H_a: p > 0.2$; critical region: $X\\geq k$ for some $k\\in \\mathbf{Z}$.\n",
    "\n",
    "3. $H_0: p\\geq 0.2$ vs. $H_a: p < 0.2$; critical region: $X \\leq k$ for some $k \\in \\mathbf{Z}$\n",
    "\n",
    "4. $H_0: p\\geq 0.2$ vs. $H_a: p < 0.2$; critical region: $X \\geq k$ for some $k \\in \\mathbf{Z}$\n",
    "\n",
    "5. $H_0: p = 0.2$ vs. $H_a: p\\neq 0.2$; critical region: $X \\leq k_1$ or $X \\geq k_2$ for some $k_1, k_2 \\in \\mathbf{Z}$. \n",
    "\n",
    "6. $H_0: p = 0.2$ vs. $H_a: p\\neq 0.2$; critical region: $k_1 \\leq X \\leq k_2$ for some $k_1, k_2 \\in \\mathbf{Z}$. \n",
    "\n",
    "7. None of the above\n",
    "\n",
    "<br>\n",
    "\n",
    "Create a variable `ans` and assign one of the integers 1,2,...,7 depending on which of these answers you believe to be correct. For example, if you think the answer is 7, then write\n",
    "\n",
    "`ans = 7`\n",
    "\n",
    "<br>"
   ]
  },
  {
   "cell_type": "code",
   "execution_count": 12,
   "metadata": {
    "deletable": false,
    "nbgrader": {
     "cell_type": "code",
     "checksum": "d55ad3945a6848022b855698b62aa8e7",
     "grade": false,
     "grade_id": "cell-6ab4a603d2307aab",
     "locked": false,
     "schema_version": 3,
     "solution": true,
     "task": false
    }
   },
   "outputs": [],
   "source": [
    "ans = 2\n"
   ]
  },
  {
   "cell_type": "code",
   "execution_count": 13,
   "metadata": {
    "deletable": false,
    "editable": false,
    "nbgrader": {
     "cell_type": "code",
     "checksum": "19e3eff9a8c3bd3d92419b58ee9b86cb",
     "grade": true,
     "grade_id": "cell-8c8a16ebf3a81316",
     "locked": true,
     "points": 1,
     "schema_version": 3,
     "solution": false,
     "task": false
    }
   },
   "outputs": [
    {
     "name": "stdout",
     "output_type": "stream",
     "text": [
      "\u001b[32mTest passed\u001b[39m 🌈\n"
     ]
    }
   ],
   "source": [
    "## check whether variable ans exists and is numeric\n",
    "\n",
    "if (test_that(desc=\"\", code={\n",
    "    expect_equal(exists(\"ans\", mode=\"numeric\"), TRUE)\n",
    "}) != TRUE) stop(\"ans not created or is not numeric!\")\n",
    "\n"
   ]
  },
  {
   "cell_type": "code",
   "execution_count": 14,
   "metadata": {
    "deletable": false,
    "editable": false,
    "nbgrader": {
     "cell_type": "code",
     "checksum": "5f969d32f17ed14e81bd602f52757a84",
     "grade": true,
     "grade_id": "cell-cb2781520389d23a",
     "locked": true,
     "points": 4,
     "schema_version": 3,
     "solution": false,
     "task": false
    }
   },
   "outputs": [],
   "source": [
    "## check whether ans is correct (hidden test)\n",
    "\n"
   ]
  },
  {
   "cell_type": "markdown",
   "metadata": {
    "deletable": false,
    "editable": false,
    "nbgrader": {
     "cell_type": "markdown",
     "checksum": "ccc4337e9445b595a6dc9d6624d677d0",
     "grade": false,
     "grade_id": "cell-8db36afa005ed105",
     "locked": true,
     "schema_version": 3,
     "solution": false,
     "task": false
    }
   },
   "source": [
    "#### Part (b)\n",
    "\n",
    "For the correct choice of the test given above, and any possible value of $k \\in \\{0,1,...,15\\}$, find the probability of committing type I error if the true proportion of late deliveries is $p \\in [0,1]$. To do that create a function `ptypeIerr(p,k)`, with input parameters `p` and `k` which for any input value `k` returns\n",
    "\n",
    "`ptypeIerr(p,k)` = $P_{p}(\\text{type I error if the critical value is k})$ = probability of commiting type I error if the true proportion is $p$ and the critical value of the test is $k$.\n",
    "\n",
    "**Do NOT round your answer!**\n",
    "\n",
    "Note: your function should assume any possible input of $p\\in [0,1]$ and any possible integer $k\\in\\{0,1,\\dots, 15\\}$. You do not need to worry about values of $p$ and $k$ outside these ranges. \n",
    "\n",
    "(Hint: just one line of a code inside the function may be sufficient, if you apply \n",
    "\n",
    "`(p<=0.2)*<something> + (p>0.2)*<something else>`. \n",
    "\n",
    "This is because logical values TRUE and FALSE, when multiplied by numeric values, get coerced into 1 and 0, respectively, before multiplied with the numeric value. If you feel more comfortable applying `if...else` statement to treat various values of `p`, that's also fine. Also, when applying appropriate R function, read the documentation about values of `lower.tail` parameter and their meanings. Keep in mind that for a *discrete* random variable $X$, in general, $P(X\\leq k)\\neq P(X < k)$, and $P(X\\geq k)\\neq P(X>k)$.\n",
    "\n",
    "<br>\n"
   ]
  },
  {
   "cell_type": "code",
   "execution_count": 15,
   "metadata": {
    "deletable": false,
    "nbgrader": {
     "cell_type": "code",
     "checksum": "f1bd24ef687b3ff7ff8943e1da96cd3f",
     "grade": false,
     "grade_id": "cell-3edeff4c59dae63b",
     "locked": false,
     "schema_version": 3,
     "solution": true,
     "task": false
    }
   },
   "outputs": [],
   "source": [
    "ptypeIerr <- function(p,k){\n",
    "\n",
    "    (p <= 0.2) * (1 - pbinom(k - 1, size = 15, prob = p))\n",
    "    \n",
    "}\n",
    "\n"
   ]
  },
  {
   "cell_type": "code",
   "execution_count": 16,
   "metadata": {
    "deletable": false,
    "editable": false,
    "nbgrader": {
     "cell_type": "code",
     "checksum": "38c59655b57450ad139c86b22dc8d857",
     "grade": true,
     "grade_id": "cell-7fe5b4e5a37a473c",
     "locked": true,
     "points": 1,
     "schema_version": 3,
     "solution": false,
     "task": false
    }
   },
   "outputs": [
    {
     "name": "stdout",
     "output_type": "stream",
     "text": [
      "\u001b[32mTest passed\u001b[39m 🥇\n",
      "\u001b[32mTest passed\u001b[39m 🎉\n"
     ]
    }
   ],
   "source": [
    "## check whether function ptypeIerr is defined\n",
    "\n",
    "if (test_that(desc=\"\", code={\n",
    "    expect_equal(exists(\"ptypeIerr\", mode=\"function\"), TRUE)\n",
    "}) != TRUE) stop(\"Function ptypeIerr not created!\")\n",
    "\n",
    "\n",
    "## check whether output is numeric (or double)\n",
    "if (test_that(desc=\"\", code={\n",
    "    expect_equal(is.numeric(ptypeIerr(p=0.15, k=2)), TRUE)\n",
    "}) != TRUE) stop(\"The output is not numeric/double.\")\n",
    "\n"
   ]
  },
  {
   "cell_type": "code",
   "execution_count": 17,
   "metadata": {
    "deletable": false,
    "editable": false,
    "nbgrader": {
     "cell_type": "code",
     "checksum": "695406f7efb68a450a2400933ec5c6bc",
     "grade": true,
     "grade_id": "cell-2817c3aa95c91028",
     "locked": true,
     "points": 1,
     "schema_version": 3,
     "solution": false,
     "task": false
    }
   },
   "outputs": [
    {
     "name": "stdout",
     "output_type": "stream",
     "text": [
      "\u001b[32mTest passed\u001b[39m 🎉\n",
      "\u001b[32mTest passed\u001b[39m 🎊\n"
     ]
    }
   ],
   "source": [
    "\n",
    "## check whether the 3rd, 4th and 5th digit of ptypeIerr(p=0.15,k=2) are 1,4,1, respectively\n",
    "\n",
    "if (test_that(desc=\"\", code={\n",
    "    expect_equal( floor(10^5 * ptypeIerr(p=0.15, k=2)) %% 1000, 141)\n",
    "}) != TRUE) stop(\"Sorry, wrong answer\")\n",
    "\n",
    "\n",
    "## check whether the 4th and 5th digit of ptypeIerr(p=0.10, k=6) are 2,4, respectively\n",
    "\n",
    "if (test_that(desc=\"\", code={\n",
    "   expect_equal( floor(10^5 * ptypeIerr(p=0.10, k=6)) %% 100 , 24 )\n",
    "}) != TRUE) stop(\"Sorry, wrong answer\")\n",
    "\n"
   ]
  },
  {
   "cell_type": "code",
   "execution_count": 18,
   "metadata": {
    "deletable": false,
    "editable": false,
    "nbgrader": {
     "cell_type": "code",
     "checksum": "8ab8af40e9fe2011b746b067bf2298d6",
     "grade": true,
     "grade_id": "cell-772d4200cbd23c89",
     "locked": true,
     "points": 3,
     "schema_version": 3,
     "solution": false,
     "task": false
    }
   },
   "outputs": [],
   "source": [
    "\n",
    "## check whether the answer is correct for some values of p and k (hidden tests)\n",
    "\n"
   ]
  },
  {
   "cell_type": "markdown",
   "metadata": {
    "deletable": false,
    "editable": false,
    "nbgrader": {
     "cell_type": "markdown",
     "checksum": "085f7e1810619ce239419bf48691bb1b",
     "grade": false,
     "grade_id": "cell-fbd49c34eee35060",
     "locked": true,
     "schema_version": 3,
     "solution": false,
     "task": false
    }
   },
   "source": [
    "#### Part (c)\n",
    "\n",
    "For the correct choice of the test given above, and any possible value of $k \\in \\{0,1,...,15\\}$, find the probability of committing type II error if the true proportion of late deliveries is $p \\in [0,1]$. To do that create a function `ptypeIerr(p,k)`, with input parameters `p` and `k` which for any input value `k` returns\n",
    "\n",
    "`ptypeIIerr(p,k)` = $P_{p}(\\text{type II error if the critical value is k})$ = probability of commiting type II error if the true proportion is $p$ and the critical value of the test is $k$.\n",
    "\n",
    "**Do NOT round your answer!**\n",
    "\n",
    "***Note:*** your function should assume any possible input of $p\\in [0,1]$ and any possible integer $k\\in\\{0,1,\\dots, 15\\}$. You do not need to worry about values of $p$ and $k$ outside these ranges. \n",
    "\n",
    "***Hint:*** just like with type I error, one line of a code inside the function may be sufficient here as well, if you apply \n",
    "\n",
    "`(p<=0.2)*<something> + (p>0.2)*<something else>`. \n",
    "And again, if you feel more comfortable applying `if...else` statement to treat various values of `p`, that's also fine. In addition, make sure you know the meaning of `lower.tail` parameter for either of its values `TRUE` and `FALSE`.\n",
    "\n",
    "<br>\n"
   ]
  },
  {
   "cell_type": "code",
   "execution_count": 19,
   "metadata": {
    "deletable": false,
    "nbgrader": {
     "cell_type": "code",
     "checksum": "9261094234c4fb49cd4f9205f7d271c1",
     "grade": false,
     "grade_id": "cell-976c9853214b8c41",
     "locked": false,
     "schema_version": 3,
     "solution": true,
     "task": false
    }
   },
   "outputs": [],
   "source": [
    "\n",
    "ptypeIIerr <- function(p,k){\n",
    "    \n",
    "    (p > 0.2) * pbinom(k - 1, size = 15, prob = p)\n",
    "    \n",
    "}\n"
   ]
  },
  {
   "cell_type": "code",
   "execution_count": 20,
   "metadata": {
    "deletable": false,
    "editable": false,
    "nbgrader": {
     "cell_type": "code",
     "checksum": "115675473c407941519984b310e10c8a",
     "grade": true,
     "grade_id": "cell-11434c688cb81b28",
     "locked": true,
     "points": 1,
     "schema_version": 3,
     "solution": false,
     "task": false
    }
   },
   "outputs": [
    {
     "name": "stdout",
     "output_type": "stream",
     "text": [
      "\u001b[32mTest passed\u001b[39m 😀\n",
      "\u001b[32mTest passed\u001b[39m 🥳\n"
     ]
    }
   ],
   "source": [
    "## check whether function ptypeIerr is defined\n",
    "\n",
    "if( test_that(desc=\"\", code={\n",
    "    expect_equal(exists(\"ptypeIIerr\", mode=\"function\"), TRUE)\n",
    "}) != TRUE) stop(\"Function ptypeIIerr not created!\")\n",
    "\n",
    "\n",
    "## check whether output is numeric (or double)\n",
    "if (test_that(desc=\"\", code={\n",
    "    expect_equal(is.numeric(ptypeIIerr(p=0.15, k=2)), TRUE)\n",
    "}) != TRUE) stop(\"the output is not numeric/double.\")\n",
    "\n"
   ]
  },
  {
   "cell_type": "code",
   "execution_count": 21,
   "metadata": {
    "deletable": false,
    "editable": false,
    "nbgrader": {
     "cell_type": "code",
     "checksum": "e9c1f688c0144e2ababdce7f27285edd",
     "grade": true,
     "grade_id": "cell-c7ed4b2ab56c169c",
     "locked": true,
     "points": 1,
     "schema_version": 3,
     "solution": false,
     "task": false
    }
   },
   "outputs": [
    {
     "name": "stdout",
     "output_type": "stream",
     "text": [
      "\u001b[32mTest passed\u001b[39m 🥇\n",
      "\u001b[32mTest passed\u001b[39m 🌈\n",
      "\u001b[32mTest passed\u001b[39m 😸\n"
     ]
    }
   ],
   "source": [
    "## check whether the 3rd, 4th and 5th digit of ptypeIIerr(p=0.23, k=5) are 0,4,5, respectively\n",
    "\n",
    "if (test_that(desc=\"\", code={\n",
    "    expect_equal( floor(10^5 *  ptypeIIerr(p=0.23, k=5) ) %% 1000 == 45, TRUE)\n",
    "}) != TRUE) stop(\"Sorry, wrong answer\")\n",
    "\n",
    "\n",
    "## check whether the 4th and 5th digit of ptypeIIerr(p=0.28, k=4) are 3,9, respectively\n",
    "\n",
    "if (test_that(desc=\"\", code={\n",
    "   expect_equal( floor(10^5 * ptypeIIerr(p=0.28, k=4)) %% 100 , 39 )\n",
    "}) != TRUE) stop(\"Sorry, wrong answer\")\n",
    "\n",
    "\n",
    "## check whether ptypeIIerr(p=0.15, k=2) == 0\n",
    "\n",
    "if (test_that(desc=\"\", code={\n",
    "   expect_equal( ptypeIIerr(p=0.15, k=2) == 0, TRUE)\n",
    "}) != TRUE) stop(\"Sorry, wrong answer\")"
   ]
  },
  {
   "cell_type": "code",
   "execution_count": 22,
   "metadata": {
    "deletable": false,
    "editable": false,
    "nbgrader": {
     "cell_type": "code",
     "checksum": "4f2d4e191d12be3057f11504835348ed",
     "grade": true,
     "grade_id": "cell-021a17189511994e",
     "locked": true,
     "points": 3,
     "schema_version": 3,
     "solution": false,
     "task": false
    }
   },
   "outputs": [],
   "source": [
    "## check whether the answer is correct (hidden tests)\n",
    "\n"
   ]
  },
  {
   "cell_type": "markdown",
   "metadata": {
    "deletable": false,
    "editable": false,
    "nbgrader": {
     "cell_type": "markdown",
     "checksum": "1afb1f69deabfaf6651326a4cd293860",
     "grade": false,
     "grade_id": "cell-7fa40790c0bf1843",
     "locked": true,
     "schema_version": 3,
     "solution": false,
     "task": false
    }
   },
   "source": [
    "#### Part (d)\n",
    "\n",
    "What is the critical value $k$ that gives us the test with significance level not exceeding $0.10$? What is the actual significance level $\\alpha$ of such test?\n",
    "\n",
    "Write your answer as a vector variable `ans` of length 2, whose first component is $k$ and the second is the significance level $\\alpha.$ For example, if you think $k=1$ and $\\alpha=0.012345$, you should write \n",
    "\n",
    "`ans = c(1,0.012345)`\n",
    "\n",
    "**Do NOT round the value of $\\alpha$!**\n",
    "\n",
    "***Hint:*** Choose $p=0.20$ since among all values in $H_0$ it gives you the worst case scenario (i.e. the largest possible type I error). Then, you should use your function `ptypeIerr()` from part (b) with $p=0.20$ and various values of $k$. If your function `ptypeIerr()` is not defined in a complicated way, you may be able to use it with input `k` being a vector of all the values $0,1,\\dots,15$, i.e. `ptypeIerr(p=0.20, k=0:15)`. Alternatively, use it for various values of $k$, one value at a time, to determine which value $k$ meets the requirements."
   ]
  },
  {
   "cell_type": "code",
   "execution_count": 33,
   "metadata": {
    "deletable": false,
    "nbgrader": {
     "cell_type": "code",
     "checksum": "43ef1ab6f2464aabbc6525bbe6739edb",
     "grade": false,
     "grade_id": "cell-0370723ec21a25d0",
     "locked": false,
     "schema_version": 3,
     "solution": true,
     "task": false
    }
   },
   "outputs": [],
   "source": [
    "ks = 0:15\n",
    "alphas = ptypeIerr(p=0.2, k=ks)\n",
    "k = ks[which(alphas <= 0.10)[1]]\n",
    "alpha = alphas[ks == k]\n",
    "ans <- c(k, alpha)\n",
    "\n",
    "\n"
   ]
  },
  {
   "cell_type": "code",
   "execution_count": 34,
   "metadata": {
    "deletable": false,
    "editable": false,
    "nbgrader": {
     "cell_type": "code",
     "checksum": "83f25cfcc124327cb0799d84e7cade33",
     "grade": true,
     "grade_id": "cell-68be95badb7bab7c",
     "locked": true,
     "points": 1,
     "schema_version": 3,
     "solution": false,
     "task": false
    }
   },
   "outputs": [
    {
     "name": "stdout",
     "output_type": "stream",
     "text": [
      "\u001b[32mTest passed\u001b[39m 🎉\n",
      "\u001b[32mTest passed\u001b[39m 🎉\n"
     ]
    }
   ],
   "source": [
    "## check whether vector ans is defined\n",
    "\n",
    "## check whether output is numeric (or double)\n",
    "if (test_that(desc=\"\", code={\n",
    "    expect_equal(is.numeric(ans), TRUE)\n",
    "}) != TRUE) stop(\"the output is not numeric/double.\")\n",
    "\n",
    "\n",
    "## check whether output is numeric (or double)\n",
    "if (test_that(desc=\"the output is not numeric/double.\", code={\n",
    "    expect_equal(length(ans) == 2, TRUE)\n",
    "}) != TRUE) stop(\"the output is not numeric/double.\")\n",
    "\n"
   ]
  },
  {
   "cell_type": "code",
   "execution_count": 35,
   "metadata": {
    "deletable": false,
    "editable": false,
    "nbgrader": {
     "cell_type": "code",
     "checksum": "5d2f94a0f5a904e798dad71ad09e5f76",
     "grade": true,
     "grade_id": "cell-1de208feda861340",
     "locked": true,
     "points": 1,
     "schema_version": 3,
     "solution": false,
     "task": false
    }
   },
   "outputs": [
    {
     "name": "stdout",
     "output_type": "stream",
     "text": [
      "\u001b[32mTest passed\u001b[39m 😀\n"
     ]
    }
   ],
   "source": [
    "## check whether the 3rd, 4th and 5th digit of ans are 1,0,5, respectively\n",
    "\n",
    "if (test_that(desc=\"\", code={\n",
    "    expect_equal( floor(10^5 * ans[2] ) %% 1000 == 105, TRUE)\n",
    "}) != TRUE) stop(\"Sorry, wrong answer\")"
   ]
  },
  {
   "cell_type": "code",
   "execution_count": 36,
   "metadata": {
    "deletable": false,
    "editable": false,
    "nbgrader": {
     "cell_type": "code",
     "checksum": "4fa617ae89cadb53ed8aedf4d5186a15",
     "grade": true,
     "grade_id": "cell-a072b69afc5cf3e3",
     "locked": true,
     "points": 1,
     "schema_version": 3,
     "solution": false,
     "task": false
    }
   },
   "outputs": [],
   "source": [
    "## check whether the k is correct (hidden test)\n",
    "\n"
   ]
  },
  {
   "cell_type": "code",
   "execution_count": 37,
   "metadata": {
    "deletable": false,
    "editable": false,
    "nbgrader": {
     "cell_type": "code",
     "checksum": "292e003e998acc9a32cf04ad0e6cc7f6",
     "grade": true,
     "grade_id": "cell-4306c12da82ab457",
     "locked": true,
     "points": 2,
     "schema_version": 3,
     "solution": false,
     "task": false
    }
   },
   "outputs": [],
   "source": [
    "## check whether the significance level alpha is correct (hidden test)\n",
    "\n"
   ]
  },
  {
   "cell_type": "markdown",
   "metadata": {
    "deletable": false,
    "editable": false,
    "nbgrader": {
     "cell_type": "markdown",
     "checksum": "ece94c5b37fa47e970cddf995f463e9b",
     "grade": false,
     "grade_id": "cell-48c2db671d9d618e",
     "locked": true,
     "schema_version": 3,
     "solution": false,
     "task": false
    }
   },
   "source": [
    "### Question 4 (OPTIONAL)\n",
    "\n",
    "#### This problem is optional, it does not carry any credit, nor it gets you any extra credit (but I recommend you to do it anyways).\n",
    "\n",
    "A sample is drawn from $\\mathcal{G}amma(k,\\theta)$ population, where $k>0$ is known, given, called *shape* parameter, and $\\theta>0$ is unknown, called *scale* parameter. The gamma distribution with these parameters is given by the density\n",
    " \n",
    " $f(x;k,\\theta) = \\begin{cases}{1\\over \\Gamma(k)\\,\\theta^k}\n",
    " \\, x^{k-1}e^{-{x \\over \\theta}} &, x > 0 \\\\ \\hspace{1cm} 0 &, \\text{elsewhere}\\end{cases}$\n",
    " \n",
    "Here, $\\Gamma(k)$ is the gamma function (not to be confused with gamma distribution).\n",
    "\n",
    "Create R function `MLEtheta(xsample,k)` which for a sample `xsample` from $\\mathcal{G}amma(k,\\theta)$ population (where `xsample` is an arbitrary R numeric vector with positive values) and for the given (known) value `k`$>0$ of the shape parameter, gives the maximum likelihood estimate for the parameter $\\theta$.\n",
    " \n",
    " **Side Note:** Apart from the scale parameter $\\theta$, another parameter $\\lambda$, called rate parameter, can be specified instead of the scale parameter $\\theta$. These two parameters are closely related: $\\theta = {1\\over \\lambda}$. The rate $\\lambda$ is average frequency/rate of arrivals of so called Poisson events; the distribution $\\mathcal{G}amma(k,\\theta={1\\over \\lambda})$ can then be interpreted as a waiting time of the $k$-th Poisson arrival, with average number of $\\lambda$ arrivals per unit time, and average time $\\theta={1\\over \\lambda}$ between two Poisson arrivals. Here, $k$ is generalized from any natural number to any positive number."
   ]
  },
  {
   "cell_type": "code",
   "execution_count": null,
   "metadata": {
    "deletable": false,
    "nbgrader": {
     "cell_type": "code",
     "checksum": "4343a60f0b51b5d83d87d2c83077e1c2",
     "grade": false,
     "grade_id": "cell-b5a249261ec2933e",
     "locked": false,
     "schema_version": 3,
     "solution": true,
     "task": false
    }
   },
   "outputs": [],
   "source": [
    "\n",
    "# your code here\n",
    "fail() # No Answer - remove if you provide an answer\n",
    "\n"
   ]
  },
  {
   "cell_type": "code",
   "execution_count": null,
   "metadata": {
    "deletable": false,
    "editable": false,
    "nbgrader": {
     "cell_type": "code",
     "checksum": "c152e00dba75268b792726d34cd9e45a",
     "grade": true,
     "grade_id": "cell-bf11124e312d59d3",
     "locked": true,
     "points": 0,
     "schema_version": 3,
     "solution": false,
     "task": false
    }
   },
   "outputs": [],
   "source": [
    "## check whether function MLEtheta() is defined\n",
    "\n",
    "test_that(desc=\"\", code={\n",
    "    expect_equal(exists(\"MLEtheta\", mode=\"function\"), TRUE)\n",
    "})\n",
    "\n",
    "\n",
    "## check whether the output is numeric (or double)\n",
    "\n",
    "set.seed(123);  \n",
    "test_that(desc=\"\", code={\n",
    "    expect_equal(is.numeric(MLEtheta(xsample=rgamma(n=15,shape=3.2, scale=1/8),k=3.2)), TRUE)\n",
    "}) "
   ]
  },
  {
   "cell_type": "code",
   "execution_count": null,
   "metadata": {
    "deletable": false,
    "editable": false,
    "nbgrader": {
     "cell_type": "code",
     "checksum": "7776e76d7d65db575319652917f1b1fb",
     "grade": true,
     "grade_id": "cell-0ce3e5d53d11cdaf",
     "locked": true,
     "points": 0,
     "schema_version": 3,
     "solution": false,
     "task": false
    }
   },
   "outputs": [],
   "source": [
    "## check the output for some input values\n",
    "\n",
    "test_that(desc=\"\", code={\n",
    "    expect_equal(abs(MLEtheta(xsample=c(1, 3, 2.4, 0.2, 4.35), k=2.8) - 0.782142857142857) < 1e-4, TRUE)\n",
    "})\n",
    "\n",
    "\n",
    "set.seed(123);  #don't forget to set this seed, if you are testing your code with the following input\n",
    "\n",
    "test_that(desc=\"\", code={\n",
    "    expect_equal(abs(MLEtheta(xsample=rgamma(n=15,shape=3.2, scale=1/8),k=3.2) - \n",
    "                             0.124596609490925) < 1e-4, TRUE)\n",
    "})\n",
    "\n"
   ]
  },
  {
   "cell_type": "code",
   "execution_count": null,
   "metadata": {
    "deletable": false,
    "editable": false,
    "nbgrader": {
     "cell_type": "code",
     "checksum": "1219564b413d7789822992df96ce1cdc",
     "grade": true,
     "grade_id": "cell-1721deee66e77f37",
     "locked": true,
     "points": 0,
     "schema_version": 3,
     "solution": false,
     "task": false
    }
   },
   "outputs": [],
   "source": [
    "## check whether the output is correct (hidden tests)\n",
    "\n"
   ]
  }
 ],
 "metadata": {
  "kernelspec": {
   "display_name": "R",
   "language": "R",
   "name": "ir"
  },
  "language_info": {
   "codemirror_mode": "r",
   "file_extension": ".r",
   "mimetype": "text/x-r-source",
   "name": "R",
   "pygments_lexer": "r",
   "version": "4.3.3"
  }
 },
 "nbformat": 4,
 "nbformat_minor": 2
}
