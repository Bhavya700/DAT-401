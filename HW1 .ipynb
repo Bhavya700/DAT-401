{
 "cells": [
  {
   "cell_type": "markdown",
   "metadata": {},
   "source": [
    "**IMPORTANT** <br> <ul> <li> Do **NOT** replace or remove this notebook (ipynb file)! Each cell has unique nbgrader's metadata and ID which, if changed outside the nbgrader, cannot pass the tests. Do **NOT** change the name of the file!</li> <li> To receive any credit, don't forget to **SUBMIT** your notebook when you are done! You can have multiple submissions before the deadline; only the last one is saved, including its timestamp.</li> <li>Before submitting, **Validate** your notebook to check if your codes pass all visible tests. </li> <li>Make sure you fill in any cell with the comment `# your code here`. Remove or comment the command `fail()` (in R), or `raise NotImplementedError` (in Python) and place your code there </li> </ul>"
   ]
  },
  {
   "cell_type": "code",
   "execution_count": 8,
   "metadata": {},
   "outputs": [],
   "source": [
    "NAME = \"Bhavya Patel\""
   ]
  },
  {
   "cell_type": "markdown",
   "metadata": {},
   "source": [
    "---"
   ]
  },
  {
   "cell_type": "code",
   "execution_count": 9,
   "metadata": {
    "deletable": false,
    "editable": false,
    "nbgrader": {
     "cell_type": "code",
     "checksum": "d392eefb0a00600fb7a9dfdf94146d94",
     "grade": false,
     "grade_id": "cell-9fee0b6bde088dca",
     "locked": true,
     "schema_version": 3,
     "solution": false,
     "task": false
    }
   },
   "outputs": [],
   "source": [
    "## import libraries needed\n",
    "## make sure you run this code first!\n",
    "\n",
    "library(testthat)\n",
    "library(digest)\n",
    "library(stringr)"
   ]
  },
  {
   "cell_type": "markdown",
   "metadata": {
    "deletable": false,
    "editable": false,
    "nbgrader": {
     "cell_type": "markdown",
     "checksum": "6c33db9e71c64b59a6fda054a7aad56f",
     "grade": false,
     "grade_id": "cell-11e30e54dda12827",
     "locked": true,
     "schema_version": 3,
     "solution": false,
     "task": false
    }
   },
   "source": [
    "#### Since DAT301 is the prerequisite, this course assumes prior familiarity with R programming language.\n",
    "#### First couple of questions are just a warm-up in R syntax."
   ]
  },
  {
   "cell_type": "markdown",
   "metadata": {
    "deletable": false,
    "editable": false,
    "nbgrader": {
     "cell_type": "markdown",
     "checksum": "4cc59a97fd7304caa38263bec59874d7",
     "grade": false,
     "grade_id": "cell-48c2db671d9d618e",
     "locked": true,
     "schema_version": 3,
     "solution": false,
     "task": false
    }
   },
   "source": [
    "### Question 1\n",
    "Create a variable `x` as a vector of first $100$ natural numbers $1, 2, 3, \\dots , 100$\n",
    "\n",
    "In addition, create a variable `y` as a vector of squares of first natural numbers: $1^2, 2^2, 3^2, \\dots , 100^2$."
   ]
  },
  {
   "cell_type": "code",
   "execution_count": 10,
   "metadata": {
    "deletable": false,
    "nbgrader": {
     "cell_type": "code",
     "checksum": "14d77f7ed01cb0416487d6078480de8d",
     "grade": false,
     "grade_id": "cell-b5a249261ec2933e",
     "locked": false,
     "schema_version": 3,
     "solution": true,
     "task": false
    }
   },
   "outputs": [],
   "source": [
    "\n",
    "x<-1:100\n",
    "y<-x^2\n"
   ]
  },
  {
   "cell_type": "code",
   "execution_count": 11,
   "metadata": {
    "deletable": false,
    "editable": false,
    "nbgrader": {
     "cell_type": "code",
     "checksum": "dde9445af9eab129bb379badca473f10",
     "grade": true,
     "grade_id": "cell-d7167a0e211c7723",
     "locked": true,
     "points": 1,
     "schema_version": 3,
     "solution": false,
     "task": false
    }
   },
   "outputs": [
    {
     "name": "stdout",
     "output_type": "stream",
     "text": [
      "\u001b[32mTest passed\u001b[39m 🥳\n",
      "\u001b[32mTest passed\u001b[39m 🎉\n",
      "\u001b[32mTest passed\u001b[39m 🌈\n"
     ]
    }
   ],
   "source": [
    "# check whether you created vectors x and y, which are numeric and of length 100 \n",
    "\n",
    "library(testthat) #in case you forgot to run the first cell (but please run it anyways)\n",
    "\n",
    "if (test_that(desc=\"\", code={\n",
    "    expect_equal(is.vector(x), TRUE)\n",
    "    expect_equal(is.vector(y), TRUE)\n",
    "    }) != TRUE) stop(\"Sorry, x or y was not created as a vector\")\n",
    "\n",
    "    \n",
    "if (test_that(desc=\"\", code={\n",
    "    expect_equal(is.numeric(x), TRUE)\n",
    "    expect_equal(is.numeric(y), TRUE)\n",
    "    }) != TRUE) stop(\"Sorry, x or y is not numeric\")\n",
    "\n",
    "if (test_that(desc=\"\", code={\n",
    "    expect_equal(length(x), 100)\n",
    "    expect_equal(length(y), 100)\n",
    "    }) != TRUE) stop(\"Sorry, wrong length for at least one of the vectors\")\n"
   ]
  },
  {
   "cell_type": "code",
   "execution_count": 12,
   "metadata": {
    "deletable": false,
    "editable": false,
    "nbgrader": {
     "cell_type": "code",
     "checksum": "b5b94133b9f6a4cf022626b8f9c226a2",
     "grade": true,
     "grade_id": "cell-0ce3e5d53d11cdaf",
     "locked": true,
     "points": 1,
     "schema_version": 3,
     "solution": false,
     "task": false
    }
   },
   "outputs": [],
   "source": [
    "# test whether x is correct (hidden test)\n"
   ]
  },
  {
   "cell_type": "code",
   "execution_count": 13,
   "metadata": {
    "deletable": false,
    "editable": false,
    "nbgrader": {
     "cell_type": "code",
     "checksum": "23ceddee99abf0222165029caf6f0981",
     "grade": true,
     "grade_id": "cell-38c2a2f56aed09c2",
     "locked": true,
     "points": 5,
     "schema_version": 3,
     "solution": false,
     "task": false
    }
   },
   "outputs": [],
   "source": [
    "# test whether y is correct (hidden test)\n"
   ]
  },
  {
   "cell_type": "markdown",
   "metadata": {
    "deletable": false,
    "editable": false,
    "nbgrader": {
     "cell_type": "markdown",
     "checksum": "e95b290ecc1754cea993f2caa1e95c28",
     "grade": false,
     "grade_id": "cell-q4",
     "locked": true,
     "schema_version": 3,
     "solution": false,
     "task": false
    }
   },
   "source": [
    "### Question 2\n",
    "\n",
    "Let `x` be a numeric vector and suppose you want to know how many entries of `x` are strictly less than 5. Create\n",
    "a new variable `y` which is equal to the number of entries of `x` that are (strictly) less than 5. For example, if\n",
    "\n",
    "`x = c(-5, 7, 0, 3, 14, 9, 5, 10, 2, -2, 0, 12)`\n",
    "\n",
    "then your variable `y` should be equal to 6. Your code for `y` **must** be expressed in terms of `x` so that for different vectors `x` the same expression for `y` will always give the correct answer. To do that, we create a function `counts()` with input argument `x`. Within this function you need to create your variable `y`in terms of `x`, so that this function returns the right answer for any numeric vector `x`.\n",
    "\n",
    "Also, within the `counts()` function, create another variable `z` which is equal to the number of entries of `x` that are strictly between -5 and 5. Like `y`, the variable `z` **must** be expressed in terms of `x` so that the same expression for `z` works for various vectors `x`. The autograder will test your answer for several vectors `x`.\n",
    "\n",
    "You should have only two lines of code, one for `y`, one for `z`. \n",
    "Also, there is no partial credit! (This is true for each question). If one of the vectors `y` or `z` is wrong but the other one correct, you still get 0 pts."
   ]
  },
  {
   "cell_type": "code",
   "execution_count": 14,
   "metadata": {
    "deletable": false,
    "nbgrader": {
     "cell_type": "code",
     "checksum": "3c4238bb04e800d1471936c8f4da8805",
     "grade": false,
     "grade_id": "cell-cafbf9f8ce74436e",
     "locked": false,
     "schema_version": 3,
     "solution": true,
     "task": false
    }
   },
   "outputs": [],
   "source": [
    "counts = function(x){  # do NOT change this line of the code!\n",
    "    y=length(x[x<5])\n",
    "    z=length(x[x<5 & x>-5])\n",
    "\n",
    "\n",
    "return(list(y,z))} # do NOT change this line of the code!\n",
    "\n"
   ]
  },
  {
   "cell_type": "code",
   "execution_count": 15,
   "metadata": {
    "deletable": false,
    "editable": false,
    "nbgrader": {
     "cell_type": "code",
     "checksum": "a176cf245668a5f7de238b451b364d85",
     "grade": true,
     "grade_id": "cell-74cf0ccb8ccf479f",
     "locked": true,
     "points": 1,
     "schema_version": 3,
     "solution": false,
     "task": false
    }
   },
   "outputs": [
    {
     "name": "stdout",
     "output_type": "stream",
     "text": [
      "\u001b[32mTest passed\u001b[39m 🥳\n",
      "\u001b[32mTest passed\u001b[39m 😀\n"
     ]
    }
   ],
   "source": [
    "# check whether function `counts()` exists \n",
    "# and whether counts(x) returns a list of length 2 (for the input x = -3:6)\n",
    "\n",
    "x = -3:6\n",
    "\n",
    "if (test_that(desc=\"Sorry, functions `counts` was not created correctly\", code={\n",
    "    expect_equal(is.function(counts), TRUE)\n",
    "    }) != TRUE) stop(\"Sorry, functions `counts` was not created correctly\")\n",
    "\n",
    "if (test_that(desc=\"\", code={\n",
    "    expect_equal(length(counts(x)), 2)\n",
    "    }) != TRUE) stop(\"Sorry, for x=-3:6, length of the returned list is not 2\")\n"
   ]
  },
  {
   "cell_type": "code",
   "execution_count": 16,
   "metadata": {
    "deletable": false,
    "editable": false,
    "nbgrader": {
     "cell_type": "code",
     "checksum": "524bf2f350af87ca005c4b18c6094b9b",
     "grade": true,
     "grade_id": "cell-3cdfc22ad4fa41cb",
     "locked": true,
     "points": 1,
     "schema_version": 3,
     "solution": false,
     "task": false
    }
   },
   "outputs": [
    {
     "name": "stdout",
     "output_type": "stream",
     "text": [
      "\u001b[32mTest passed\u001b[39m 🎉\n",
      "\u001b[32mTest passed\u001b[39m 🎊\n",
      "\u001b[32mTest passed\u001b[39m 🎉\n"
     ]
    }
   ],
   "source": [
    "# check whether your answer is correct for \n",
    "# (x =) x1 = c(-5, 7, 0, 3, 14, 9, 5, 10, 2, -2, 0, 12) and (x =) x2 = c(-2, 4, 0, 10, 2, -2, 0, 12)\n",
    "\n",
    "x1 = c(-5, 7, 0, 3, 14, 9, 5, 10, 2, -2, 0, 12)\n",
    "x2 = c(-7, -20, 10, 2, 12)\n",
    "\n",
    "\n",
    "if (test_that(desc=\"\", code={\n",
    "    expect_equal(length(counts(x1)), 2)\n",
    "    expect_equal(length(counts(x2)), 2)\n",
    "    }) != TRUE) stop(\"Sorry, length of returned list is not 2\")\n",
    "\n",
    "if (test_that(desc=\"\", code={\n",
    "    expect_equal(counts(x1)[[1]], 6)\n",
    "    expect_equal(counts(x2)[[1]], 3)\n",
    "    }) != TRUE) stop(\"Sorry, 1st component of the list is wrong\")\n",
    "\n",
    "if (test_that(desc=\"\", code={\n",
    "    expect_equal(counts(x1)[[2]], 5)\n",
    "    expect_equal(counts(x2)[[2]], 1)\n",
    "    }) != TRUE) stop(\"Sorry, 2nd component of the list is wrong\")\n"
   ]
  },
  {
   "cell_type": "code",
   "execution_count": 17,
   "metadata": {
    "deletable": false,
    "editable": false,
    "nbgrader": {
     "cell_type": "code",
     "checksum": "4767fe9bb380c228b6ac616a48bc4dea",
     "grade": true,
     "grade_id": "cell-732b11cbcb29109f",
     "locked": true,
     "points": 6,
     "schema_version": 3,
     "solution": false,
     "task": false
    }
   },
   "outputs": [],
   "source": [
    "# check whether your answer is correct for several different vectors x (hidden test)\n"
   ]
  },
  {
   "cell_type": "markdown",
   "metadata": {
    "deletable": false,
    "editable": false,
    "nbgrader": {
     "cell_type": "markdown",
     "checksum": "0f36a4c63ef5d7c4c4e357607f2db155",
     "grade": false,
     "grade_id": "cell-aa49525ed6c6cc61",
     "locked": true,
     "schema_version": 3,
     "solution": false,
     "task": false
    }
   },
   "source": [
    "### Question 3\n",
    "Let `x` be a numeric vector. Create a new vector `y` which consists of all entries of `x` between -3 and 3 (**including** -3 and 3), in order of appearance as in the vector `x`. For example, if\n",
    "\n",
    "`x = c(-5, 7, 0, 3, 14, 9, 5, 10, -2, 0, 12)`\n",
    "\n",
    "then, printing `y` should read \n",
    "\n",
    "`y` <br>\n",
    "`[1] 0 3 -2 0`\n",
    "\n",
    "Similarly to the previous problem, we create a function `extract()` within which you need to type `y` in terms of `x`, so that for various vectors `x` the output `extract(x)` always gives the entries of `x` that are between -3 and 3 (including -3 and 3)."
   ]
  },
  {
   "cell_type": "code",
   "execution_count": 18,
   "metadata": {
    "deletable": false,
    "nbgrader": {
     "cell_type": "code",
     "checksum": "2e7eb7a51742a2927912f3ed9abeab3a",
     "grade": false,
     "grade_id": "cell-e882f1190e4c77d4",
     "locked": false,
     "schema_version": 3,
     "solution": true,
     "task": false
    }
   },
   "outputs": [],
   "source": [
    "extract = function(x){  # do NOT change this line of the code!\n",
    "\n",
    "    y=x[x<=3 & x>=-3]\n",
    "\n",
    "return(y)} # do NOT change this line of the code!\n",
    "\n"
   ]
  },
  {
   "cell_type": "code",
   "execution_count": 19,
   "metadata": {
    "deletable": false,
    "editable": false,
    "nbgrader": {
     "cell_type": "code",
     "checksum": "21f6c5b05e1dfd994ee9bb36b900831f",
     "grade": true,
     "grade_id": "cell-844d076826dbb994",
     "locked": true,
     "points": 1,
     "schema_version": 3,
     "solution": false,
     "task": false
    }
   },
   "outputs": [
    {
     "name": "stdout",
     "output_type": "stream",
     "text": [
      "\u001b[32mTest passed\u001b[39m 🥇\n"
     ]
    }
   ],
   "source": [
    "# Check whether for x given above, the output of extract(x) is c(0,3,-2,0)\n",
    "\n",
    "x = c(-5, 7, 0, 3, 14, 9, 5, 10, -2, 0, 12)\n",
    "\n",
    "if (test_that(desc=\"\", code={\n",
    "    expect_equal(all(extract(x)==c(0, 3, -2, 0)), TRUE)\n",
    "    }) != TRUE) stop(\"Sorry, your variable pB is not numeric.\")"
   ]
  },
  {
   "cell_type": "code",
   "execution_count": 20,
   "metadata": {
    "deletable": false,
    "editable": false,
    "nbgrader": {
     "cell_type": "code",
     "checksum": "840c3f77e6e544828473a609844f78d4",
     "grade": true,
     "grade_id": "cell-754dfe1d720a58bc",
     "locked": true,
     "points": 5,
     "schema_version": 3,
     "solution": false,
     "task": false
    }
   },
   "outputs": [],
   "source": [
    "# check whether your answer is correct (hidden test)\n",
    "\n"
   ]
  },
  {
   "cell_type": "markdown",
   "metadata": {
    "deletable": false,
    "editable": false,
    "nbgrader": {
     "cell_type": "markdown",
     "checksum": "48cb4f303ce91a8aef5dda6ad4e471b5",
     "grade": false,
     "grade_id": "cell-61cc735ce66b40af",
     "locked": true,
     "schema_version": 3,
     "solution": false,
     "task": false
    }
   },
   "source": [
    "###  Question 4\n",
    "\n",
    "There are 45 wild hogs in a forest, of which 8 were caught earlier and labeled. Some time later, for the purpose of monitoring health of the population, 5 traps were set to catch 5 hogs (randomly from these 45 wild hogs, one hog per trap). Assume all the indivuduals have the same chance of being captured.\n",
    "\n",
    "What is the probability that out of the five wild hogs captured, exactly 2 were previously labeled. \n",
    "\n",
    "Write your answer as\n",
    "\n",
    "`ans = <some expression>`\n",
    "\n",
    "<br>\n",
    "\n",
    "That is, create R variable `ans` which stores the value of the desired probability.\n",
    "\n",
    "Hint: you may want to use R function `choose(n,k)` for binomial coefficient $n \\choose k$."
   ]
  },
  {
   "cell_type": "code",
   "execution_count": 21,
   "metadata": {
    "deletable": false,
    "nbgrader": {
     "cell_type": "code",
     "checksum": "8e28594bd3ce405c04f27d1776cd495c",
     "grade": false,
     "grade_id": "cell-b47176c2973e8269",
     "locked": false,
     "schema_version": 3,
     "solution": true,
     "task": false
    }
   },
   "outputs": [],
   "source": [
    "\n",
    "ans = (choose(8,2)*choose(37,3))/choose(45,5)\n"
   ]
  },
  {
   "cell_type": "code",
   "execution_count": 22,
   "metadata": {
    "deletable": false,
    "editable": false,
    "nbgrader": {
     "cell_type": "code",
     "checksum": "879f40b7628fb255bd42486a4a38da1d",
     "grade": true,
     "grade_id": "cell-c2e20e0ec9906b47",
     "locked": true,
     "points": 1,
     "schema_version": 3,
     "solution": false,
     "task": false
    }
   },
   "outputs": [
    {
     "name": "stdout",
     "output_type": "stream",
     "text": [
      "\u001b[32mTest passed\u001b[39m 🥳\n"
     ]
    }
   ],
   "source": [
    "# Check whether 5th and 6th decimal digits are 7 and 1, respectively\n",
    "\n",
    "if (test_that(desc=\"\", code={\n",
    "    expect_equal( (floor(ans*10^6) %% 100 == 71), TRUE)\n",
    "    }) != TRUE) stop(\"Sorry, your variable ans is incorrect.\")\n",
    "\n"
   ]
  },
  {
   "cell_type": "code",
   "execution_count": 23,
   "metadata": {
    "deletable": false,
    "editable": false,
    "nbgrader": {
     "cell_type": "code",
     "checksum": "ef007e9720f8abc2b20b185f744aaabb",
     "grade": true,
     "grade_id": "cell-9ab1eafdd52f3386",
     "locked": true,
     "points": 8,
     "schema_version": 3,
     "solution": false,
     "task": false
    }
   },
   "outputs": [],
   "source": [
    "# Check whether the answer is correct (hidden test)\n",
    "\n"
   ]
  },
  {
   "cell_type": "markdown",
   "metadata": {
    "deletable": false,
    "editable": false,
    "nbgrader": {
     "cell_type": "markdown",
     "checksum": "e78ae56fa9cdf0ba2c7093706e02a7b1",
     "grade": false,
     "grade_id": "cell-2ed53eece8bf4aa6",
     "locked": true,
     "schema_version": 3,
     "solution": false,
     "task": false
    }
   },
   "source": [
    "### Question 5\n",
    "\n",
    "Consider two boxes: box I contains 3 blue and 2 red marbles; box II contains 3 blue and 5 red marbles. A box is selected at random, and a marble is drawn from it at random.\n",
    "\n",
    "\n",
    "#### Part a)\n",
    "\n",
    "What is the probability that the selected marble is blue? Do NOT round your answer.\n",
    "\n",
    "<br>\n",
    "\n",
    "Create a variable `pB` that stores the value of this probability. That is, write your answer as\n",
    "\n",
    "`pB = <some expression>`\n",
    "\n",
    "<br>\n"
   ]
  },
  {
   "cell_type": "code",
   "execution_count": 24,
   "metadata": {
    "deletable": false,
    "nbgrader": {
     "cell_type": "code",
     "checksum": "53b4e10f0c0ddad98ba706501288b37a",
     "grade": false,
     "grade_id": "cell-2dbfdff3b6a44714",
     "locked": false,
     "schema_version": 3,
     "solution": true,
     "task": false
    }
   },
   "outputs": [],
   "source": [
    "\n",
    "pB = (1/2)*(3/5) + (1/2)*(3/8)\n"
   ]
  },
  {
   "cell_type": "code",
   "execution_count": 25,
   "metadata": {
    "deletable": false,
    "editable": false,
    "nbgrader": {
     "cell_type": "code",
     "checksum": "e49e360611e0e85a826581ab7bd32f5f",
     "grade": true,
     "grade_id": "cell-f43b98d61c4449f5",
     "locked": true,
     "points": 1,
     "schema_version": 3,
     "solution": false,
     "task": false
    }
   },
   "outputs": [
    {
     "name": "stdout",
     "output_type": "stream",
     "text": [
      "\u001b[32mTest passed\u001b[39m 🥳\n",
      "\u001b[32mTest passed\u001b[39m 🌈\n"
     ]
    }
   ],
   "source": [
    "# Check whether pB is numeric and the 4th decimal digit is 5\n",
    "\n",
    "if (test_that(desc=\"\", code={\n",
    "    expect_equal( is.numeric(pB), TRUE)\n",
    "    }) != TRUE) stop(\"Sorry, your variable pB is not numeric.\")\n",
    "\n",
    "if (test_that(desc=\"\", code={\n",
    "    expect_equal( (floor(pB*10^4) %% 10 == 5), TRUE)\n",
    "    }) != TRUE) stop(\"Sorry, your variable pB is incorrect.\")\n"
   ]
  },
  {
   "cell_type": "code",
   "execution_count": 26,
   "metadata": {
    "deletable": false,
    "editable": false,
    "nbgrader": {
     "cell_type": "code",
     "checksum": "afd824348d611bf4b16b39504bb771ce",
     "grade": true,
     "grade_id": "cell-51210f0cac13db74",
     "locked": true,
     "points": 4,
     "schema_version": 3,
     "solution": false,
     "task": false
    }
   },
   "outputs": [],
   "source": [
    "# Check whether the answer is correct (hidden test)\n"
   ]
  },
  {
   "cell_type": "markdown",
   "metadata": {
    "deletable": false,
    "editable": false,
    "nbgrader": {
     "cell_type": "markdown",
     "checksum": "987ef969c4a2c8d787c67d871cc6ef60",
     "grade": false,
     "grade_id": "cell-23594ca045658359",
     "locked": true,
     "schema_version": 3,
     "solution": false,
     "task": false
    }
   },
   "source": [
    "#### Part b)\n",
    "\n",
    "If the chosen marble is blue, what is the probability that it was taken from the box I\n",
    "? Do NOT round your answer.\n",
    "\n",
    "Create a variable `pIgivenB` which is equal to the desired probability.\n",
    "\n",
    "`pIgivenB = <some expression>`\n"
   ]
  },
  {
   "cell_type": "code",
   "execution_count": 27,
   "metadata": {
    "deletable": false,
    "nbgrader": {
     "cell_type": "code",
     "checksum": "e7e6aa28c91d3df1fc44e12cc62a049c",
     "grade": false,
     "grade_id": "cell-ac39003bfbc06adc",
     "locked": false,
     "schema_version": 3,
     "solution": true,
     "task": false
    }
   },
   "outputs": [],
   "source": [
    "\n",
    "pB = (1/2)*(3/5) + (1/2)*(3/8)\n",
    "pIgivenB = ((3/5)*(1/2))/pB\n"
   ]
  },
  {
   "cell_type": "code",
   "execution_count": 28,
   "metadata": {
    "deletable": false,
    "editable": false,
    "nbgrader": {
     "cell_type": "code",
     "checksum": "b17e24b298289f068b4fad642c01c26f",
     "grade": true,
     "grade_id": "cell-786e4bf04cdba54c",
     "locked": true,
     "points": 1,
     "schema_version": 3,
     "solution": false,
     "task": false
    }
   },
   "outputs": [
    {
     "name": "stdout",
     "output_type": "stream",
     "text": [
      "\u001b[32mTest passed\u001b[39m 🎊\n",
      "\u001b[32mTest passed\u001b[39m 🥳\n"
     ]
    }
   ],
   "source": [
    "# check whether pIgivenB is in [0,1], and whether its 5th and 6th decimal digits are 8 and 4\n",
    "\n",
    "if (test_that(desc=\"\", code={\n",
    "    expect_equal( (0 <= pIgivenB) & (pIgivenB <= 1), TRUE)\n",
    "    }) != TRUE) stop(\"Sorry, your answer should be a number from interval [0,1]\")\n",
    "\n",
    "if (test_that(desc=\"\", code={\n",
    "    expect_equal( (floor(pIgivenB*10^6) %% 100 == 84), TRUE)\n",
    "    }) != TRUE) stop(\"Sorry, wrong answer.\")\n"
   ]
  },
  {
   "cell_type": "code",
   "execution_count": 29,
   "metadata": {
    "deletable": false,
    "editable": false,
    "nbgrader": {
     "cell_type": "code",
     "checksum": "9c5083e0f6dd00cbd583986b6ac2edac",
     "grade": true,
     "grade_id": "cell-c97e77e0bbbb5eb6",
     "locked": true,
     "points": 4,
     "schema_version": 3,
     "solution": false,
     "task": false
    }
   },
   "outputs": [],
   "source": [
    "# Check whether the answer is correct (hidden test)\n"
   ]
  },
  {
   "cell_type": "markdown",
   "metadata": {
    "deletable": false,
    "editable": false,
    "nbgrader": {
     "cell_type": "markdown",
     "checksum": "bf53f178315ee591d48f5ef62b064270",
     "grade": false,
     "grade_id": "cell-9f48ce2a001123e5",
     "locked": true,
     "schema_version": 3,
     "solution": false,
     "task": false
    }
   },
   "source": [
    "### Question 6\n",
    "\n",
    "A blood test indicates the presence of a particular disease 96% of the time when the disease is actually present. The same test indicates the presence of the disease 1.7% of the time when the disease is not present (false positive). Three percent of the population actually has the disease. If a person gets tested and the test turns positive (suggestion the disease), what is the probability that the person does have the disease? Do NOT round your answer. \n",
    "<br>\n",
    "\n",
    "Write your answer as\n",
    "\n",
    "`ans = <some expression>`\n",
    "\n",
    "<br>\n",
    "\n",
    "That is, create R variable `ans` which stores the value of the desired probability."
   ]
  },
  {
   "cell_type": "code",
   "execution_count": 30,
   "metadata": {
    "deletable": false,
    "nbgrader": {
     "cell_type": "code",
     "checksum": "7f85a0233e14531e51de92c485a8933d",
     "grade": false,
     "grade_id": "cell-81782da06f5039bd",
     "locked": false,
     "schema_version": 3,
     "solution": true,
     "task": false
    }
   },
   "outputs": [],
   "source": [
    "pT = (0.96 * 0.03) + (0.017 * 0.97)\n",
    "ans = (0.96 * 0.03)/pT\n"
   ]
  },
  {
   "cell_type": "code",
   "execution_count": 31,
   "metadata": {
    "deletable": false,
    "editable": false,
    "nbgrader": {
     "cell_type": "code",
     "checksum": "e16dbcd0938b9bab021148539cf86257",
     "grade": true,
     "grade_id": "cell-40ec419bf1c4739c",
     "locked": true,
     "points": 1,
     "schema_version": 3,
     "solution": false,
     "task": false
    }
   },
   "outputs": [
    {
     "name": "stdout",
     "output_type": "stream",
     "text": [
      "\u001b[32mTest passed\u001b[39m 😸\n"
     ]
    }
   ],
   "source": [
    "# Check whether the answer is numeric and from the interval [0,1] - since it's a probability\"\"\"\n",
    "\n",
    "if (test_that(desc=\"\", code={\n",
    "    expect_equal((0 <= ans) & (ans <= 1), TRUE)\n",
    "    }) != TRUE) stop(\"Sorry, ans should be a numeric variable between 0 and 1.\")\n",
    "\n"
   ]
  },
  {
   "cell_type": "code",
   "execution_count": 32,
   "metadata": {
    "deletable": false,
    "editable": false,
    "nbgrader": {
     "cell_type": "code",
     "checksum": "0b4748ec0a762bc13846938b83e7840a",
     "grade": true,
     "grade_id": "cell-4ef29a04ae5b2026",
     "locked": true,
     "points": 1,
     "schema_version": 3,
     "solution": false,
     "task": false
    }
   },
   "outputs": [
    {
     "name": "stdout",
     "output_type": "stream",
     "text": [
      "\u001b[32mTest passed\u001b[39m 🌈\n"
     ]
    }
   ],
   "source": [
    "# Check whether 4th and 5th decimal digits are 0 and 1, respectively\n",
    "\n",
    "if (test_that(desc=\"\", code={\n",
    "    expect_equal( (floor(ans*10^5) %% 100 == 90), TRUE)\n",
    "    }) != TRUE) stop(\"Sorry, your variable ans is incorrect.\")\n",
    "\n"
   ]
  },
  {
   "cell_type": "code",
   "execution_count": 33,
   "metadata": {
    "deletable": false,
    "editable": false,
    "nbgrader": {
     "cell_type": "code",
     "checksum": "5e2aa32c682e3b6a2cc12a8118c40611",
     "grade": true,
     "grade_id": "cell-fd92e4accd3c9d4e",
     "locked": true,
     "points": 8,
     "schema_version": 3,
     "solution": false,
     "task": false
    }
   },
   "outputs": [],
   "source": [
    "# Check whether the answer is correct (hidden test)\n",
    "\n"
   ]
  }
 ],
 "metadata": {
  "kernelspec": {
   "display_name": "R",
   "language": "R",
   "name": "ir"
  },
  "language_info": {
   "codemirror_mode": "r",
   "file_extension": ".r",
   "mimetype": "text/x-r-source",
   "name": "R",
   "pygments_lexer": "r",
   "version": "4.3.3"
  }
 },
 "nbformat": 4,
 "nbformat_minor": 2
}
